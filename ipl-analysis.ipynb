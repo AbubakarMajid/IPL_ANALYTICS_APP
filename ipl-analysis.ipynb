{
 "cells": [
  {
   "cell_type": "markdown",
   "id": "2d3ad4ef",
   "metadata": {
    "papermill": {
     "duration": 0.018568,
     "end_time": "2023-04-18T21:15:15.171468",
     "exception": false,
     "start_time": "2023-04-18T21:15:15.152900",
     "status": "completed"
    },
    "tags": []
   },
   "source": [
    "# **IPL DATA ANALYSIS**"
   ]
  },
  {
   "cell_type": "code",
   "execution_count": 1,
   "id": "45094832",
   "metadata": {
    "execution": {
     "iopub.execute_input": "2023-04-18T21:15:15.207603Z",
     "iopub.status.busy": "2023-04-18T21:15:15.206951Z",
     "iopub.status.idle": "2023-04-18T21:15:18.445975Z",
     "shell.execute_reply": "2023-04-18T21:15:18.444475Z"
    },
    "papermill": {
     "duration": 3.261668,
     "end_time": "2023-04-18T21:15:18.449812",
     "exception": false,
     "start_time": "2023-04-18T21:15:15.188144",
     "status": "completed"
    },
    "tags": []
   },
   "outputs": [],
   "source": [
    "# importing libraries\n",
    "\n",
    "import numpy as np\n",
    "import pandas as pd\n",
    "import matplotlib.pyplot as plt\n",
    "import seaborn as sns\n",
    "import datetime as dt\n",
    "import plotly.express as px\n",
    "import matplotlib"
   ]
  },
  {
   "cell_type": "code",
   "execution_count": 2,
   "id": "d44bf7c7",
   "metadata": {
    "execution": {
     "iopub.execute_input": "2023-04-18T21:15:18.487009Z",
     "iopub.status.busy": "2023-04-18T21:15:18.486569Z",
     "iopub.status.idle": "2023-04-18T21:15:18.520961Z",
     "shell.execute_reply": "2023-04-18T21:15:18.519457Z"
    },
    "papermill": {
     "duration": 0.055856,
     "end_time": "2023-04-18T21:15:18.524356",
     "exception": false,
     "start_time": "2023-04-18T21:15:18.468500",
     "status": "completed"
    },
    "tags": []
   },
   "outputs": [],
   "source": [
    "df_1 = pd.read_csv('/kaggle/input/ipl-complete-dataset-20082020/IPL Matches 2008-2020.csv')"
   ]
  },
  {
   "cell_type": "code",
   "execution_count": 3,
   "id": "d765ca53",
   "metadata": {
    "execution": {
     "iopub.execute_input": "2023-04-18T21:15:18.559398Z",
     "iopub.status.busy": "2023-04-18T21:15:18.558616Z",
     "iopub.status.idle": "2023-04-18T21:15:19.421774Z",
     "shell.execute_reply": "2023-04-18T21:15:19.420375Z"
    },
    "papermill": {
     "duration": 0.884139,
     "end_time": "2023-04-18T21:15:19.424778",
     "exception": false,
     "start_time": "2023-04-18T21:15:18.540639",
     "status": "completed"
    },
    "tags": []
   },
   "outputs": [],
   "source": [
    "df_2 = pd.read_csv('/kaggle/input/ipl-complete-dataset-20082020/IPL Ball-by-Ball 2008-2020.csv')"
   ]
  },
  {
   "cell_type": "code",
   "execution_count": 4,
   "id": "d2179d04",
   "metadata": {
    "execution": {
     "iopub.execute_input": "2023-04-18T21:15:19.460743Z",
     "iopub.status.busy": "2023-04-18T21:15:19.460229Z",
     "iopub.status.idle": "2023-04-18T21:15:19.502902Z",
     "shell.execute_reply": "2023-04-18T21:15:19.501243Z"
    },
    "papermill": {
     "duration": 0.063801,
     "end_time": "2023-04-18T21:15:19.505450",
     "exception": false,
     "start_time": "2023-04-18T21:15:19.441649",
     "status": "completed"
    },
    "tags": []
   },
   "outputs": [
    {
     "data": {
      "text/html": [
       "<div>\n",
       "<style scoped>\n",
       "    .dataframe tbody tr th:only-of-type {\n",
       "        vertical-align: middle;\n",
       "    }\n",
       "\n",
       "    .dataframe tbody tr th {\n",
       "        vertical-align: top;\n",
       "    }\n",
       "\n",
       "    .dataframe thead th {\n",
       "        text-align: right;\n",
       "    }\n",
       "</style>\n",
       "<table border=\"1\" class=\"dataframe\">\n",
       "  <thead>\n",
       "    <tr style=\"text-align: right;\">\n",
       "      <th></th>\n",
       "      <th>id</th>\n",
       "      <th>city</th>\n",
       "      <th>date</th>\n",
       "      <th>player_of_match</th>\n",
       "      <th>venue</th>\n",
       "      <th>neutral_venue</th>\n",
       "      <th>team1</th>\n",
       "      <th>team2</th>\n",
       "      <th>toss_winner</th>\n",
       "      <th>toss_decision</th>\n",
       "      <th>winner</th>\n",
       "      <th>result</th>\n",
       "      <th>result_margin</th>\n",
       "      <th>eliminator</th>\n",
       "      <th>method</th>\n",
       "      <th>umpire1</th>\n",
       "      <th>umpire2</th>\n",
       "    </tr>\n",
       "  </thead>\n",
       "  <tbody>\n",
       "    <tr>\n",
       "      <th>0</th>\n",
       "      <td>335982</td>\n",
       "      <td>Bangalore</td>\n",
       "      <td>2008-04-18</td>\n",
       "      <td>BB McCullum</td>\n",
       "      <td>M Chinnaswamy Stadium</td>\n",
       "      <td>0</td>\n",
       "      <td>Royal Challengers Bangalore</td>\n",
       "      <td>Kolkata Knight Riders</td>\n",
       "      <td>Royal Challengers Bangalore</td>\n",
       "      <td>field</td>\n",
       "      <td>Kolkata Knight Riders</td>\n",
       "      <td>runs</td>\n",
       "      <td>140.0</td>\n",
       "      <td>N</td>\n",
       "      <td>NaN</td>\n",
       "      <td>Asad Rauf</td>\n",
       "      <td>RE Koertzen</td>\n",
       "    </tr>\n",
       "    <tr>\n",
       "      <th>1</th>\n",
       "      <td>335983</td>\n",
       "      <td>Chandigarh</td>\n",
       "      <td>2008-04-19</td>\n",
       "      <td>MEK Hussey</td>\n",
       "      <td>Punjab Cricket Association Stadium, Mohali</td>\n",
       "      <td>0</td>\n",
       "      <td>Kings XI Punjab</td>\n",
       "      <td>Chennai Super Kings</td>\n",
       "      <td>Chennai Super Kings</td>\n",
       "      <td>bat</td>\n",
       "      <td>Chennai Super Kings</td>\n",
       "      <td>runs</td>\n",
       "      <td>33.0</td>\n",
       "      <td>N</td>\n",
       "      <td>NaN</td>\n",
       "      <td>MR Benson</td>\n",
       "      <td>SL Shastri</td>\n",
       "    </tr>\n",
       "    <tr>\n",
       "      <th>2</th>\n",
       "      <td>335984</td>\n",
       "      <td>Delhi</td>\n",
       "      <td>2008-04-19</td>\n",
       "      <td>MF Maharoof</td>\n",
       "      <td>Feroz Shah Kotla</td>\n",
       "      <td>0</td>\n",
       "      <td>Delhi Daredevils</td>\n",
       "      <td>Rajasthan Royals</td>\n",
       "      <td>Rajasthan Royals</td>\n",
       "      <td>bat</td>\n",
       "      <td>Delhi Daredevils</td>\n",
       "      <td>wickets</td>\n",
       "      <td>9.0</td>\n",
       "      <td>N</td>\n",
       "      <td>NaN</td>\n",
       "      <td>Aleem Dar</td>\n",
       "      <td>GA Pratapkumar</td>\n",
       "    </tr>\n",
       "    <tr>\n",
       "      <th>3</th>\n",
       "      <td>335985</td>\n",
       "      <td>Mumbai</td>\n",
       "      <td>2008-04-20</td>\n",
       "      <td>MV Boucher</td>\n",
       "      <td>Wankhede Stadium</td>\n",
       "      <td>0</td>\n",
       "      <td>Mumbai Indians</td>\n",
       "      <td>Royal Challengers Bangalore</td>\n",
       "      <td>Mumbai Indians</td>\n",
       "      <td>bat</td>\n",
       "      <td>Royal Challengers Bangalore</td>\n",
       "      <td>wickets</td>\n",
       "      <td>5.0</td>\n",
       "      <td>N</td>\n",
       "      <td>NaN</td>\n",
       "      <td>SJ Davis</td>\n",
       "      <td>DJ Harper</td>\n",
       "    </tr>\n",
       "    <tr>\n",
       "      <th>4</th>\n",
       "      <td>335986</td>\n",
       "      <td>Kolkata</td>\n",
       "      <td>2008-04-20</td>\n",
       "      <td>DJ Hussey</td>\n",
       "      <td>Eden Gardens</td>\n",
       "      <td>0</td>\n",
       "      <td>Kolkata Knight Riders</td>\n",
       "      <td>Deccan Chargers</td>\n",
       "      <td>Deccan Chargers</td>\n",
       "      <td>bat</td>\n",
       "      <td>Kolkata Knight Riders</td>\n",
       "      <td>wickets</td>\n",
       "      <td>5.0</td>\n",
       "      <td>N</td>\n",
       "      <td>NaN</td>\n",
       "      <td>BF Bowden</td>\n",
       "      <td>K Hariharan</td>\n",
       "    </tr>\n",
       "  </tbody>\n",
       "</table>\n",
       "</div>"
      ],
      "text/plain": [
       "       id        city        date player_of_match  \\\n",
       "0  335982   Bangalore  2008-04-18     BB McCullum   \n",
       "1  335983  Chandigarh  2008-04-19      MEK Hussey   \n",
       "2  335984       Delhi  2008-04-19     MF Maharoof   \n",
       "3  335985      Mumbai  2008-04-20      MV Boucher   \n",
       "4  335986     Kolkata  2008-04-20       DJ Hussey   \n",
       "\n",
       "                                        venue  neutral_venue  \\\n",
       "0                       M Chinnaswamy Stadium              0   \n",
       "1  Punjab Cricket Association Stadium, Mohali              0   \n",
       "2                            Feroz Shah Kotla              0   \n",
       "3                            Wankhede Stadium              0   \n",
       "4                                Eden Gardens              0   \n",
       "\n",
       "                         team1                        team2  \\\n",
       "0  Royal Challengers Bangalore        Kolkata Knight Riders   \n",
       "1              Kings XI Punjab          Chennai Super Kings   \n",
       "2             Delhi Daredevils             Rajasthan Royals   \n",
       "3               Mumbai Indians  Royal Challengers Bangalore   \n",
       "4        Kolkata Knight Riders              Deccan Chargers   \n",
       "\n",
       "                   toss_winner toss_decision                       winner  \\\n",
       "0  Royal Challengers Bangalore         field        Kolkata Knight Riders   \n",
       "1          Chennai Super Kings           bat          Chennai Super Kings   \n",
       "2             Rajasthan Royals           bat             Delhi Daredevils   \n",
       "3               Mumbai Indians           bat  Royal Challengers Bangalore   \n",
       "4              Deccan Chargers           bat        Kolkata Knight Riders   \n",
       "\n",
       "    result  result_margin eliminator method    umpire1         umpire2  \n",
       "0     runs          140.0          N    NaN  Asad Rauf     RE Koertzen  \n",
       "1     runs           33.0          N    NaN  MR Benson      SL Shastri  \n",
       "2  wickets            9.0          N    NaN  Aleem Dar  GA Pratapkumar  \n",
       "3  wickets            5.0          N    NaN   SJ Davis       DJ Harper  \n",
       "4  wickets            5.0          N    NaN  BF Bowden     K Hariharan  "
      ]
     },
     "execution_count": 4,
     "metadata": {},
     "output_type": "execute_result"
    }
   ],
   "source": [
    "df_1.head()"
   ]
  },
  {
   "cell_type": "code",
   "execution_count": 5,
   "id": "3194af4a",
   "metadata": {
    "execution": {
     "iopub.execute_input": "2023-04-18T21:15:19.541677Z",
     "iopub.status.busy": "2023-04-18T21:15:19.540753Z",
     "iopub.status.idle": "2023-04-18T21:15:19.561872Z",
     "shell.execute_reply": "2023-04-18T21:15:19.560696Z"
    },
    "papermill": {
     "duration": 0.04262,
     "end_time": "2023-04-18T21:15:19.564864",
     "exception": false,
     "start_time": "2023-04-18T21:15:19.522244",
     "status": "completed"
    },
    "tags": []
   },
   "outputs": [
    {
     "data": {
      "text/html": [
       "<div>\n",
       "<style scoped>\n",
       "    .dataframe tbody tr th:only-of-type {\n",
       "        vertical-align: middle;\n",
       "    }\n",
       "\n",
       "    .dataframe tbody tr th {\n",
       "        vertical-align: top;\n",
       "    }\n",
       "\n",
       "    .dataframe thead th {\n",
       "        text-align: right;\n",
       "    }\n",
       "</style>\n",
       "<table border=\"1\" class=\"dataframe\">\n",
       "  <thead>\n",
       "    <tr style=\"text-align: right;\">\n",
       "      <th></th>\n",
       "      <th>id</th>\n",
       "      <th>inning</th>\n",
       "      <th>over</th>\n",
       "      <th>ball</th>\n",
       "      <th>batsman</th>\n",
       "      <th>non_striker</th>\n",
       "      <th>bowler</th>\n",
       "      <th>batsman_runs</th>\n",
       "      <th>extra_runs</th>\n",
       "      <th>total_runs</th>\n",
       "      <th>non_boundary</th>\n",
       "      <th>is_wicket</th>\n",
       "      <th>dismissal_kind</th>\n",
       "      <th>player_dismissed</th>\n",
       "      <th>fielder</th>\n",
       "      <th>extras_type</th>\n",
       "      <th>batting_team</th>\n",
       "      <th>bowling_team</th>\n",
       "    </tr>\n",
       "  </thead>\n",
       "  <tbody>\n",
       "    <tr>\n",
       "      <th>0</th>\n",
       "      <td>335982</td>\n",
       "      <td>1</td>\n",
       "      <td>6</td>\n",
       "      <td>5</td>\n",
       "      <td>RT Ponting</td>\n",
       "      <td>BB McCullum</td>\n",
       "      <td>AA Noffke</td>\n",
       "      <td>1</td>\n",
       "      <td>0</td>\n",
       "      <td>1</td>\n",
       "      <td>0</td>\n",
       "      <td>0</td>\n",
       "      <td>NaN</td>\n",
       "      <td>NaN</td>\n",
       "      <td>NaN</td>\n",
       "      <td>NaN</td>\n",
       "      <td>Kolkata Knight Riders</td>\n",
       "      <td>Royal Challengers Bangalore</td>\n",
       "    </tr>\n",
       "    <tr>\n",
       "      <th>1</th>\n",
       "      <td>335982</td>\n",
       "      <td>1</td>\n",
       "      <td>6</td>\n",
       "      <td>6</td>\n",
       "      <td>BB McCullum</td>\n",
       "      <td>RT Ponting</td>\n",
       "      <td>AA Noffke</td>\n",
       "      <td>1</td>\n",
       "      <td>0</td>\n",
       "      <td>1</td>\n",
       "      <td>0</td>\n",
       "      <td>0</td>\n",
       "      <td>NaN</td>\n",
       "      <td>NaN</td>\n",
       "      <td>NaN</td>\n",
       "      <td>NaN</td>\n",
       "      <td>Kolkata Knight Riders</td>\n",
       "      <td>Royal Challengers Bangalore</td>\n",
       "    </tr>\n",
       "    <tr>\n",
       "      <th>2</th>\n",
       "      <td>335982</td>\n",
       "      <td>1</td>\n",
       "      <td>7</td>\n",
       "      <td>1</td>\n",
       "      <td>BB McCullum</td>\n",
       "      <td>RT Ponting</td>\n",
       "      <td>Z Khan</td>\n",
       "      <td>0</td>\n",
       "      <td>0</td>\n",
       "      <td>0</td>\n",
       "      <td>0</td>\n",
       "      <td>0</td>\n",
       "      <td>NaN</td>\n",
       "      <td>NaN</td>\n",
       "      <td>NaN</td>\n",
       "      <td>NaN</td>\n",
       "      <td>Kolkata Knight Riders</td>\n",
       "      <td>Royal Challengers Bangalore</td>\n",
       "    </tr>\n",
       "    <tr>\n",
       "      <th>3</th>\n",
       "      <td>335982</td>\n",
       "      <td>1</td>\n",
       "      <td>7</td>\n",
       "      <td>2</td>\n",
       "      <td>BB McCullum</td>\n",
       "      <td>RT Ponting</td>\n",
       "      <td>Z Khan</td>\n",
       "      <td>1</td>\n",
       "      <td>0</td>\n",
       "      <td>1</td>\n",
       "      <td>0</td>\n",
       "      <td>0</td>\n",
       "      <td>NaN</td>\n",
       "      <td>NaN</td>\n",
       "      <td>NaN</td>\n",
       "      <td>NaN</td>\n",
       "      <td>Kolkata Knight Riders</td>\n",
       "      <td>Royal Challengers Bangalore</td>\n",
       "    </tr>\n",
       "    <tr>\n",
       "      <th>4</th>\n",
       "      <td>335982</td>\n",
       "      <td>1</td>\n",
       "      <td>7</td>\n",
       "      <td>3</td>\n",
       "      <td>RT Ponting</td>\n",
       "      <td>BB McCullum</td>\n",
       "      <td>Z Khan</td>\n",
       "      <td>1</td>\n",
       "      <td>0</td>\n",
       "      <td>1</td>\n",
       "      <td>0</td>\n",
       "      <td>0</td>\n",
       "      <td>NaN</td>\n",
       "      <td>NaN</td>\n",
       "      <td>NaN</td>\n",
       "      <td>NaN</td>\n",
       "      <td>Kolkata Knight Riders</td>\n",
       "      <td>Royal Challengers Bangalore</td>\n",
       "    </tr>\n",
       "  </tbody>\n",
       "</table>\n",
       "</div>"
      ],
      "text/plain": [
       "       id  inning  over  ball      batsman  non_striker     bowler  \\\n",
       "0  335982       1     6     5   RT Ponting  BB McCullum  AA Noffke   \n",
       "1  335982       1     6     6  BB McCullum   RT Ponting  AA Noffke   \n",
       "2  335982       1     7     1  BB McCullum   RT Ponting     Z Khan   \n",
       "3  335982       1     7     2  BB McCullum   RT Ponting     Z Khan   \n",
       "4  335982       1     7     3   RT Ponting  BB McCullum     Z Khan   \n",
       "\n",
       "   batsman_runs  extra_runs  total_runs  non_boundary  is_wicket  \\\n",
       "0             1           0           1             0          0   \n",
       "1             1           0           1             0          0   \n",
       "2             0           0           0             0          0   \n",
       "3             1           0           1             0          0   \n",
       "4             1           0           1             0          0   \n",
       "\n",
       "  dismissal_kind player_dismissed fielder extras_type           batting_team  \\\n",
       "0            NaN              NaN     NaN         NaN  Kolkata Knight Riders   \n",
       "1            NaN              NaN     NaN         NaN  Kolkata Knight Riders   \n",
       "2            NaN              NaN     NaN         NaN  Kolkata Knight Riders   \n",
       "3            NaN              NaN     NaN         NaN  Kolkata Knight Riders   \n",
       "4            NaN              NaN     NaN         NaN  Kolkata Knight Riders   \n",
       "\n",
       "                  bowling_team  \n",
       "0  Royal Challengers Bangalore  \n",
       "1  Royal Challengers Bangalore  \n",
       "2  Royal Challengers Bangalore  \n",
       "3  Royal Challengers Bangalore  \n",
       "4  Royal Challengers Bangalore  "
      ]
     },
     "execution_count": 5,
     "metadata": {},
     "output_type": "execute_result"
    }
   ],
   "source": [
    "df_2.head()"
   ]
  },
  {
   "cell_type": "code",
   "execution_count": 6,
   "id": "112018bc",
   "metadata": {
    "execution": {
     "iopub.execute_input": "2023-04-18T21:15:19.601463Z",
     "iopub.status.busy": "2023-04-18T21:15:19.600248Z",
     "iopub.status.idle": "2023-04-18T21:15:19.612164Z",
     "shell.execute_reply": "2023-04-18T21:15:19.610854Z"
    },
    "papermill": {
     "duration": 0.032822,
     "end_time": "2023-04-18T21:15:19.614567",
     "exception": false,
     "start_time": "2023-04-18T21:15:19.581745",
     "status": "completed"
    },
    "tags": []
   },
   "outputs": [
    {
     "data": {
      "text/plain": [
       "id                   0\n",
       "city                13\n",
       "date                 0\n",
       "player_of_match      4\n",
       "venue                0\n",
       "neutral_venue        0\n",
       "team1                0\n",
       "team2                0\n",
       "toss_winner          0\n",
       "toss_decision        0\n",
       "winner               4\n",
       "result               4\n",
       "result_margin       17\n",
       "eliminator           4\n",
       "method             797\n",
       "umpire1              0\n",
       "umpire2              0\n",
       "dtype: int64"
      ]
     },
     "execution_count": 6,
     "metadata": {},
     "output_type": "execute_result"
    }
   ],
   "source": [
    "# checking for missing values\n",
    "df_1.isnull().sum()"
   ]
  },
  {
   "cell_type": "code",
   "execution_count": 7,
   "id": "1bcebcf7",
   "metadata": {
    "execution": {
     "iopub.execute_input": "2023-04-18T21:15:19.651745Z",
     "iopub.status.busy": "2023-04-18T21:15:19.650257Z",
     "iopub.status.idle": "2023-04-18T21:15:19.743553Z",
     "shell.execute_reply": "2023-04-18T21:15:19.742214Z"
    },
    "papermill": {
     "duration": 0.115414,
     "end_time": "2023-04-18T21:15:19.747017",
     "exception": false,
     "start_time": "2023-04-18T21:15:19.631603",
     "status": "completed"
    },
    "tags": []
   },
   "outputs": [
    {
     "data": {
      "text/plain": [
       "id                       0\n",
       "inning                   0\n",
       "over                     0\n",
       "ball                     0\n",
       "batsman                  0\n",
       "non_striker              0\n",
       "bowler                   0\n",
       "batsman_runs             0\n",
       "extra_runs               0\n",
       "total_runs               0\n",
       "non_boundary             0\n",
       "is_wicket                0\n",
       "dismissal_kind      183973\n",
       "player_dismissed    183973\n",
       "fielder             186684\n",
       "extras_type         183235\n",
       "batting_team             0\n",
       "bowling_team           191\n",
       "dtype: int64"
      ]
     },
     "execution_count": 7,
     "metadata": {},
     "output_type": "execute_result"
    }
   ],
   "source": [
    "# checking for missing values\n",
    "df_2.isnull().sum()"
   ]
  },
  {
   "cell_type": "code",
   "execution_count": 8,
   "id": "36695032",
   "metadata": {
    "execution": {
     "iopub.execute_input": "2023-04-18T21:15:19.784569Z",
     "iopub.status.busy": "2023-04-18T21:15:19.783726Z",
     "iopub.status.idle": "2023-04-18T21:15:19.791622Z",
     "shell.execute_reply": "2023-04-18T21:15:19.790648Z"
    },
    "papermill": {
     "duration": 0.02975,
     "end_time": "2023-04-18T21:15:19.794044",
     "exception": false,
     "start_time": "2023-04-18T21:15:19.764294",
     "status": "completed"
    },
    "tags": []
   },
   "outputs": [
    {
     "data": {
      "text/plain": [
       "Index(['id', 'city', 'date', 'player_of_match', 'venue', 'neutral_venue',\n",
       "       'team1', 'team2', 'toss_winner', 'toss_decision', 'winner', 'result',\n",
       "       'result_margin', 'eliminator', 'method', 'umpire1', 'umpire2'],\n",
       "      dtype='object')"
      ]
     },
     "execution_count": 8,
     "metadata": {},
     "output_type": "execute_result"
    }
   ],
   "source": [
    "#lets check for columns\n",
    "\n",
    "df_1.columns"
   ]
  },
  {
   "cell_type": "code",
   "execution_count": 9,
   "id": "c979faa8",
   "metadata": {
    "execution": {
     "iopub.execute_input": "2023-04-18T21:15:19.831183Z",
     "iopub.status.busy": "2023-04-18T21:15:19.830261Z",
     "iopub.status.idle": "2023-04-18T21:15:19.838552Z",
     "shell.execute_reply": "2023-04-18T21:15:19.837059Z"
    },
    "papermill": {
     "duration": 0.029911,
     "end_time": "2023-04-18T21:15:19.841135",
     "exception": false,
     "start_time": "2023-04-18T21:15:19.811224",
     "status": "completed"
    },
    "tags": []
   },
   "outputs": [
    {
     "name": "stdout",
     "output_type": "stream",
     "text": [
      "Toyal number of matches played so far are 816\n"
     ]
    }
   ],
   "source": [
    "print(f'Toyal number of matches played so far are {df_1.shape[0]}')"
   ]
  },
  {
   "cell_type": "code",
   "execution_count": 10,
   "id": "ee408bb6",
   "metadata": {
    "execution": {
     "iopub.execute_input": "2023-04-18T21:15:19.880494Z",
     "iopub.status.busy": "2023-04-18T21:15:19.879548Z",
     "iopub.status.idle": "2023-04-18T21:15:19.894830Z",
     "shell.execute_reply": "2023-04-18T21:15:19.893149Z"
    },
    "papermill": {
     "duration": 0.037902,
     "end_time": "2023-04-18T21:15:19.897499",
     "exception": false,
     "start_time": "2023-04-18T21:15:19.859597",
     "status": "completed"
    },
    "tags": []
   },
   "outputs": [
    {
     "name": "stdout",
     "output_type": "stream",
     "text": [
      "All the teams which've played ever in IPL are :\n",
      "        ['Royal Challengers Bangalore' 'Kings XI Punjab' 'Delhi Daredevils'\n",
      " 'Mumbai Indians' 'Kolkata Knight Riders' 'Rajasthan Royals'\n",
      " 'Deccan Chargers' 'Chennai Super Kings' 'Kochi Tuskers Kerala'\n",
      " 'Pune Warriors' 'Sunrisers Hyderabad' 'Gujarat Lions'\n",
      " 'Rising Pune Supergiants' 'Rising Pune Supergiant' 'Delhi Capitals']\n"
     ]
    }
   ],
   "source": [
    "print(f\"\"\"All the teams which've played ever in IPL are :\n",
    "        {df_1.team1.unique()}\"\"\")"
   ]
  },
  {
   "cell_type": "markdown",
   "id": "97b15395",
   "metadata": {
    "papermill": {
     "duration": 0.01723,
     "end_time": "2023-04-18T21:15:19.933229",
     "exception": false,
     "start_time": "2023-04-18T21:15:19.915999",
     "status": "completed"
    },
    "tags": []
   },
   "source": [
    "# **Data Cleaning**\n",
    "\n",
    "Here we can see that Rising Pune Supergiants and \n",
    "Rising Pune Supergiant are two different teams , in fact these are the same team and it's a typo here.\n",
    "\n",
    "we can also check team 2 column and toss_winner for any typo."
   ]
  },
  {
   "cell_type": "code",
   "execution_count": 11,
   "id": "f8e9dec6",
   "metadata": {
    "execution": {
     "iopub.execute_input": "2023-04-18T21:15:19.970545Z",
     "iopub.status.busy": "2023-04-18T21:15:19.969715Z",
     "iopub.status.idle": "2023-04-18T21:15:19.977389Z",
     "shell.execute_reply": "2023-04-18T21:15:19.976172Z"
    },
    "papermill": {
     "duration": 0.029224,
     "end_time": "2023-04-18T21:15:19.979878",
     "exception": false,
     "start_time": "2023-04-18T21:15:19.950654",
     "status": "completed"
    },
    "tags": []
   },
   "outputs": [
    {
     "data": {
      "text/plain": [
       "array(['Kolkata Knight Riders', 'Chennai Super Kings', 'Rajasthan Royals',\n",
       "       'Royal Challengers Bangalore', 'Deccan Chargers',\n",
       "       'Kings XI Punjab', 'Delhi Daredevils', 'Mumbai Indians',\n",
       "       'Kochi Tuskers Kerala', 'Pune Warriors', 'Sunrisers Hyderabad',\n",
       "       'Rising Pune Supergiants', 'Gujarat Lions',\n",
       "       'Rising Pune Supergiant', 'Delhi Capitals'], dtype=object)"
      ]
     },
     "execution_count": 11,
     "metadata": {},
     "output_type": "execute_result"
    }
   ],
   "source": [
    "df_1.team2.unique()"
   ]
  },
  {
   "cell_type": "code",
   "execution_count": 12,
   "id": "34d21daf",
   "metadata": {
    "execution": {
     "iopub.execute_input": "2023-04-18T21:15:20.017077Z",
     "iopub.status.busy": "2023-04-18T21:15:20.016620Z",
     "iopub.status.idle": "2023-04-18T21:15:20.025986Z",
     "shell.execute_reply": "2023-04-18T21:15:20.024764Z"
    },
    "papermill": {
     "duration": 0.031271,
     "end_time": "2023-04-18T21:15:20.028892",
     "exception": false,
     "start_time": "2023-04-18T21:15:19.997621",
     "status": "completed"
    },
    "tags": []
   },
   "outputs": [
    {
     "data": {
      "text/plain": [
       "array(['Royal Challengers Bangalore', 'Chennai Super Kings',\n",
       "       'Rajasthan Royals', 'Mumbai Indians', 'Deccan Chargers',\n",
       "       'Kings XI Punjab', 'Kolkata Knight Riders', 'Delhi Daredevils',\n",
       "       'Kochi Tuskers Kerala', 'Pune Warriors', 'Sunrisers Hyderabad',\n",
       "       'Gujarat Lions', 'Rising Pune Supergiants',\n",
       "       'Rising Pune Supergiant', 'Delhi Capitals'], dtype=object)"
      ]
     },
     "execution_count": 12,
     "metadata": {},
     "output_type": "execute_result"
    }
   ],
   "source": [
    "df_1.toss_winner.unique()"
   ]
  },
  {
   "cell_type": "code",
   "execution_count": 13,
   "id": "b8f28b3a",
   "metadata": {
    "execution": {
     "iopub.execute_input": "2023-04-18T21:15:20.067461Z",
     "iopub.status.busy": "2023-04-18T21:15:20.066676Z",
     "iopub.status.idle": "2023-04-18T21:15:20.074695Z",
     "shell.execute_reply": "2023-04-18T21:15:20.073653Z"
    },
    "papermill": {
     "duration": 0.029555,
     "end_time": "2023-04-18T21:15:20.076957",
     "exception": false,
     "start_time": "2023-04-18T21:15:20.047402",
     "status": "completed"
    },
    "tags": []
   },
   "outputs": [
    {
     "data": {
      "text/plain": [
       "array(['Kolkata Knight Riders', 'Chennai Super Kings', 'Delhi Daredevils',\n",
       "       'Royal Challengers Bangalore', 'Rajasthan Royals',\n",
       "       'Kings XI Punjab', 'Deccan Chargers', 'Mumbai Indians',\n",
       "       'Pune Warriors', 'Kochi Tuskers Kerala', nan,\n",
       "       'Sunrisers Hyderabad', 'Rising Pune Supergiants', 'Gujarat Lions',\n",
       "       'Rising Pune Supergiant', 'Delhi Capitals'], dtype=object)"
      ]
     },
     "execution_count": 13,
     "metadata": {},
     "output_type": "execute_result"
    }
   ],
   "source": [
    "df_1.winner.unique()"
   ]
  },
  {
   "cell_type": "markdown",
   "id": "03354c4a",
   "metadata": {
    "papermill": {
     "duration": 0.017429,
     "end_time": "2023-04-18T21:15:20.112219",
     "exception": false,
     "start_time": "2023-04-18T21:15:20.094790",
     "status": "completed"
    },
    "tags": []
   },
   "source": [
    "We can see the same typo in  both team1 , team2, winner and toss_winner columns . Correct one is Rising Pune Supergiant . So , we can replace Rising Pune Supergiants with Rising Pune Supergiant"
   ]
  },
  {
   "cell_type": "code",
   "execution_count": 14,
   "id": "a4a397fe",
   "metadata": {
    "execution": {
     "iopub.execute_input": "2023-04-18T21:15:20.150666Z",
     "iopub.status.busy": "2023-04-18T21:15:20.149862Z",
     "iopub.status.idle": "2023-04-18T21:15:20.157374Z",
     "shell.execute_reply": "2023-04-18T21:15:20.156368Z"
    },
    "papermill": {
     "duration": 0.029555,
     "end_time": "2023-04-18T21:15:20.159997",
     "exception": false,
     "start_time": "2023-04-18T21:15:20.130442",
     "status": "completed"
    },
    "tags": []
   },
   "outputs": [],
   "source": [
    "df_1['team1'] = df_1.team1.str.replace('Rising Pune Supergiants','Rising Pune Supergiant')"
   ]
  },
  {
   "cell_type": "code",
   "execution_count": 15,
   "id": "ed595c01",
   "metadata": {
    "execution": {
     "iopub.execute_input": "2023-04-18T21:15:20.198662Z",
     "iopub.status.busy": "2023-04-18T21:15:20.198171Z",
     "iopub.status.idle": "2023-04-18T21:15:20.206305Z",
     "shell.execute_reply": "2023-04-18T21:15:20.204721Z"
    },
    "papermill": {
     "duration": 0.030665,
     "end_time": "2023-04-18T21:15:20.209124",
     "exception": false,
     "start_time": "2023-04-18T21:15:20.178459",
     "status": "completed"
    },
    "tags": []
   },
   "outputs": [],
   "source": [
    "df_1['team2'] = df_1.team2.str.replace('Rising Pune Supergiants','Rising Pune Supergiant')"
   ]
  },
  {
   "cell_type": "code",
   "execution_count": 16,
   "id": "16a3eee0",
   "metadata": {
    "execution": {
     "iopub.execute_input": "2023-04-18T21:15:20.246656Z",
     "iopub.status.busy": "2023-04-18T21:15:20.246189Z",
     "iopub.status.idle": "2023-04-18T21:15:20.254088Z",
     "shell.execute_reply": "2023-04-18T21:15:20.252901Z"
    },
    "papermill": {
     "duration": 0.029529,
     "end_time": "2023-04-18T21:15:20.256639",
     "exception": false,
     "start_time": "2023-04-18T21:15:20.227110",
     "status": "completed"
    },
    "tags": []
   },
   "outputs": [],
   "source": [
    "df_1['winner'] = df_1.winner.str.replace('Rising Pune Supergiants','Rising Pune Supergiant')"
   ]
  },
  {
   "cell_type": "code",
   "execution_count": 17,
   "id": "0cdeb996",
   "metadata": {
    "execution": {
     "iopub.execute_input": "2023-04-18T21:15:20.295106Z",
     "iopub.status.busy": "2023-04-18T21:15:20.294678Z",
     "iopub.status.idle": "2023-04-18T21:15:20.301959Z",
     "shell.execute_reply": "2023-04-18T21:15:20.300972Z"
    },
    "papermill": {
     "duration": 0.02969,
     "end_time": "2023-04-18T21:15:20.304010",
     "exception": false,
     "start_time": "2023-04-18T21:15:20.274320",
     "status": "completed"
    },
    "tags": []
   },
   "outputs": [],
   "source": [
    "df_1['toss_winner'] = df_1.toss_winner.str.replace('Rising Pune Supergiants','Rising Pune Supergiant')"
   ]
  },
  {
   "cell_type": "markdown",
   "id": "b2cbf75e",
   "metadata": {
    "papermill": {
     "duration": 0.017281,
     "end_time": "2023-04-18T21:15:20.339007",
     "exception": false,
     "start_time": "2023-04-18T21:15:20.321726",
     "status": "completed"
    },
    "tags": []
   },
   "source": [
    "**Now, the typo is  removed!!.**"
   ]
  },
  {
   "cell_type": "code",
   "execution_count": 18,
   "id": "987d1c64",
   "metadata": {
    "execution": {
     "iopub.execute_input": "2023-04-18T21:15:20.377020Z",
     "iopub.status.busy": "2023-04-18T21:15:20.376532Z",
     "iopub.status.idle": "2023-04-18T21:15:20.389045Z",
     "shell.execute_reply": "2023-04-18T21:15:20.387863Z"
    },
    "papermill": {
     "duration": 0.034353,
     "end_time": "2023-04-18T21:15:20.391765",
     "exception": false,
     "start_time": "2023-04-18T21:15:20.357412",
     "status": "completed"
    },
    "tags": []
   },
   "outputs": [],
   "source": [
    "df_1['date'] = pd.to_datetime(df_1['date'],infer_datetime_format=True)"
   ]
  },
  {
   "cell_type": "code",
   "execution_count": 19,
   "id": "5461f4dc",
   "metadata": {
    "execution": {
     "iopub.execute_input": "2023-04-18T21:15:20.431824Z",
     "iopub.status.busy": "2023-04-18T21:15:20.430535Z",
     "iopub.status.idle": "2023-04-18T21:15:20.439448Z",
     "shell.execute_reply": "2023-04-18T21:15:20.437936Z"
    },
    "papermill": {
     "duration": 0.031871,
     "end_time": "2023-04-18T21:15:20.442364",
     "exception": false,
     "start_time": "2023-04-18T21:15:20.410493",
     "status": "completed"
    },
    "tags": []
   },
   "outputs": [],
   "source": [
    "df_1['year'] = df_1['date'].dt.year"
   ]
  },
  {
   "cell_type": "code",
   "execution_count": 20,
   "id": "ed81ad0f",
   "metadata": {
    "execution": {
     "iopub.execute_input": "2023-04-18T21:15:20.481642Z",
     "iopub.status.busy": "2023-04-18T21:15:20.481172Z",
     "iopub.status.idle": "2023-04-18T21:15:20.487520Z",
     "shell.execute_reply": "2023-04-18T21:15:20.486051Z"
    },
    "papermill": {
     "duration": 0.029466,
     "end_time": "2023-04-18T21:15:20.490214",
     "exception": false,
     "start_time": "2023-04-18T21:15:20.460748",
     "status": "completed"
    },
    "tags": []
   },
   "outputs": [],
   "source": [
    "df_1.rename({'year':'season'},inplace=True, axis=1)"
   ]
  },
  {
   "cell_type": "code",
   "execution_count": 21,
   "id": "7ce217ef",
   "metadata": {
    "execution": {
     "iopub.execute_input": "2023-04-18T21:15:20.527924Z",
     "iopub.status.busy": "2023-04-18T21:15:20.527485Z",
     "iopub.status.idle": "2023-04-18T21:15:20.585716Z",
     "shell.execute_reply": "2023-04-18T21:15:20.584520Z"
    },
    "papermill": {
     "duration": 0.080768,
     "end_time": "2023-04-18T21:15:20.588726",
     "exception": false,
     "start_time": "2023-04-18T21:15:20.507958",
     "status": "completed"
    },
    "tags": []
   },
   "outputs": [],
   "source": [
    "df_2[\"over_category\"] = df_2.over.apply(lambda x :\"Powerplay\" if x < 5 else (\"Mid Overs\" if x >-5 and x < 15 else \"Death Overs\"))"
   ]
  },
  {
   "cell_type": "code",
   "execution_count": 22,
   "id": "24d97c14",
   "metadata": {
    "execution": {
     "iopub.execute_input": "2023-04-18T21:15:20.626882Z",
     "iopub.status.busy": "2023-04-18T21:15:20.626405Z",
     "iopub.status.idle": "2023-04-18T21:15:20.665198Z",
     "shell.execute_reply": "2023-04-18T21:15:20.663754Z"
    },
    "papermill": {
     "duration": 0.061022,
     "end_time": "2023-04-18T21:15:20.667809",
     "exception": false,
     "start_time": "2023-04-18T21:15:20.606787",
     "status": "completed"
    },
    "tags": []
   },
   "outputs": [
    {
     "data": {
      "text/html": [
       "<div>\n",
       "<style scoped>\n",
       "    .dataframe tbody tr th:only-of-type {\n",
       "        vertical-align: middle;\n",
       "    }\n",
       "\n",
       "    .dataframe tbody tr th {\n",
       "        vertical-align: top;\n",
       "    }\n",
       "\n",
       "    .dataframe thead th {\n",
       "        text-align: right;\n",
       "    }\n",
       "</style>\n",
       "<table border=\"1\" class=\"dataframe\">\n",
       "  <thead>\n",
       "    <tr style=\"text-align: right;\">\n",
       "      <th></th>\n",
       "      <th>id</th>\n",
       "      <th>city</th>\n",
       "      <th>date</th>\n",
       "      <th>player_of_match</th>\n",
       "      <th>venue</th>\n",
       "      <th>neutral_venue</th>\n",
       "      <th>team1</th>\n",
       "      <th>team2</th>\n",
       "      <th>toss_winner</th>\n",
       "      <th>toss_decision</th>\n",
       "      <th>winner</th>\n",
       "      <th>result</th>\n",
       "      <th>result_margin</th>\n",
       "      <th>eliminator</th>\n",
       "      <th>method</th>\n",
       "      <th>umpire1</th>\n",
       "      <th>umpire2</th>\n",
       "      <th>season</th>\n",
       "    </tr>\n",
       "  </thead>\n",
       "  <tbody>\n",
       "    <tr>\n",
       "      <th>0</th>\n",
       "      <td>335982</td>\n",
       "      <td>Bangalore</td>\n",
       "      <td>2008-04-18</td>\n",
       "      <td>BB McCullum</td>\n",
       "      <td>M Chinnaswamy Stadium</td>\n",
       "      <td>0</td>\n",
       "      <td>Royal Challengers Bangalore</td>\n",
       "      <td>Kolkata Knight Riders</td>\n",
       "      <td>Royal Challengers Bangalore</td>\n",
       "      <td>field</td>\n",
       "      <td>Kolkata Knight Riders</td>\n",
       "      <td>runs</td>\n",
       "      <td>140.0</td>\n",
       "      <td>N</td>\n",
       "      <td>NaN</td>\n",
       "      <td>Asad Rauf</td>\n",
       "      <td>RE Koertzen</td>\n",
       "      <td>2008</td>\n",
       "    </tr>\n",
       "    <tr>\n",
       "      <th>1</th>\n",
       "      <td>335983</td>\n",
       "      <td>Chandigarh</td>\n",
       "      <td>2008-04-19</td>\n",
       "      <td>MEK Hussey</td>\n",
       "      <td>Punjab Cricket Association Stadium, Mohali</td>\n",
       "      <td>0</td>\n",
       "      <td>Kings XI Punjab</td>\n",
       "      <td>Chennai Super Kings</td>\n",
       "      <td>Chennai Super Kings</td>\n",
       "      <td>bat</td>\n",
       "      <td>Chennai Super Kings</td>\n",
       "      <td>runs</td>\n",
       "      <td>33.0</td>\n",
       "      <td>N</td>\n",
       "      <td>NaN</td>\n",
       "      <td>MR Benson</td>\n",
       "      <td>SL Shastri</td>\n",
       "      <td>2008</td>\n",
       "    </tr>\n",
       "    <tr>\n",
       "      <th>2</th>\n",
       "      <td>335984</td>\n",
       "      <td>Delhi</td>\n",
       "      <td>2008-04-19</td>\n",
       "      <td>MF Maharoof</td>\n",
       "      <td>Feroz Shah Kotla</td>\n",
       "      <td>0</td>\n",
       "      <td>Delhi Daredevils</td>\n",
       "      <td>Rajasthan Royals</td>\n",
       "      <td>Rajasthan Royals</td>\n",
       "      <td>bat</td>\n",
       "      <td>Delhi Daredevils</td>\n",
       "      <td>wickets</td>\n",
       "      <td>9.0</td>\n",
       "      <td>N</td>\n",
       "      <td>NaN</td>\n",
       "      <td>Aleem Dar</td>\n",
       "      <td>GA Pratapkumar</td>\n",
       "      <td>2008</td>\n",
       "    </tr>\n",
       "    <tr>\n",
       "      <th>3</th>\n",
       "      <td>335985</td>\n",
       "      <td>Mumbai</td>\n",
       "      <td>2008-04-20</td>\n",
       "      <td>MV Boucher</td>\n",
       "      <td>Wankhede Stadium</td>\n",
       "      <td>0</td>\n",
       "      <td>Mumbai Indians</td>\n",
       "      <td>Royal Challengers Bangalore</td>\n",
       "      <td>Mumbai Indians</td>\n",
       "      <td>bat</td>\n",
       "      <td>Royal Challengers Bangalore</td>\n",
       "      <td>wickets</td>\n",
       "      <td>5.0</td>\n",
       "      <td>N</td>\n",
       "      <td>NaN</td>\n",
       "      <td>SJ Davis</td>\n",
       "      <td>DJ Harper</td>\n",
       "      <td>2008</td>\n",
       "    </tr>\n",
       "    <tr>\n",
       "      <th>4</th>\n",
       "      <td>335986</td>\n",
       "      <td>Kolkata</td>\n",
       "      <td>2008-04-20</td>\n",
       "      <td>DJ Hussey</td>\n",
       "      <td>Eden Gardens</td>\n",
       "      <td>0</td>\n",
       "      <td>Kolkata Knight Riders</td>\n",
       "      <td>Deccan Chargers</td>\n",
       "      <td>Deccan Chargers</td>\n",
       "      <td>bat</td>\n",
       "      <td>Kolkata Knight Riders</td>\n",
       "      <td>wickets</td>\n",
       "      <td>5.0</td>\n",
       "      <td>N</td>\n",
       "      <td>NaN</td>\n",
       "      <td>BF Bowden</td>\n",
       "      <td>K Hariharan</td>\n",
       "      <td>2008</td>\n",
       "    </tr>\n",
       "    <tr>\n",
       "      <th>...</th>\n",
       "      <td>...</td>\n",
       "      <td>...</td>\n",
       "      <td>...</td>\n",
       "      <td>...</td>\n",
       "      <td>...</td>\n",
       "      <td>...</td>\n",
       "      <td>...</td>\n",
       "      <td>...</td>\n",
       "      <td>...</td>\n",
       "      <td>...</td>\n",
       "      <td>...</td>\n",
       "      <td>...</td>\n",
       "      <td>...</td>\n",
       "      <td>...</td>\n",
       "      <td>...</td>\n",
       "      <td>...</td>\n",
       "      <td>...</td>\n",
       "      <td>...</td>\n",
       "    </tr>\n",
       "    <tr>\n",
       "      <th>811</th>\n",
       "      <td>1216547</td>\n",
       "      <td>Dubai</td>\n",
       "      <td>2020-09-28</td>\n",
       "      <td>AB de Villiers</td>\n",
       "      <td>Dubai International Cricket Stadium</td>\n",
       "      <td>0</td>\n",
       "      <td>Royal Challengers Bangalore</td>\n",
       "      <td>Mumbai Indians</td>\n",
       "      <td>Mumbai Indians</td>\n",
       "      <td>field</td>\n",
       "      <td>Royal Challengers Bangalore</td>\n",
       "      <td>tie</td>\n",
       "      <td>NaN</td>\n",
       "      <td>Y</td>\n",
       "      <td>NaN</td>\n",
       "      <td>Nitin Menon</td>\n",
       "      <td>PR Reiffel</td>\n",
       "      <td>2020</td>\n",
       "    </tr>\n",
       "    <tr>\n",
       "      <th>812</th>\n",
       "      <td>1237177</td>\n",
       "      <td>Dubai</td>\n",
       "      <td>2020-11-05</td>\n",
       "      <td>JJ Bumrah</td>\n",
       "      <td>Dubai International Cricket Stadium</td>\n",
       "      <td>0</td>\n",
       "      <td>Mumbai Indians</td>\n",
       "      <td>Delhi Capitals</td>\n",
       "      <td>Delhi Capitals</td>\n",
       "      <td>field</td>\n",
       "      <td>Mumbai Indians</td>\n",
       "      <td>runs</td>\n",
       "      <td>57.0</td>\n",
       "      <td>N</td>\n",
       "      <td>NaN</td>\n",
       "      <td>CB Gaffaney</td>\n",
       "      <td>Nitin Menon</td>\n",
       "      <td>2020</td>\n",
       "    </tr>\n",
       "    <tr>\n",
       "      <th>813</th>\n",
       "      <td>1237178</td>\n",
       "      <td>Abu Dhabi</td>\n",
       "      <td>2020-11-06</td>\n",
       "      <td>KS Williamson</td>\n",
       "      <td>Sheikh Zayed Stadium</td>\n",
       "      <td>0</td>\n",
       "      <td>Royal Challengers Bangalore</td>\n",
       "      <td>Sunrisers Hyderabad</td>\n",
       "      <td>Sunrisers Hyderabad</td>\n",
       "      <td>field</td>\n",
       "      <td>Sunrisers Hyderabad</td>\n",
       "      <td>wickets</td>\n",
       "      <td>6.0</td>\n",
       "      <td>N</td>\n",
       "      <td>NaN</td>\n",
       "      <td>PR Reiffel</td>\n",
       "      <td>S Ravi</td>\n",
       "      <td>2020</td>\n",
       "    </tr>\n",
       "    <tr>\n",
       "      <th>814</th>\n",
       "      <td>1237180</td>\n",
       "      <td>Abu Dhabi</td>\n",
       "      <td>2020-11-08</td>\n",
       "      <td>MP Stoinis</td>\n",
       "      <td>Sheikh Zayed Stadium</td>\n",
       "      <td>0</td>\n",
       "      <td>Delhi Capitals</td>\n",
       "      <td>Sunrisers Hyderabad</td>\n",
       "      <td>Delhi Capitals</td>\n",
       "      <td>bat</td>\n",
       "      <td>Delhi Capitals</td>\n",
       "      <td>runs</td>\n",
       "      <td>17.0</td>\n",
       "      <td>N</td>\n",
       "      <td>NaN</td>\n",
       "      <td>PR Reiffel</td>\n",
       "      <td>S Ravi</td>\n",
       "      <td>2020</td>\n",
       "    </tr>\n",
       "    <tr>\n",
       "      <th>815</th>\n",
       "      <td>1237181</td>\n",
       "      <td>Dubai</td>\n",
       "      <td>2020-11-10</td>\n",
       "      <td>TA Boult</td>\n",
       "      <td>Dubai International Cricket Stadium</td>\n",
       "      <td>0</td>\n",
       "      <td>Delhi Capitals</td>\n",
       "      <td>Mumbai Indians</td>\n",
       "      <td>Delhi Capitals</td>\n",
       "      <td>bat</td>\n",
       "      <td>Mumbai Indians</td>\n",
       "      <td>wickets</td>\n",
       "      <td>5.0</td>\n",
       "      <td>N</td>\n",
       "      <td>NaN</td>\n",
       "      <td>CB Gaffaney</td>\n",
       "      <td>Nitin Menon</td>\n",
       "      <td>2020</td>\n",
       "    </tr>\n",
       "  </tbody>\n",
       "</table>\n",
       "<p>816 rows × 18 columns</p>\n",
       "</div>"
      ],
      "text/plain": [
       "          id        city       date player_of_match  \\\n",
       "0     335982   Bangalore 2008-04-18     BB McCullum   \n",
       "1     335983  Chandigarh 2008-04-19      MEK Hussey   \n",
       "2     335984       Delhi 2008-04-19     MF Maharoof   \n",
       "3     335985      Mumbai 2008-04-20      MV Boucher   \n",
       "4     335986     Kolkata 2008-04-20       DJ Hussey   \n",
       "..       ...         ...        ...             ...   \n",
       "811  1216547       Dubai 2020-09-28  AB de Villiers   \n",
       "812  1237177       Dubai 2020-11-05       JJ Bumrah   \n",
       "813  1237178   Abu Dhabi 2020-11-06   KS Williamson   \n",
       "814  1237180   Abu Dhabi 2020-11-08      MP Stoinis   \n",
       "815  1237181       Dubai 2020-11-10        TA Boult   \n",
       "\n",
       "                                          venue  neutral_venue  \\\n",
       "0                         M Chinnaswamy Stadium              0   \n",
       "1    Punjab Cricket Association Stadium, Mohali              0   \n",
       "2                              Feroz Shah Kotla              0   \n",
       "3                              Wankhede Stadium              0   \n",
       "4                                  Eden Gardens              0   \n",
       "..                                          ...            ...   \n",
       "811         Dubai International Cricket Stadium              0   \n",
       "812         Dubai International Cricket Stadium              0   \n",
       "813                        Sheikh Zayed Stadium              0   \n",
       "814                        Sheikh Zayed Stadium              0   \n",
       "815         Dubai International Cricket Stadium              0   \n",
       "\n",
       "                           team1                        team2  \\\n",
       "0    Royal Challengers Bangalore        Kolkata Knight Riders   \n",
       "1                Kings XI Punjab          Chennai Super Kings   \n",
       "2               Delhi Daredevils             Rajasthan Royals   \n",
       "3                 Mumbai Indians  Royal Challengers Bangalore   \n",
       "4          Kolkata Knight Riders              Deccan Chargers   \n",
       "..                           ...                          ...   \n",
       "811  Royal Challengers Bangalore               Mumbai Indians   \n",
       "812               Mumbai Indians               Delhi Capitals   \n",
       "813  Royal Challengers Bangalore          Sunrisers Hyderabad   \n",
       "814               Delhi Capitals          Sunrisers Hyderabad   \n",
       "815               Delhi Capitals               Mumbai Indians   \n",
       "\n",
       "                     toss_winner toss_decision                       winner  \\\n",
       "0    Royal Challengers Bangalore         field        Kolkata Knight Riders   \n",
       "1            Chennai Super Kings           bat          Chennai Super Kings   \n",
       "2               Rajasthan Royals           bat             Delhi Daredevils   \n",
       "3                 Mumbai Indians           bat  Royal Challengers Bangalore   \n",
       "4                Deccan Chargers           bat        Kolkata Knight Riders   \n",
       "..                           ...           ...                          ...   \n",
       "811               Mumbai Indians         field  Royal Challengers Bangalore   \n",
       "812               Delhi Capitals         field               Mumbai Indians   \n",
       "813          Sunrisers Hyderabad         field          Sunrisers Hyderabad   \n",
       "814               Delhi Capitals           bat               Delhi Capitals   \n",
       "815               Delhi Capitals           bat               Mumbai Indians   \n",
       "\n",
       "      result  result_margin eliminator method      umpire1         umpire2  \\\n",
       "0       runs          140.0          N    NaN    Asad Rauf     RE Koertzen   \n",
       "1       runs           33.0          N    NaN    MR Benson      SL Shastri   \n",
       "2    wickets            9.0          N    NaN    Aleem Dar  GA Pratapkumar   \n",
       "3    wickets            5.0          N    NaN     SJ Davis       DJ Harper   \n",
       "4    wickets            5.0          N    NaN    BF Bowden     K Hariharan   \n",
       "..       ...            ...        ...    ...          ...             ...   \n",
       "811      tie            NaN          Y    NaN  Nitin Menon      PR Reiffel   \n",
       "812     runs           57.0          N    NaN  CB Gaffaney     Nitin Menon   \n",
       "813  wickets            6.0          N    NaN   PR Reiffel          S Ravi   \n",
       "814     runs           17.0          N    NaN   PR Reiffel          S Ravi   \n",
       "815  wickets            5.0          N    NaN  CB Gaffaney     Nitin Menon   \n",
       "\n",
       "     season  \n",
       "0      2008  \n",
       "1      2008  \n",
       "2      2008  \n",
       "3      2008  \n",
       "4      2008  \n",
       "..      ...  \n",
       "811    2020  \n",
       "812    2020  \n",
       "813    2020  \n",
       "814    2020  \n",
       "815    2020  \n",
       "\n",
       "[816 rows x 18 columns]"
      ]
     },
     "execution_count": 22,
     "metadata": {},
     "output_type": "execute_result"
    }
   ],
   "source": [
    "df_1"
   ]
  },
  {
   "cell_type": "markdown",
   "id": "1448dc0d",
   "metadata": {
    "papermill": {
     "duration": 0.018403,
     "end_time": "2023-04-18T21:15:20.704772",
     "exception": false,
     "start_time": "2023-04-18T21:15:20.686369",
     "status": "completed"
    },
    "tags": []
   },
   "source": [
    "# **DATA ANALYTICS AND VISUALIZATION**"
   ]
  },
  {
   "cell_type": "code",
   "execution_count": 23,
   "id": "a642b9dc",
   "metadata": {
    "execution": {
     "iopub.execute_input": "2023-04-18T21:15:20.744368Z",
     "iopub.status.busy": "2023-04-18T21:15:20.743923Z",
     "iopub.status.idle": "2023-04-18T21:15:20.752013Z",
     "shell.execute_reply": "2023-04-18T21:15:20.750550Z"
    },
    "papermill": {
     "duration": 0.031104,
     "end_time": "2023-04-18T21:15:20.754785",
     "exception": false,
     "start_time": "2023-04-18T21:15:20.723681",
     "status": "completed"
    },
    "tags": []
   },
   "outputs": [
    {
     "name": "stdout",
     "output_type": "stream",
     "text": [
      "Cities played at: ['Bangalore' 'Chandigarh' 'Delhi' 'Mumbai' 'Kolkata' 'Jaipur' 'Hyderabad'\n",
      " 'Chennai' 'Cape Town' 'Port Elizabeth' 'Durban' 'Centurion' 'East London'\n",
      " 'Johannesburg' 'Kimberley' 'Bloemfontein' 'Ahmedabad' 'Cuttack' 'Nagpur'\n",
      " 'Dharamsala' 'Kochi' 'Indore' 'Visakhapatnam' 'Pune' 'Raipur' 'Ranchi'\n",
      " 'Abu Dhabi' nan 'Rajkot' 'Kanpur' 'Bengaluru' 'Dubai' 'Sharjah']\n"
     ]
    }
   ],
   "source": [
    "# all the cities where matches have been played\n",
    "print(f'Cities played at: {df_1.city.unique()}')"
   ]
  },
  {
   "cell_type": "markdown",
   "id": "d2dfb8bd",
   "metadata": {
    "papermill": {
     "duration": 0.018128,
     "end_time": "2023-04-18T21:15:20.791572",
     "exception": false,
     "start_time": "2023-04-18T21:15:20.773444",
     "status": "completed"
    },
    "tags": []
   },
   "source": [
    "# **MATCHES PER SEASON**"
   ]
  },
  {
   "cell_type": "code",
   "execution_count": 24,
   "id": "41b1a71b",
   "metadata": {
    "execution": {
     "iopub.execute_input": "2023-04-18T21:15:20.832019Z",
     "iopub.status.busy": "2023-04-18T21:15:20.830978Z",
     "iopub.status.idle": "2023-04-18T21:15:21.168631Z",
     "shell.execute_reply": "2023-04-18T21:15:21.167158Z"
    },
    "papermill": {
     "duration": 0.36138,
     "end_time": "2023-04-18T21:15:21.171784",
     "exception": false,
     "start_time": "2023-04-18T21:15:20.810404",
     "status": "completed"
    },
    "tags": []
   },
   "outputs": [
    {
     "data": {
      "image/png": "[encoded data removed]",
      "text/plain": [
       "<Figure size 640x480 with 1 Axes>"
      ]
     },
     "metadata": {},
     "output_type": "display_data"
    }
   ],
   "source": [
    "match_per_season = df_1.season.value_counts().reset_index().rename(columns={'index':'season','season':\n",
    "                                                                           'matches'}).sort_values(by = 'season')\n",
    "\n",
    "sns.countplot(y = df_1.season)\n",
    "plt.xlabel('Matches')\n",
    "plt.ylabel('Seasons');"
   ]
  },
  {
   "cell_type": "markdown",
   "id": "befb1842",
   "metadata": {
    "papermill": {
     "duration": 0.018913,
     "end_time": "2023-04-18T21:15:21.210825",
     "exception": false,
     "start_time": "2023-04-18T21:15:21.191912",
     "status": "completed"
    },
    "tags": []
   },
   "source": [
    "Now we know that highest number of matches were played in a single year was **2013**  and lowest matches are in **2008**"
   ]
  },
  {
   "cell_type": "markdown",
   "id": "e42349ce",
   "metadata": {
    "papermill": {
     "duration": 0.019885,
     "end_time": "2023-04-18T21:15:21.250148",
     "exception": false,
     "start_time": "2023-04-18T21:15:21.230263",
     "status": "completed"
    },
    "tags": []
   },
   "source": [
    "Lets merge the two datasets so it'll easy for us to do analysis on data"
   ]
  },
  {
   "cell_type": "code",
   "execution_count": 25,
   "id": "c01c0f81",
   "metadata": {
    "execution": {
     "iopub.execute_input": "2023-04-18T21:15:21.292098Z",
     "iopub.status.busy": "2023-04-18T21:15:21.291691Z",
     "iopub.status.idle": "2023-04-18T21:15:21.716526Z",
     "shell.execute_reply": "2023-04-18T21:15:21.715073Z"
    },
    "papermill": {
     "duration": 0.448542,
     "end_time": "2023-04-18T21:15:21.719450",
     "exception": false,
     "start_time": "2023-04-18T21:15:21.270908",
     "status": "completed"
    },
    "tags": []
   },
   "outputs": [],
   "source": [
    "season_data = df_1[['id','season']].merge(df_2, left_on='id', right_on='id', how = 'left').drop(columns='id',axis = 1)"
   ]
  },
  {
   "cell_type": "code",
   "execution_count": 26,
   "id": "04f5b89b",
   "metadata": {
    "execution": {
     "iopub.execute_input": "2023-04-18T21:15:21.760483Z",
     "iopub.status.busy": "2023-04-18T21:15:21.759964Z",
     "iopub.status.idle": "2023-04-18T21:15:21.790000Z",
     "shell.execute_reply": "2023-04-18T21:15:21.788533Z"
    },
    "papermill": {
     "duration": 0.054008,
     "end_time": "2023-04-18T21:15:21.792963",
     "exception": false,
     "start_time": "2023-04-18T21:15:21.738955",
     "status": "completed"
    },
    "tags": []
   },
   "outputs": [
    {
     "data": {
      "text/html": [
       "<div>\n",
       "<style scoped>\n",
       "    .dataframe tbody tr th:only-of-type {\n",
       "        vertical-align: middle;\n",
       "    }\n",
       "\n",
       "    .dataframe tbody tr th {\n",
       "        vertical-align: top;\n",
       "    }\n",
       "\n",
       "    .dataframe thead th {\n",
       "        text-align: right;\n",
       "    }\n",
       "</style>\n",
       "<table border=\"1\" class=\"dataframe\">\n",
       "  <thead>\n",
       "    <tr style=\"text-align: right;\">\n",
       "      <th></th>\n",
       "      <th>season</th>\n",
       "      <th>inning</th>\n",
       "      <th>over</th>\n",
       "      <th>ball</th>\n",
       "      <th>batsman</th>\n",
       "      <th>non_striker</th>\n",
       "      <th>bowler</th>\n",
       "      <th>batsman_runs</th>\n",
       "      <th>extra_runs</th>\n",
       "      <th>total_runs</th>\n",
       "      <th>non_boundary</th>\n",
       "      <th>is_wicket</th>\n",
       "      <th>dismissal_kind</th>\n",
       "      <th>player_dismissed</th>\n",
       "      <th>fielder</th>\n",
       "      <th>extras_type</th>\n",
       "      <th>batting_team</th>\n",
       "      <th>bowling_team</th>\n",
       "      <th>over_category</th>\n",
       "    </tr>\n",
       "  </thead>\n",
       "  <tbody>\n",
       "    <tr>\n",
       "      <th>0</th>\n",
       "      <td>2008</td>\n",
       "      <td>1</td>\n",
       "      <td>6</td>\n",
       "      <td>5</td>\n",
       "      <td>RT Ponting</td>\n",
       "      <td>BB McCullum</td>\n",
       "      <td>AA Noffke</td>\n",
       "      <td>1</td>\n",
       "      <td>0</td>\n",
       "      <td>1</td>\n",
       "      <td>0</td>\n",
       "      <td>0</td>\n",
       "      <td>NaN</td>\n",
       "      <td>NaN</td>\n",
       "      <td>NaN</td>\n",
       "      <td>NaN</td>\n",
       "      <td>Kolkata Knight Riders</td>\n",
       "      <td>Royal Challengers Bangalore</td>\n",
       "      <td>Mid Overs</td>\n",
       "    </tr>\n",
       "    <tr>\n",
       "      <th>1</th>\n",
       "      <td>2008</td>\n",
       "      <td>1</td>\n",
       "      <td>6</td>\n",
       "      <td>6</td>\n",
       "      <td>BB McCullum</td>\n",
       "      <td>RT Ponting</td>\n",
       "      <td>AA Noffke</td>\n",
       "      <td>1</td>\n",
       "      <td>0</td>\n",
       "      <td>1</td>\n",
       "      <td>0</td>\n",
       "      <td>0</td>\n",
       "      <td>NaN</td>\n",
       "      <td>NaN</td>\n",
       "      <td>NaN</td>\n",
       "      <td>NaN</td>\n",
       "      <td>Kolkata Knight Riders</td>\n",
       "      <td>Royal Challengers Bangalore</td>\n",
       "      <td>Mid Overs</td>\n",
       "    </tr>\n",
       "    <tr>\n",
       "      <th>2</th>\n",
       "      <td>2008</td>\n",
       "      <td>1</td>\n",
       "      <td>7</td>\n",
       "      <td>1</td>\n",
       "      <td>BB McCullum</td>\n",
       "      <td>RT Ponting</td>\n",
       "      <td>Z Khan</td>\n",
       "      <td>0</td>\n",
       "      <td>0</td>\n",
       "      <td>0</td>\n",
       "      <td>0</td>\n",
       "      <td>0</td>\n",
       "      <td>NaN</td>\n",
       "      <td>NaN</td>\n",
       "      <td>NaN</td>\n",
       "      <td>NaN</td>\n",
       "      <td>Kolkata Knight Riders</td>\n",
       "      <td>Royal Challengers Bangalore</td>\n",
       "      <td>Mid Overs</td>\n",
       "    </tr>\n",
       "    <tr>\n",
       "      <th>3</th>\n",
       "      <td>2008</td>\n",
       "      <td>1</td>\n",
       "      <td>7</td>\n",
       "      <td>2</td>\n",
       "      <td>BB McCullum</td>\n",
       "      <td>RT Ponting</td>\n",
       "      <td>Z Khan</td>\n",
       "      <td>1</td>\n",
       "      <td>0</td>\n",
       "      <td>1</td>\n",
       "      <td>0</td>\n",
       "      <td>0</td>\n",
       "      <td>NaN</td>\n",
       "      <td>NaN</td>\n",
       "      <td>NaN</td>\n",
       "      <td>NaN</td>\n",
       "      <td>Kolkata Knight Riders</td>\n",
       "      <td>Royal Challengers Bangalore</td>\n",
       "      <td>Mid Overs</td>\n",
       "    </tr>\n",
       "    <tr>\n",
       "      <th>4</th>\n",
       "      <td>2008</td>\n",
       "      <td>1</td>\n",
       "      <td>7</td>\n",
       "      <td>3</td>\n",
       "      <td>RT Ponting</td>\n",
       "      <td>BB McCullum</td>\n",
       "      <td>Z Khan</td>\n",
       "      <td>1</td>\n",
       "      <td>0</td>\n",
       "      <td>1</td>\n",
       "      <td>0</td>\n",
       "      <td>0</td>\n",
       "      <td>NaN</td>\n",
       "      <td>NaN</td>\n",
       "      <td>NaN</td>\n",
       "      <td>NaN</td>\n",
       "      <td>Kolkata Knight Riders</td>\n",
       "      <td>Royal Challengers Bangalore</td>\n",
       "      <td>Mid Overs</td>\n",
       "    </tr>\n",
       "    <tr>\n",
       "      <th>...</th>\n",
       "      <td>...</td>\n",
       "      <td>...</td>\n",
       "      <td>...</td>\n",
       "      <td>...</td>\n",
       "      <td>...</td>\n",
       "      <td>...</td>\n",
       "      <td>...</td>\n",
       "      <td>...</td>\n",
       "      <td>...</td>\n",
       "      <td>...</td>\n",
       "      <td>...</td>\n",
       "      <td>...</td>\n",
       "      <td>...</td>\n",
       "      <td>...</td>\n",
       "      <td>...</td>\n",
       "      <td>...</td>\n",
       "      <td>...</td>\n",
       "      <td>...</td>\n",
       "      <td>...</td>\n",
       "    </tr>\n",
       "    <tr>\n",
       "      <th>193463</th>\n",
       "      <td>2020</td>\n",
       "      <td>1</td>\n",
       "      <td>12</td>\n",
       "      <td>5</td>\n",
       "      <td>RR Pant</td>\n",
       "      <td>SS Iyer</td>\n",
       "      <td>NM Coulter-Nile</td>\n",
       "      <td>0</td>\n",
       "      <td>0</td>\n",
       "      <td>0</td>\n",
       "      <td>0</td>\n",
       "      <td>0</td>\n",
       "      <td>NaN</td>\n",
       "      <td>NaN</td>\n",
       "      <td>NaN</td>\n",
       "      <td>NaN</td>\n",
       "      <td>Delhi Capitals</td>\n",
       "      <td>Mumbai Indians</td>\n",
       "      <td>Mid Overs</td>\n",
       "    </tr>\n",
       "    <tr>\n",
       "      <th>193464</th>\n",
       "      <td>2020</td>\n",
       "      <td>1</td>\n",
       "      <td>12</td>\n",
       "      <td>6</td>\n",
       "      <td>RR Pant</td>\n",
       "      <td>SS Iyer</td>\n",
       "      <td>NM Coulter-Nile</td>\n",
       "      <td>1</td>\n",
       "      <td>0</td>\n",
       "      <td>1</td>\n",
       "      <td>0</td>\n",
       "      <td>0</td>\n",
       "      <td>NaN</td>\n",
       "      <td>NaN</td>\n",
       "      <td>NaN</td>\n",
       "      <td>NaN</td>\n",
       "      <td>Delhi Capitals</td>\n",
       "      <td>Mumbai Indians</td>\n",
       "      <td>Mid Overs</td>\n",
       "    </tr>\n",
       "    <tr>\n",
       "      <th>193465</th>\n",
       "      <td>2020</td>\n",
       "      <td>1</td>\n",
       "      <td>13</td>\n",
       "      <td>1</td>\n",
       "      <td>RR Pant</td>\n",
       "      <td>SS Iyer</td>\n",
       "      <td>KH Pandya</td>\n",
       "      <td>0</td>\n",
       "      <td>1</td>\n",
       "      <td>1</td>\n",
       "      <td>0</td>\n",
       "      <td>0</td>\n",
       "      <td>NaN</td>\n",
       "      <td>NaN</td>\n",
       "      <td>NaN</td>\n",
       "      <td>wides</td>\n",
       "      <td>Delhi Capitals</td>\n",
       "      <td>Mumbai Indians</td>\n",
       "      <td>Mid Overs</td>\n",
       "    </tr>\n",
       "    <tr>\n",
       "      <th>193466</th>\n",
       "      <td>2020</td>\n",
       "      <td>1</td>\n",
       "      <td>13</td>\n",
       "      <td>2</td>\n",
       "      <td>RR Pant</td>\n",
       "      <td>SS Iyer</td>\n",
       "      <td>KH Pandya</td>\n",
       "      <td>1</td>\n",
       "      <td>0</td>\n",
       "      <td>1</td>\n",
       "      <td>0</td>\n",
       "      <td>0</td>\n",
       "      <td>NaN</td>\n",
       "      <td>NaN</td>\n",
       "      <td>NaN</td>\n",
       "      <td>NaN</td>\n",
       "      <td>Delhi Capitals</td>\n",
       "      <td>Mumbai Indians</td>\n",
       "      <td>Mid Overs</td>\n",
       "    </tr>\n",
       "    <tr>\n",
       "      <th>193467</th>\n",
       "      <td>2020</td>\n",
       "      <td>1</td>\n",
       "      <td>13</td>\n",
       "      <td>3</td>\n",
       "      <td>SS Iyer</td>\n",
       "      <td>RR Pant</td>\n",
       "      <td>KH Pandya</td>\n",
       "      <td>1</td>\n",
       "      <td>0</td>\n",
       "      <td>1</td>\n",
       "      <td>0</td>\n",
       "      <td>0</td>\n",
       "      <td>NaN</td>\n",
       "      <td>NaN</td>\n",
       "      <td>NaN</td>\n",
       "      <td>NaN</td>\n",
       "      <td>Delhi Capitals</td>\n",
       "      <td>Mumbai Indians</td>\n",
       "      <td>Mid Overs</td>\n",
       "    </tr>\n",
       "  </tbody>\n",
       "</table>\n",
       "<p>193468 rows × 19 columns</p>\n",
       "</div>"
      ],
      "text/plain": [
       "        season  inning  over  ball      batsman  non_striker           bowler  \\\n",
       "0         2008       1     6     5   RT Ponting  BB McCullum        AA Noffke   \n",
       "1         2008       1     6     6  BB McCullum   RT Ponting        AA Noffke   \n",
       "2         2008       1     7     1  BB McCullum   RT Ponting           Z Khan   \n",
       "3         2008       1     7     2  BB McCullum   RT Ponting           Z Khan   \n",
       "4         2008       1     7     3   RT Ponting  BB McCullum           Z Khan   \n",
       "...        ...     ...   ...   ...          ...          ...              ...   \n",
       "193463    2020       1    12     5      RR Pant      SS Iyer  NM Coulter-Nile   \n",
       "193464    2020       1    12     6      RR Pant      SS Iyer  NM Coulter-Nile   \n",
       "193465    2020       1    13     1      RR Pant      SS Iyer        KH Pandya   \n",
       "193466    2020       1    13     2      RR Pant      SS Iyer        KH Pandya   \n",
       "193467    2020       1    13     3      SS Iyer      RR Pant        KH Pandya   \n",
       "\n",
       "        batsman_runs  extra_runs  total_runs  non_boundary  is_wicket  \\\n",
       "0                  1           0           1             0          0   \n",
       "1                  1           0           1             0          0   \n",
       "2                  0           0           0             0          0   \n",
       "3                  1           0           1             0          0   \n",
       "4                  1           0           1             0          0   \n",
       "...              ...         ...         ...           ...        ...   \n",
       "193463             0           0           0             0          0   \n",
       "193464             1           0           1             0          0   \n",
       "193465             0           1           1             0          0   \n",
       "193466             1           0           1             0          0   \n",
       "193467             1           0           1             0          0   \n",
       "\n",
       "       dismissal_kind player_dismissed fielder extras_type  \\\n",
       "0                 NaN              NaN     NaN         NaN   \n",
       "1                 NaN              NaN     NaN         NaN   \n",
       "2                 NaN              NaN     NaN         NaN   \n",
       "3                 NaN              NaN     NaN         NaN   \n",
       "4                 NaN              NaN     NaN         NaN   \n",
       "...               ...              ...     ...         ...   \n",
       "193463            NaN              NaN     NaN         NaN   \n",
       "193464            NaN              NaN     NaN         NaN   \n",
       "193465            NaN              NaN     NaN       wides   \n",
       "193466            NaN              NaN     NaN         NaN   \n",
       "193467            NaN              NaN     NaN         NaN   \n",
       "\n",
       "                 batting_team                 bowling_team over_category  \n",
       "0       Kolkata Knight Riders  Royal Challengers Bangalore     Mid Overs  \n",
       "1       Kolkata Knight Riders  Royal Challengers Bangalore     Mid Overs  \n",
       "2       Kolkata Knight Riders  Royal Challengers Bangalore     Mid Overs  \n",
       "3       Kolkata Knight Riders  Royal Challengers Bangalore     Mid Overs  \n",
       "4       Kolkata Knight Riders  Royal Challengers Bangalore     Mid Overs  \n",
       "...                       ...                          ...           ...  \n",
       "193463         Delhi Capitals               Mumbai Indians     Mid Overs  \n",
       "193464         Delhi Capitals               Mumbai Indians     Mid Overs  \n",
       "193465         Delhi Capitals               Mumbai Indians     Mid Overs  \n",
       "193466         Delhi Capitals               Mumbai Indians     Mid Overs  \n",
       "193467         Delhi Capitals               Mumbai Indians     Mid Overs  \n",
       "\n",
       "[193468 rows x 19 columns]"
      ]
     },
     "execution_count": 26,
     "metadata": {},
     "output_type": "execute_result"
    }
   ],
   "source": [
    "season_data"
   ]
  },
  {
   "cell_type": "markdown",
   "id": "a1c93b9e",
   "metadata": {
    "papermill": {
     "duration": 0.019522,
     "end_time": "2023-04-18T21:15:21.832232",
     "exception": false,
     "start_time": "2023-04-18T21:15:21.812710",
     "status": "completed"
    },
    "tags": []
   },
   "source": [
    "# **SCORE PER SEASON**"
   ]
  },
  {
   "cell_type": "code",
   "execution_count": 27,
   "id": "0e33591c",
   "metadata": {
    "execution": {
     "iopub.execute_input": "2023-04-18T21:15:21.874758Z",
     "iopub.status.busy": "2023-04-18T21:15:21.873328Z",
     "iopub.status.idle": "2023-04-18T21:15:22.198921Z",
     "shell.execute_reply": "2023-04-18T21:15:22.197309Z"
    },
    "papermill": {
     "duration": 0.349931,
     "end_time": "2023-04-18T21:15:22.201962",
     "exception": false,
     "start_time": "2023-04-18T21:15:21.852031",
     "status": "completed"
    },
    "tags": []
   },
   "outputs": [
    {
     "data": {
      "image/png": "[encoded data removed]",
      "text/plain": [
       "<Figure size 640x480 with 1 Axes>"
      ]
     },
     "metadata": {},
     "output_type": "display_data"
    }
   ],
   "source": [
    "season_score = season_data.groupby('season')['total_runs'].sum().reset_index()\n",
    "p = season_score.set_index('season')\n",
    "ax = plt.axes()\n",
    "ax.set(facecolor = 'white')\n",
    "sns.set(rc= {\"figure.figsize\":(6,6)})\n",
    "sns.set_style(\"darkgrid\")\n",
    "sns.lineplot(data = p, palette='icefire')\n",
    "plt.ylabel('Score', fontsize = 10)\n",
    "plt.title('Total runs per season', fontsize = 12, fontweight = 'bold');"
   ]
  },
  {
   "cell_type": "markdown",
   "id": "687d7794",
   "metadata": {
    "papermill": {
     "duration": 0.019862,
     "end_time": "2023-04-18T21:15:22.242373",
     "exception": false,
     "start_time": "2023-04-18T21:15:22.222511",
     "status": "completed"
    },
    "tags": []
   },
   "source": [
    "Because highest no. of matches were played in 2013 , so Highest Runs Scored in a single year is also in 2013"
   ]
  },
  {
   "cell_type": "markdown",
   "id": "f840aa08",
   "metadata": {
    "papermill": {
     "duration": 0.020618,
     "end_time": "2023-04-18T21:15:22.283883",
     "exception": false,
     "start_time": "2023-04-18T21:15:22.263265",
     "status": "completed"
    },
    "tags": []
   },
   "source": [
    "# **AVERAGE RUNS PER MATCH**"
   ]
  },
  {
   "cell_type": "code",
   "execution_count": 28,
   "id": "78ed5e64",
   "metadata": {
    "execution": {
     "iopub.execute_input": "2023-04-18T21:15:22.327623Z",
     "iopub.status.busy": "2023-04-18T21:15:22.326732Z",
     "iopub.status.idle": "2023-04-18T21:15:22.708256Z",
     "shell.execute_reply": "2023-04-18T21:15:22.706835Z"
    },
    "papermill": {
     "duration": 0.406903,
     "end_time": "2023-04-18T21:15:22.711390",
     "exception": false,
     "start_time": "2023-04-18T21:15:22.304487",
     "status": "completed"
    },
    "tags": []
   },
   "outputs": [
    {
     "data": {
      "image/png": "[encoded data removed]",
      "text/plain": [
       "<Figure size 700x500 with 1 Axes>"
      ]
     },
     "metadata": {},
     "output_type": "display_data"
    }
   ],
   "source": [
    "runs_per_season = pd.concat([match_per_season, season_score.iloc[:,1]], axis = 1)\n",
    "runs_per_season['runs_scored_per_match'] = runs_per_season['total_runs'] / runs_per_season['matches']\n",
    "runs_per_season.set_index('season', inplace = True)\n",
    "\n",
    "plt.figure(figsize=(7,5))\n",
    "\n",
    "sns.barplot(x = runs_per_season.index, y = runs_per_season.runs_scored_per_match);\n"
   ]
  },
  {
   "cell_type": "markdown",
   "id": "2106b664",
   "metadata": {
    "papermill": {
     "duration": 0.021024,
     "end_time": "2023-04-18T21:15:22.753653",
     "exception": false,
     "start_time": "2023-04-18T21:15:22.732629",
     "status": "completed"
    },
    "tags": []
   },
   "source": [
    "# **TOSS WON BY EACH TEAM**"
   ]
  },
  {
   "cell_type": "code",
   "execution_count": 29,
   "id": "e00357d4",
   "metadata": {
    "execution": {
     "iopub.execute_input": "2023-04-18T21:15:22.799681Z",
     "iopub.status.busy": "2023-04-18T21:15:22.798384Z",
     "iopub.status.idle": "2023-04-18T21:15:23.409383Z",
     "shell.execute_reply": "2023-04-18T21:15:23.407908Z"
    },
    "papermill": {
     "duration": 0.637475,
     "end_time": "2023-04-18T21:15:23.412756",
     "exception": false,
     "start_time": "2023-04-18T21:15:22.775281",
     "status": "completed"
    },
    "tags": []
   },
   "outputs": [
    {
     "data": {
      "text/plain": [
       "Text(0.5, 0, 'No. of tosses won')"
      ]
     },
     "execution_count": 29,
     "metadata": {},
     "output_type": "execute_result"
    },
    {
     "data": {
      "image/png": "[encoded data removed]",
      "text/plain": [
       "<Figure size 600x600 with 1 Axes>"
      ]
     },
     "metadata": {},
     "output_type": "display_data"
    }
   ],
   "source": [
    "toss = df_1.toss_winner.value_counts()\n",
    "toss\n",
    "\n",
    "ax = plt.axes()\n",
    "ax.set(facecolor='white')\n",
    "sns.set(rc= {\"figure.figsize\":(8,6)}, style = 'darkgrid')\n",
    "ax.set_title('No. of tosses won by each team', fontsize = 15, fontweight = 'bold')\n",
    "sns.barplot(x = toss, y = toss.index, orient = 'h', palette='icefire', saturation=1)\n",
    "plt.ylabel('Teams', fontsize = 15, fontweight = 'bold')\n",
    "plt.xlabel('No. of tosses won', fontsize = 15, fontweight = 'bold')"
   ]
  },
  {
   "cell_type": "markdown",
   "id": "18b4e211",
   "metadata": {
    "papermill": {
     "duration": 0.024018,
     "end_time": "2023-04-18T21:15:23.460676",
     "exception": false,
     "start_time": "2023-04-18T21:15:23.436658",
     "status": "completed"
    },
    "tags": []
   },
   "source": [
    "**Mumbai Indians have won most Tosses In IPL**"
   ]
  },
  {
   "cell_type": "markdown",
   "id": "3d28d65c",
   "metadata": {
    "papermill": {
     "duration": 0.022557,
     "end_time": "2023-04-18T21:15:23.506410",
     "exception": false,
     "start_time": "2023-04-18T21:15:23.483853",
     "status": "completed"
    },
    "tags": []
   },
   "source": [
    "# **HIGHEST RUN SCORERS THROUGHOUT ALL SEASONS**"
   ]
  },
  {
   "cell_type": "markdown",
   "id": "11bf7f14",
   "metadata": {
    "papermill": {
     "duration": 0.022452,
     "end_time": "2023-04-18T21:15:23.551828",
     "exception": false,
     "start_time": "2023-04-18T21:15:23.529376",
     "status": "completed"
    },
    "tags": []
   },
   "source": [
    "These are the top 10 highest scoring batsmans"
   ]
  },
  {
   "cell_type": "code",
   "execution_count": 30,
   "id": "e883660c",
   "metadata": {
    "execution": {
     "iopub.execute_input": "2023-04-18T21:15:23.599622Z",
     "iopub.status.busy": "2023-04-18T21:15:23.598780Z",
     "iopub.status.idle": "2023-04-18T21:15:24.003721Z",
     "shell.execute_reply": "2023-04-18T21:15:24.002351Z"
    },
    "papermill": {
     "duration": 0.432466,
     "end_time": "2023-04-18T21:15:24.006970",
     "exception": false,
     "start_time": "2023-04-18T21:15:23.574504",
     "status": "completed"
    },
    "tags": []
   },
   "outputs": [
    {
     "data": {
      "image/png": "[encoded data removed]",
      "text/plain": [
       "<Figure size 800x600 with 1 Axes>"
      ]
     },
     "metadata": {},
     "output_type": "display_data"
    }
   ],
   "source": [
    "top_bats = season_data.groupby('batsman')['batsman_runs'].sum().sort_values(ascending = False).head(10).reset_index()\n",
    "ax = plt.axes()\n",
    "ax.set(facecolor='white')\n",
    "sns.set(rc= {\"figure.figsize\":(8,5)}, style = 'darkgrid')\n",
    "ax.set_title('Highest runs scorers throughout all IPL editions', fontsize = 15, fontweight = 'bold')\n",
    "sns.barplot(x = top_bats['batsman_runs'], y = top_bats['batsman'], orient = 'h', palette='magma', saturation=1)\n",
    "plt.ylabel('Batsmen', fontsize = 15, fontweight = 'bold')\n",
    "plt.xlabel('Total score', fontsize = 15, fontweight = 'bold');"
   ]
  },
  {
   "cell_type": "markdown",
   "id": "469686ae",
   "metadata": {
    "papermill": {
     "duration": 0.024086,
     "end_time": "2023-04-18T21:15:24.054562",
     "exception": false,
     "start_time": "2023-04-18T21:15:24.030476",
     "status": "completed"
    },
    "tags": []
   },
   "source": [
    "**Virat Kohli** has the most runs in IPL"
   ]
  },
  {
   "cell_type": "markdown",
   "id": "987fb9d4",
   "metadata": {
    "papermill": {
     "duration": 0.023026,
     "end_time": "2023-04-18T21:15:24.101148",
     "exception": false,
     "start_time": "2023-04-18T21:15:24.078122",
     "status": "completed"
    },
    "tags": []
   },
   "source": [
    "# **HIGHEST WICKET TAKERS THROUGHOUT ALL SEASONS**"
   ]
  },
  {
   "cell_type": "code",
   "execution_count": 31,
   "id": "91081e7c",
   "metadata": {
    "execution": {
     "iopub.execute_input": "2023-04-18T21:15:24.151962Z",
     "iopub.status.busy": "2023-04-18T21:15:24.150768Z",
     "iopub.status.idle": "2023-04-18T21:15:24.588164Z",
     "shell.execute_reply": "2023-04-18T21:15:24.586718Z"
    },
    "papermill": {
     "duration": 0.465292,
     "end_time": "2023-04-18T21:15:24.590927",
     "exception": false,
     "start_time": "2023-04-18T21:15:24.125635",
     "status": "completed"
    },
    "tags": []
   },
   "outputs": [
    {
     "data": {
      "text/plain": [
       "Text(0.5, 0, 'Wickets taken')"
      ]
     },
     "execution_count": 31,
     "metadata": {},
     "output_type": "execute_result"
    },
    {
     "data": {
      "image/png": "[encoded data removed]",
      "text/plain": [
       "<Figure size 800x500 with 1 Axes>"
      ]
     },
     "metadata": {},
     "output_type": "display_data"
    }
   ],
   "source": [
    "top_bols = season_data.groupby('bowler')['is_wicket'].sum().sort_values(ascending = False).head(10).reset_index()\n",
    "\n",
    "ax = plt.axes()\n",
    "ax.set(facecolor='white')\n",
    "sns.set(rc= {\"figure.figsize\":(8,5)}, style = 'darkgrid')\n",
    "ax.set_title('Highest wicket taker throughout all IPL editions', fontsize = 15, fontweight = 'bold')\n",
    "sns.barplot(x = top_bols['is_wicket'], y = top_bols['bowler'], orient = 'h', palette='mako', saturation=1)\n",
    "plt.ylabel('Bowler', fontsize = 15, fontweight = 'bold')\n",
    "plt.xlabel('Wickets taken', fontsize = 15, fontweight = 'bold')"
   ]
  },
  {
   "cell_type": "markdown",
   "id": "73de41da",
   "metadata": {
    "papermill": {
     "duration": 0.024382,
     "end_time": "2023-04-18T21:15:24.640548",
     "exception": false,
     "start_time": "2023-04-18T21:15:24.616166",
     "status": "completed"
    },
    "tags": []
   },
   "source": [
    "**Lasith Malinga** has the most wickets in IPL"
   ]
  },
  {
   "cell_type": "markdown",
   "id": "a1323708",
   "metadata": {
    "papermill": {
     "duration": 0.024783,
     "end_time": "2023-04-18T21:15:24.689897",
     "exception": false,
     "start_time": "2023-04-18T21:15:24.665114",
     "status": "completed"
    },
    "tags": []
   },
   "source": [
    "### **NO. OF WINS BY EACH TEAM**"
   ]
  },
  {
   "cell_type": "code",
   "execution_count": 32,
   "id": "e92c9e41",
   "metadata": {
    "execution": {
     "iopub.execute_input": "2023-04-18T21:15:24.742017Z",
     "iopub.status.busy": "2023-04-18T21:15:24.740551Z",
     "iopub.status.idle": "2023-04-18T21:15:26.495783Z",
     "shell.execute_reply": "2023-04-18T21:15:26.494322Z"
    },
    "papermill": {
     "duration": 1.784417,
     "end_time": "2023-04-18T21:15:26.498765",
     "exception": false,
     "start_time": "2023-04-18T21:15:24.714348",
     "status": "completed"
    },
    "tags": []
   },
   "outputs": [
    {
     "data": {
      "text/html": [
       "        <script type=\"text/javascript\">\n",
       "        window.PlotlyConfig = {MathJaxConfig: 'local'};\n",
       "        if (window.MathJax && window.MathJax.Hub && window.MathJax.Hub.Config) {window.MathJax.Hub.Config({SVG: {font: \"STIX-Web\"}});}\n",
       "        if (typeof require !== 'undefined') {\n",
       "        require.undef(\"plotly\");\n",
       "        requirejs.config({\n",
       "            paths: {\n",
       "                'plotly': ['https://cdn.plot.ly/plotly-2.18.0.min']\n",
       "            }\n",
       "        });\n",
       "        require(['plotly'], function(Plotly) {\n",
       "            window._Plotly = Plotly;\n",
       "        });\n",
       "        }\n",
       "        </script>\n",
       "        "
      ]
     },
     "metadata": {},
     "output_type": "display_data"
    },
    {
     "data": {
      "text/html": [
       "<div>                            <div id=\"72f3655c-50c2-4265-a3ba-7957e177c54b\" class=\"plotly-graph-div\" style=\"height:525px; width:100%;\"></div>            <script type=\"text/javascript\">                require([\"plotly\"], function(Plotly) {                    window.PLOTLYENV=window.PLOTLYENV || {};                                    if (document.getElementById(\"72f3655c-50c2-4265-a3ba-7957e177c54b\")) {                    Plotly.newPlot(                        \"72f3655c-50c2-4265-a3ba-7957e177c54b\",                        [{\"alignmentgroup\":\"True\",\"hovertemplate\":\"Teams=%{x}<br>Total wins=%{y}<extra></extra>\",\"legendgroup\":\"\",\"marker\":{\"color\":\"#636efa\",\"pattern\":{\"shape\":\"\"}},\"name\":\"\",\"offsetgroup\":\"\",\"orientation\":\"v\",\"showlegend\":false,\"textposition\":\"auto\",\"x\":[\"Mumbai Indians\",\"Chennai Super Kings\",\"Kolkata Knight Riders\",\"Royal Challengers Bangalore\",\"Kings XI Punjab\",\"Rajasthan Royals\",\"Delhi Daredevils\",\"Sunrisers Hyderabad\",\"Deccan Chargers\",\"Delhi Capitals\",\"Rising Pune Supergiant\",\"Gujarat Lions\",\"Pune Warriors\",\"Kochi Tuskers Kerala\"],\"xaxis\":\"x\",\"y\":[120,106,99,91,88,81,67,66,29,19,15,13,12,6],\"yaxis\":\"y\",\"type\":\"bar\"}],                        {\"template\":{\"data\":{\"histogram2dcontour\":[{\"type\":\"histogram2dcontour\",\"colorbar\":{\"outlinewidth\":0,\"ticks\":\"\"},\"colorscale\":[[0.0,\"#0d0887\"],[0.1111111111111111,\"#46039f\"],[0.2222222222222222,\"#7201a8\"],[0.3333333333333333,\"#9c179e\"],[0.4444444444444444,\"#bd3786\"],[0.5555555555555556,\"#d8576b\"],[0.6666666666666666,\"#ed7953\"],[0.7777777777777778,\"#fb9f3a\"],[0.8888888888888888,\"#fdca26\"],[1.0,\"#f0f921\"]]}],\"choropleth\":[{\"type\":\"choropleth\",\"colorbar\":{\"outlinewidth\":0,\"ticks\":\"\"}}],\"histogram2d\":[{\"type\":\"histogram2d\",\"colorbar\":{\"outlinewidth\":0,\"ticks\":\"\"},\"colorscale\":[[0.0,\"#0d0887\"],[0.1111111111111111,\"#46039f\"],[0.2222222222222222,\"#7201a8\"],[0.3333333333333333,\"#9c179e\"],[0.4444444444444444,\"#bd3786\"],[0.5555555555555556,\"#d8576b\"],[0.6666666666666666,\"#ed7953\"],[0.7777777777777778,\"#fb9f3a\"],[0.8888888888888888,\"#fdca26\"],[1.0,\"#f0f921\"]]}],\"heatmap\":[{\"type\":\"heatmap\",\"colorbar\":{\"outlinewidth\":0,\"ticks\":\"\"},\"colorscale\":[[0.0,\"#0d0887\"],[0.1111111111111111,\"#46039f\"],[0.2222222222222222,\"#7201a8\"],[0.3333333333333333,\"#9c179e\"],[0.4444444444444444,\"#bd3786\"],[0.5555555555555556,\"#d8576b\"],[0.6666666666666666,\"#ed7953\"],[0.7777777777777778,\"#fb9f3a\"],[0.8888888888888888,\"#fdca26\"],[1.0,\"#f0f921\"]]}],\"heatmapgl\":[{\"type\":\"heatmapgl\",\"colorbar\":{\"outlinewidth\":0,\"ticks\":\"\"},\"colorscale\":[[0.0,\"#0d0887\"],[0.1111111111111111,\"#46039f\"],[0.2222222222222222,\"#7201a8\"],[0.3333333333333333,\"#9c179e\"],[0.4444444444444444,\"#bd3786\"],[0.5555555555555556,\"#d8576b\"],[0.6666666666666666,\"#ed7953\"],[0.7777777777777778,\"#fb9f3a\"],[0.8888888888888888,\"#fdca26\"],[1.0,\"#f0f921\"]]}],\"contourcarpet\":[{\"type\":\"contourcarpet\",\"colorbar\":{\"outlinewidth\":0,\"ticks\":\"\"}}],\"contour\":[{\"type\":\"contour\",\"colorbar\":{\"outlinewidth\":0,\"ticks\":\"\"},\"colorscale\":[[0.0,\"#0d0887\"],[0.1111111111111111,\"#46039f\"],[0.2222222222222222,\"#7201a8\"],[0.3333333333333333,\"#9c179e\"],[0.4444444444444444,\"#bd3786\"],[0.5555555555555556,\"#d8576b\"],[0.6666666666666666,\"#ed7953\"],[0.7777777777777778,\"#fb9f3a\"],[0.8888888888888888,\"#fdca26\"],[1.0,\"#f0f921\"]]}],\"surface\":[{\"type\":\"surface\",\"colorbar\":{\"outlinewidth\":0,\"ticks\":\"\"},\"colorscale\":[[0.0,\"#0d0887\"],[0.1111111111111111,\"#46039f\"],[0.2222222222222222,\"#7201a8\"],[0.3333333333333333,\"#9c179e\"],[0.4444444444444444,\"#bd3786\"],[0.5555555555555556,\"#d8576b\"],[0.6666666666666666,\"#ed7953\"],[0.7777777777777778,\"#fb9f3a\"],[0.8888888888888888,\"#fdca26\"],[1.0,\"#f0f921\"]]}],\"mesh3d\":[{\"type\":\"mesh3d\",\"colorbar\":{\"outlinewidth\":0,\"ticks\":\"\"}}],\"scatter\":[{\"fillpattern\":{\"fillmode\":\"overlay\",\"size\":10,\"solidity\":0.2},\"type\":\"scatter\"}],\"parcoords\":[{\"type\":\"parcoords\",\"line\":{\"colorbar\":{\"outlinewidth\":0,\"ticks\":\"\"}}}],\"scatterpolargl\":[{\"type\":\"scatterpolargl\",\"marker\":{\"colorbar\":{\"outlinewidth\":0,\"ticks\":\"\"}}}],\"bar\":[{\"error_x\":{\"color\":\"#2a3f5f\"},\"error_y\":{\"color\":\"#2a3f5f\"},\"marker\":{\"line\":{\"color\":\"#E5ECF6\",\"width\":0.5},\"pattern\":{\"fillmode\":\"overlay\",\"size\":10,\"solidity\":0.2}},\"type\":\"bar\"}],\"scattergeo\":[{\"type\":\"scattergeo\",\"marker\":{\"colorbar\":{\"outlinewidth\":0,\"ticks\":\"\"}}}],\"scatterpolar\":[{\"type\":\"scatterpolar\",\"marker\":{\"colorbar\":{\"outlinewidth\":0,\"ticks\":\"\"}}}],\"histogram\":[{\"marker\":{\"pattern\":{\"fillmode\":\"overlay\",\"size\":10,\"solidity\":0.2}},\"type\":\"histogram\"}],\"scattergl\":[{\"type\":\"scattergl\",\"marker\":{\"colorbar\":{\"outlinewidth\":0,\"ticks\":\"\"}}}],\"scatter3d\":[{\"type\":\"scatter3d\",\"line\":{\"colorbar\":{\"outlinewidth\":0,\"ticks\":\"\"}},\"marker\":{\"colorbar\":{\"outlinewidth\":0,\"ticks\":\"\"}}}],\"scattermapbox\":[{\"type\":\"scattermapbox\",\"marker\":{\"colorbar\":{\"outlinewidth\":0,\"ticks\":\"\"}}}],\"scatterternary\":[{\"type\":\"scatterternary\",\"marker\":{\"colorbar\":{\"outlinewidth\":0,\"ticks\":\"\"}}}],\"scattercarpet\":[{\"type\":\"scattercarpet\",\"marker\":{\"colorbar\":{\"outlinewidth\":0,\"ticks\":\"\"}}}],\"carpet\":[{\"aaxis\":{\"endlinecolor\":\"#2a3f5f\",\"gridcolor\":\"white\",\"linecolor\":\"white\",\"minorgridcolor\":\"white\",\"startlinecolor\":\"#2a3f5f\"},\"baxis\":{\"endlinecolor\":\"#2a3f5f\",\"gridcolor\":\"white\",\"linecolor\":\"white\",\"minorgridcolor\":\"white\",\"startlinecolor\":\"#2a3f5f\"},\"type\":\"carpet\"}],\"table\":[{\"cells\":{\"fill\":{\"color\":\"#EBF0F8\"},\"line\":{\"color\":\"white\"}},\"header\":{\"fill\":{\"color\":\"#C8D4E3\"},\"line\":{\"color\":\"white\"}},\"type\":\"table\"}],\"barpolar\":[{\"marker\":{\"line\":{\"color\":\"#E5ECF6\",\"width\":0.5},\"pattern\":{\"fillmode\":\"overlay\",\"size\":10,\"solidity\":0.2}},\"type\":\"barpolar\"}],\"pie\":[{\"automargin\":true,\"type\":\"pie\"}]},\"layout\":{\"autotypenumbers\":\"strict\",\"colorway\":[\"#636efa\",\"#EF553B\",\"#00cc96\",\"#ab63fa\",\"#FFA15A\",\"#19d3f3\",\"#FF6692\",\"#B6E880\",\"#FF97FF\",\"#FECB52\"],\"font\":{\"color\":\"#2a3f5f\"},\"hovermode\":\"closest\",\"hoverlabel\":{\"align\":\"left\"},\"paper_bgcolor\":\"white\",\"plot_bgcolor\":\"#E5ECF6\",\"polar\":{\"bgcolor\":\"#E5ECF6\",\"angularaxis\":{\"gridcolor\":\"white\",\"linecolor\":\"white\",\"ticks\":\"\"},\"radialaxis\":{\"gridcolor\":\"white\",\"linecolor\":\"white\",\"ticks\":\"\"}},\"ternary\":{\"bgcolor\":\"#E5ECF6\",\"aaxis\":{\"gridcolor\":\"white\",\"linecolor\":\"white\",\"ticks\":\"\"},\"baxis\":{\"gridcolor\":\"white\",\"linecolor\":\"white\",\"ticks\":\"\"},\"caxis\":{\"gridcolor\":\"white\",\"linecolor\":\"white\",\"ticks\":\"\"}},\"coloraxis\":{\"colorbar\":{\"outlinewidth\":0,\"ticks\":\"\"}},\"colorscale\":{\"sequential\":[[0.0,\"#0d0887\"],[0.1111111111111111,\"#46039f\"],[0.2222222222222222,\"#7201a8\"],[0.3333333333333333,\"#9c179e\"],[0.4444444444444444,\"#bd3786\"],[0.5555555555555556,\"#d8576b\"],[0.6666666666666666,\"#ed7953\"],[0.7777777777777778,\"#fb9f3a\"],[0.8888888888888888,\"#fdca26\"],[1.0,\"#f0f921\"]],\"sequentialminus\":[[0.0,\"#0d0887\"],[0.1111111111111111,\"#46039f\"],[0.2222222222222222,\"#7201a8\"],[0.3333333333333333,\"#9c179e\"],[0.4444444444444444,\"#bd3786\"],[0.5555555555555556,\"#d8576b\"],[0.6666666666666666,\"#ed7953\"],[0.7777777777777778,\"#fb9f3a\"],[0.8888888888888888,\"#fdca26\"],[1.0,\"#f0f921\"]],\"diverging\":[[0,\"#8e0152\"],[0.1,\"#c51b7d\"],[0.2,\"#de77ae\"],[0.3,\"#f1b6da\"],[0.4,\"#fde0ef\"],[0.5,\"#f7f7f7\"],[0.6,\"#e6f5d0\"],[0.7,\"#b8e186\"],[0.8,\"#7fbc41\"],[0.9,\"#4d9221\"],[1,\"#276419\"]]},\"xaxis\":{\"gridcolor\":\"white\",\"linecolor\":\"white\",\"ticks\":\"\",\"title\":{\"standoff\":15},\"zerolinecolor\":\"white\",\"automargin\":true,\"zerolinewidth\":2},\"yaxis\":{\"gridcolor\":\"white\",\"linecolor\":\"white\",\"ticks\":\"\",\"title\":{\"standoff\":15},\"zerolinecolor\":\"white\",\"automargin\":true,\"zerolinewidth\":2},\"scene\":{\"xaxis\":{\"backgroundcolor\":\"#E5ECF6\",\"gridcolor\":\"white\",\"linecolor\":\"white\",\"showbackground\":true,\"ticks\":\"\",\"zerolinecolor\":\"white\",\"gridwidth\":2},\"yaxis\":{\"backgroundcolor\":\"#E5ECF6\",\"gridcolor\":\"white\",\"linecolor\":\"white\",\"showbackground\":true,\"ticks\":\"\",\"zerolinecolor\":\"white\",\"gridwidth\":2},\"zaxis\":{\"backgroundcolor\":\"#E5ECF6\",\"gridcolor\":\"white\",\"linecolor\":\"white\",\"showbackground\":true,\"ticks\":\"\",\"zerolinecolor\":\"white\",\"gridwidth\":2}},\"shapedefaults\":{\"line\":{\"color\":\"#2a3f5f\"}},\"annotationdefaults\":{\"arrowcolor\":\"#2a3f5f\",\"arrowhead\":0,\"arrowwidth\":1},\"geo\":{\"bgcolor\":\"white\",\"landcolor\":\"#E5ECF6\",\"subunitcolor\":\"white\",\"showland\":true,\"showlakes\":true,\"lakecolor\":\"white\"},\"title\":{\"x\":0.05},\"mapbox\":{\"style\":\"light\"}}},\"xaxis\":{\"anchor\":\"y\",\"domain\":[0.0,1.0],\"title\":{\"text\":\"Teams\"}},\"yaxis\":{\"anchor\":\"x\",\"domain\":[0.0,1.0],\"title\":{\"text\":\"Total wins\"}},\"legend\":{\"tracegroupgap\":0},\"margin\":{\"t\":60},\"barmode\":\"relative\"},                        {\"responsive\": true}                    ).then(function(){\n",
       "                            \n",
       "var gd = document.getElementById('72f3655c-50c2-4265-a3ba-7957e177c54b');\n",
       "var x = new MutationObserver(function (mutations, observer) {{\n",
       "        var display = window.getComputedStyle(gd).display;\n",
       "        if (!display || display === 'none') {{\n",
       "            console.log([gd, 'removed!']);\n",
       "            Plotly.purge(gd);\n",
       "            observer.disconnect();\n",
       "        }}\n",
       "}});\n",
       "\n",
       "// Listen for the removal of the full notebook cells\n",
       "var notebookContainer = gd.closest('#notebook-container');\n",
       "if (notebookContainer) {{\n",
       "    x.observe(notebookContainer, {childList: true});\n",
       "}}\n",
       "\n",
       "// Listen for the clearing of the current output cell\n",
       "var outputEl = gd.closest('.output');\n",
       "if (outputEl) {{\n",
       "    x.observe(outputEl, {childList: true});\n",
       "}}\n",
       "\n",
       "                        })                };                });            </script>        </div>"
      ]
     },
     "metadata": {},
     "output_type": "display_data"
    }
   ],
   "source": [
    "team_wins = df_1.winner.value_counts()\n",
    "px.bar(y = team_wins, x = team_wins.index, labels = {'x': 'Teams','y': 'Total wins'})"
   ]
  },
  {
   "cell_type": "code",
   "execution_count": 33,
   "id": "9ab79a87",
   "metadata": {
    "execution": {
     "iopub.execute_input": "2023-04-18T21:15:26.551936Z",
     "iopub.status.busy": "2023-04-18T21:15:26.551494Z",
     "iopub.status.idle": "2023-04-18T21:15:26.978245Z",
     "shell.execute_reply": "2023-04-18T21:15:26.976753Z"
    },
    "papermill": {
     "duration": 0.463886,
     "end_time": "2023-04-18T21:15:26.988387",
     "exception": false,
     "start_time": "2023-04-18T21:15:26.524501",
     "status": "completed"
    },
    "tags": []
   },
   "outputs": [
    {
     "data": {
      "text/plain": [
       "<AxesSubplot:>"
      ]
     },
     "execution_count": 33,
     "metadata": {},
     "output_type": "execute_result"
    },
    {
     "data": {
      "image/png": "[encoded data removed]",
      "text/plain": [
       "<Figure size 800x500 with 1 Axes>"
      ]
     },
     "metadata": {},
     "output_type": "display_data"
    }
   ],
   "source": [
    "matches_per_team = (df_1.team2.value_counts() + df_1.team1.value_counts()).sort_values(ascending=False)\n",
    "sns.barplot(x = matches_per_team.values, y = matches_per_team.index)"
   ]
  },
  {
   "cell_type": "markdown",
   "id": "8ff7a0ca",
   "metadata": {
    "papermill": {
     "duration": 0.026736,
     "end_time": "2023-04-18T21:15:27.044505",
     "exception": false,
     "start_time": "2023-04-18T21:15:27.017769",
     "status": "completed"
    },
    "tags": []
   },
   "source": [
    "Now we can see that there is not uniform distribution of no. of matches of each team. So it wouls be more better metrics to compute **winning percentage of each team**. "
   ]
  },
  {
   "cell_type": "markdown",
   "id": "ad718beb",
   "metadata": {
    "papermill": {
     "duration": 0.027477,
     "end_time": "2023-04-18T21:15:27.102523",
     "exception": false,
     "start_time": "2023-04-18T21:15:27.075046",
     "status": "completed"
    },
    "tags": []
   },
   "source": [
    "# **WINNING PERCENTAGE OF EACH TEAM**"
   ]
  },
  {
   "cell_type": "code",
   "execution_count": 34,
   "id": "43d7029d",
   "metadata": {
    "execution": {
     "iopub.execute_input": "2023-04-18T21:15:27.159974Z",
     "iopub.status.busy": "2023-04-18T21:15:27.159507Z",
     "iopub.status.idle": "2023-04-18T21:15:27.600863Z",
     "shell.execute_reply": "2023-04-18T21:15:27.599500Z"
    },
    "papermill": {
     "duration": 0.473556,
     "end_time": "2023-04-18T21:15:27.603831",
     "exception": false,
     "start_time": "2023-04-18T21:15:27.130275",
     "status": "completed"
    },
    "tags": []
   },
   "outputs": [
    {
     "data": {
      "image/png": "[encoded data removed]",
      "text/plain": [
       "<Figure size 800x500 with 1 Axes>"
      ]
     },
     "metadata": {},
     "output_type": "display_data"
    }
   ],
   "source": [
    "matches_per_team = matches_per_team.sort_index()\n",
    "team_wins = team_wins.sort_index()\n",
    "winning_percentage = team_wins / matches_per_team * 100\n",
    "winning_percentage = winning_percentage.sort_values(ascending=False)\n",
    "\n",
    "ax = plt.axes()\n",
    "ax.set(facecolor = 'white')\n",
    "sns.set_style(\"darkgrid\")\n",
    "sns.barplot(y = winning_percentage.index, x = winning_percentage, palette='viridis')\n",
    "plt.xticks(fontsize = 15);\n",
    "plt.yticks(fontsize = 15);\n",
    "plt.title('Winning percenage of all teams of IPL', fontsize = 20, fontweight = 'bold')\n",
    "plt.xlabel('Percentage', fontsize = 15, fontweight = 'bold')\n",
    "plt.ylabel('Teams', fontsize = 15, fontweight = 'bold');"
   ]
  },
  {
   "cell_type": "markdown",
   "id": "e1750588",
   "metadata": {
    "papermill": {
     "duration": 0.029771,
     "end_time": "2023-04-18T21:15:27.663251",
     "exception": false,
     "start_time": "2023-04-18T21:15:27.633480",
     "status": "completed"
    },
    "tags": []
   },
   "source": [
    "Now we have come to know that chennai super kings have highest winning percentage and mumbai indians have 2nd highest winning percentage."
   ]
  },
  {
   "cell_type": "markdown",
   "id": "6d367431",
   "metadata": {
    "papermill": {
     "duration": 0.028848,
     "end_time": "2023-04-18T21:15:27.721291",
     "exception": false,
     "start_time": "2023-04-18T21:15:27.692443",
     "status": "completed"
    },
    "tags": []
   },
   "source": [
    "# **DOES WINNING A TOSS MEAN WINNING A MATCH?**"
   ]
  },
  {
   "cell_type": "code",
   "execution_count": 35,
   "id": "0858fbf6",
   "metadata": {
    "execution": {
     "iopub.execute_input": "2023-04-18T21:15:27.782241Z",
     "iopub.status.busy": "2023-04-18T21:15:27.781092Z",
     "iopub.status.idle": "2023-04-18T21:15:28.037393Z",
     "shell.execute_reply": "2023-04-18T21:15:28.036081Z"
    },
    "papermill": {
     "duration": 0.289688,
     "end_time": "2023-04-18T21:15:28.039929",
     "exception": false,
     "start_time": "2023-04-18T21:15:27.750241",
     "status": "completed"
    },
    "tags": []
   },
   "outputs": [
    {
     "data": {
      "text/html": [
       "<div>                            <div id=\"42203695-e07d-43f6-af6f-6026b495bc3f\" class=\"plotly-graph-div\" style=\"height:525px; width:100%;\"></div>            <script type=\"text/javascript\">                require([\"plotly\"], function(Plotly) {                    window.PLOTLYENV=window.PLOTLYENV || {};                                    if (document.getElementById(\"42203695-e07d-43f6-af6f-6026b495bc3f\")) {                    Plotly.newPlot(                        \"42203695-e07d-43f6-af6f-6026b495bc3f\",                        [{\"hovertemplate\":\"x=%{x}<br>y=%{y}<extra></extra>\",\"legendgroup\":\"\",\"marker\":{\"color\":\"#636efa\",\"symbol\":\"circle\"},\"mode\":\"markers\",\"name\":\"\",\"orientation\":\"v\",\"showlegend\":false,\"x\":[7,0,3,12,7,10,3,0,10,5,10,0,1,5,0,8,3,5,10,3,12,5,8,10,5,1,8,0,7,10,8,0,7,10,5,7,8,5,3,8,5,10,8,0,3,10,5,12,5,3,10,12,7,10,0,10,0,10,8,12,3,1,0,7,1,3,10,5,1,3,5,1,8,10,12,5,3,0,8,12,10,0,5,12,0,10,3,1,10,0,3,5,0,8,3,1,12,8,3,12,10,5,0,1,5,3,7,12,7,0,3,12,1,12,1,7,8,3,7,1,3,12,0,8,12,0,1,10,12,1,5,8,12,10,8,10,7,3,10,8,3,8,0,3,7,12,0,8,5,3,10,0,10,7,1,5,1,12,5,8,1,8,0,12,3,1,8,7,0,1,7,8,0,12,0,0,10,12,8,9,7,10,8,5,9,1,7,6,0,5,3,7,6,1,8,6,5,8,12,3,8,10,0,12,0,1,7,10,12,3,7,10,0,8,6,7,0,8,6,3,12,7,8,12,9,0,9,5,12,0,5,12,1,5,6,1,5,0,7,10,1,14,12,8,0,8,12,0,8,3,9,10,12,0,10,9,8,7,3,8,0,5,7,3,9,5,10,3,10,12,7,3,0,12,0,9,5,7,12,3,8,1,3,5,7,3,8,7,1,3,5,8,0,7,10,8,12,7,10,5,12,0,12,8,0,10,5,8,0,3,7,5,12,1,3,7,1,8,7,0,0,7,7,12,13,10,8,5,13,10,8,0,12,9,13,8,0,7,10,9,5,12,13,10,0,13,0,12,3,5,0,12,5,8,0,7,10,8,0,3,10,8,0,13,3,0,12,7,13,5,8,10,12,10,8,0,10,7,12,8,13,7,10,5,8,9,0,8,5,13,5,9,12,13,0,10,8,8,7,12,5,10,12,3,5,0,5,0,7,13,0,10,5,3,0,5,10,13,0,8,10,12,10,0,8,7,5,13,5,13,0,7,10,8,0,12,5,7,10,12,7,8,5,13,7,8,7,13,8,5,0,7,5,8,7,0,5,7,7,0,10,0,12,10,5,13,10,7,3,10,0,3,7,10,8,7,5,13,0,3,12,8,0,12,13,7,14,0,3,8,12,13,8,10,0,7,8,12,13,8,7,13,12,0,13,3,5,8,12,0,10,14,8,8,12,0,8,11,7,4,12,8,4,3,7,4,5,3,13,7,8,13,12,3,13,4,7,8,11,4,8,4,3,13,5,8,7,3,7,11,13,12,5,13,4,12,13,8,3,5,12,7,13,8,12,11,12,4,3,11,4,7,12,12,13,13,13,13,11,7,5,12,13,8,5,3,8,7,8,4,7,3,8,11,7,13,12,13,8,4,8,11,5,7,11,7,4,7,13,11,8,5,13,8,11,3,11,3,5,11,8,7,4,13,5,3,5,3,13,8,11,12,11,7,8,8,0,5,7,13,0,10,13,12,3,13,10,5,7,8,7,5,0,5,12,0,10,5,13,0,13,3,8,13,7,0,12,3,7,8,0,13,8,5,13,10,8,13,10,7,12,0,10,12,7,8,12,3,10,7,3,0,0,7,13,0,0,7,2,5,0,7,8,13,5,2,13,0,5,10,8,13,7,0,8,2,7,5,0,8,0,2,10,12,0,2,8,5,13,8,12,10,2,13,12,2,0,12,10,8,10,2,7,13,14,0,8,7,2,12,5,8,8,2,0,8,0,2,12,13,10,7,5,8,2,7,13,8,7,2,0,10,8,2,5,8,7,0,12,2,13,5,13,2,5,8,12,7,13,12,8,10,0,8,7,5,13,10,12,8,0,10,8,2,12,10,13,2,0,7,5,12,8,13,2,8],\"xaxis\":\"x\",\"y\":[12,0,10,8,1,5,1,8,10,8,10,7,1,3,0,7,12,5,10,0,1,5,3,0,5,1,8,0,7,10,8,5,7,10,12,7,8,10,1,8,3,12,1,7,3,10,8,12,5,3,10,1,5,10,1,3,5,10,0,12,3,7,0,7,1,3,7,12,1,12,5,1,8,3,7,5,3,10,8,12,1,3,7,8,0,5,7,1,10,0,8,5,10,8,3,1,12,5,1,0,10,5,8,1,1,3,0,3,7,0,3,12,1,12,12,1,8,3,7,1,3,5,0,3,12,3,5,10,8,1,0,7,0,5,8,1,7,12,10,1,3,8,12,3,7,5,0,8,7,3,10,0,5,7,1,8,0,12,3,10,12,8,7,10,0,1,12,10,0,1,8,8,0,1,0,0,10,6,3,5,7,3,8,5,6,12,7,6,0,5,3,7,6,1,9,7,10,0,12,5,1,10,9,12,9,6,3,10,9,3,7,10,0,5,6,1,10,9,7,3,5,0,3,6,5,10,1,8,12,0,5,12,1,3,6,1,5,0,7,8,5,3,12,8,0,8,8,0,8,3,8,5,3,1,7,9,1,12,3,10,12,5,10,1,0,7,10,3,1,9,5,1,9,12,10,3,8,7,10,9,5,1,8,5,7,3,8,0,1,10,5,8,0,7,10,8,12,3,9,1,12,0,9,8,0,10,1,8,0,5,8,5,3,10,3,7,12,10,7,8,3,0,7,8,9,10,8,9,12,7,8,0,12,10,3,8,0,7,10,9,7,12,9,10,0,5,7,12,8,5,10,9,3,7,13,5,13,8,7,9,10,8,0,8,7,0,12,10,3,5,8,9,13,3,8,13,10,7,3,9,5,7,10,5,13,7,0,10,5,13,8,9,0,7,0,13,10,8,7,12,0,10,12,7,5,0,13,10,12,13,8,10,7,8,13,5,10,8,0,5,10,12,7,0,12,3,0,10,12,13,0,7,12,13,10,3,5,7,3,0,13,8,5,12,7,8,12,13,3,10,0,7,5,8,5,0,0,7,7,3,5,0,12,10,8,13,8,7,5,10,8,3,7,0,12,7,5,7,12,8,12,8,0,12,5,7,10,7,3,10,12,0,8,3,0,13,3,5,10,0,5,13,12,0,13,0,12,7,13,5,10,12,13,8,12,0,0,8,7,4,13,8,11,3,13,4,11,3,13,7,8,13,11,8,13,12,7,5,11,3,8,4,7,12,4,8,7,3,5,11,13,12,3,8,4,5,13,8,3,8,4,11,5,3,12,11,5,4,3,5,4,13,12,12,7,13,13,12,11,7,5,12,13,8,12,11,8,7,8,4,13,3,8,12,3,5,4,13,8,4,3,11,4,12,8,7,4,7,5,12,4,5,7,12,11,3,11,3,12,13,3,7,4,8,7,3,8,3,13,7,11,12,8,7,8,8,0,5,7,13,0,3,13,12,3,13,12,0,3,12,7,5,10,5,12,13,8,3,8,0,5,7,8,13,7,3,8,10,7,8,0,3,7,5,12,10,7,3,0,5,12,0,10,12,7,5,13,0,10,13,3,0,0,10,7,0,0,7,8,10,2,5,12,10,5,2,12,10,2,10,0,13,7,0,13,2,7,5,0,8,0,2,10,12,0,13,8,10,0,8,7,10,2,13,0,2,0,5,10,0,10,2,8,5,10,2,8,7,10,12,5,8,0,2,0,8,0,5,7,13,0,2,13,8,10,7,13,5,10,2,0,13,7,0,12,8,13,5,10,7,13,8,13,12,5,8,10,7,2,12,7,10,0,2,10,12,2,0,13,8,0,10,8,0,12,8,13,2,12,13,2,8,2,13,2,2],\"yaxis\":\"y\",\"type\":\"scatter\"}],                        {\"template\":{\"data\":{\"histogram2dcontour\":[{\"type\":\"histogram2dcontour\",\"colorbar\":{\"outlinewidth\":0,\"ticks\":\"\"},\"colorscale\":[[0.0,\"#0d0887\"],[0.1111111111111111,\"#46039f\"],[0.2222222222222222,\"#7201a8\"],[0.3333333333333333,\"#9c179e\"],[0.4444444444444444,\"#bd3786\"],[0.5555555555555556,\"#d8576b\"],[0.6666666666666666,\"#ed7953\"],[0.7777777777777778,\"#fb9f3a\"],[0.8888888888888888,\"#fdca26\"],[1.0,\"#f0f921\"]]}],\"choropleth\":[{\"type\":\"choropleth\",\"colorbar\":{\"outlinewidth\":0,\"ticks\":\"\"}}],\"histogram2d\":[{\"type\":\"histogram2d\",\"colorbar\":{\"outlinewidth\":0,\"ticks\":\"\"},\"colorscale\":[[0.0,\"#0d0887\"],[0.1111111111111111,\"#46039f\"],[0.2222222222222222,\"#7201a8\"],[0.3333333333333333,\"#9c179e\"],[0.4444444444444444,\"#bd3786\"],[0.5555555555555556,\"#d8576b\"],[0.6666666666666666,\"#ed7953\"],[0.7777777777777778,\"#fb9f3a\"],[0.8888888888888888,\"#fdca26\"],[1.0,\"#f0f921\"]]}],\"heatmap\":[{\"type\":\"heatmap\",\"colorbar\":{\"outlinewidth\":0,\"ticks\":\"\"},\"colorscale\":[[0.0,\"#0d0887\"],[0.1111111111111111,\"#46039f\"],[0.2222222222222222,\"#7201a8\"],[0.3333333333333333,\"#9c179e\"],[0.4444444444444444,\"#bd3786\"],[0.5555555555555556,\"#d8576b\"],[0.6666666666666666,\"#ed7953\"],[0.7777777777777778,\"#fb9f3a\"],[0.8888888888888888,\"#fdca26\"],[1.0,\"#f0f921\"]]}],\"heatmapgl\":[{\"type\":\"heatmapgl\",\"colorbar\":{\"outlinewidth\":0,\"ticks\":\"\"},\"colorscale\":[[0.0,\"#0d0887\"],[0.1111111111111111,\"#46039f\"],[0.2222222222222222,\"#7201a8\"],[0.3333333333333333,\"#9c179e\"],[0.4444444444444444,\"#bd3786\"],[0.5555555555555556,\"#d8576b\"],[0.6666666666666666,\"#ed7953\"],[0.7777777777777778,\"#fb9f3a\"],[0.8888888888888888,\"#fdca26\"],[1.0,\"#f0f921\"]]}],\"contourcarpet\":[{\"type\":\"contourcarpet\",\"colorbar\":{\"outlinewidth\":0,\"ticks\":\"\"}}],\"contour\":[{\"type\":\"contour\",\"colorbar\":{\"outlinewidth\":0,\"ticks\":\"\"},\"colorscale\":[[0.0,\"#0d0887\"],[0.1111111111111111,\"#46039f\"],[0.2222222222222222,\"#7201a8\"],[0.3333333333333333,\"#9c179e\"],[0.4444444444444444,\"#bd3786\"],[0.5555555555555556,\"#d8576b\"],[0.6666666666666666,\"#ed7953\"],[0.7777777777777778,\"#fb9f3a\"],[0.8888888888888888,\"#fdca26\"],[1.0,\"#f0f921\"]]}],\"surface\":[{\"type\":\"surface\",\"colorbar\":{\"outlinewidth\":0,\"ticks\":\"\"},\"colorscale\":[[0.0,\"#0d0887\"],[0.1111111111111111,\"#46039f\"],[0.2222222222222222,\"#7201a8\"],[0.3333333333333333,\"#9c179e\"],[0.4444444444444444,\"#bd3786\"],[0.5555555555555556,\"#d8576b\"],[0.6666666666666666,\"#ed7953\"],[0.7777777777777778,\"#fb9f3a\"],[0.8888888888888888,\"#fdca26\"],[1.0,\"#f0f921\"]]}],\"mesh3d\":[{\"type\":\"mesh3d\",\"colorbar\":{\"outlinewidth\":0,\"ticks\":\"\"}}],\"scatter\":[{\"fillpattern\":{\"fillmode\":\"overlay\",\"size\":10,\"solidity\":0.2},\"type\":\"scatter\"}],\"parcoords\":[{\"type\":\"parcoords\",\"line\":{\"colorbar\":{\"outlinewidth\":0,\"ticks\":\"\"}}}],\"scatterpolargl\":[{\"type\":\"scatterpolargl\",\"marker\":{\"colorbar\":{\"outlinewidth\":0,\"ticks\":\"\"}}}],\"bar\":[{\"error_x\":{\"color\":\"#2a3f5f\"},\"error_y\":{\"color\":\"#2a3f5f\"},\"marker\":{\"line\":{\"color\":\"#E5ECF6\",\"width\":0.5},\"pattern\":{\"fillmode\":\"overlay\",\"size\":10,\"solidity\":0.2}},\"type\":\"bar\"}],\"scattergeo\":[{\"type\":\"scattergeo\",\"marker\":{\"colorbar\":{\"outlinewidth\":0,\"ticks\":\"\"}}}],\"scatterpolar\":[{\"type\":\"scatterpolar\",\"marker\":{\"colorbar\":{\"outlinewidth\":0,\"ticks\":\"\"}}}],\"histogram\":[{\"marker\":{\"pattern\":{\"fillmode\":\"overlay\",\"size\":10,\"solidity\":0.2}},\"type\":\"histogram\"}],\"scattergl\":[{\"type\":\"scattergl\",\"marker\":{\"colorbar\":{\"outlinewidth\":0,\"ticks\":\"\"}}}],\"scatter3d\":[{\"type\":\"scatter3d\",\"line\":{\"colorbar\":{\"outlinewidth\":0,\"ticks\":\"\"}},\"marker\":{\"colorbar\":{\"outlinewidth\":0,\"ticks\":\"\"}}}],\"scattermapbox\":[{\"type\":\"scattermapbox\",\"marker\":{\"colorbar\":{\"outlinewidth\":0,\"ticks\":\"\"}}}],\"scatterternary\":[{\"type\":\"scatterternary\",\"marker\":{\"colorbar\":{\"outlinewidth\":0,\"ticks\":\"\"}}}],\"scattercarpet\":[{\"type\":\"scattercarpet\",\"marker\":{\"colorbar\":{\"outlinewidth\":0,\"ticks\":\"\"}}}],\"carpet\":[{\"aaxis\":{\"endlinecolor\":\"#2a3f5f\",\"gridcolor\":\"white\",\"linecolor\":\"white\",\"minorgridcolor\":\"white\",\"startlinecolor\":\"#2a3f5f\"},\"baxis\":{\"endlinecolor\":\"#2a3f5f\",\"gridcolor\":\"white\",\"linecolor\":\"white\",\"minorgridcolor\":\"white\",\"startlinecolor\":\"#2a3f5f\"},\"type\":\"carpet\"}],\"table\":[{\"cells\":{\"fill\":{\"color\":\"#EBF0F8\"},\"line\":{\"color\":\"white\"}},\"header\":{\"fill\":{\"color\":\"#C8D4E3\"},\"line\":{\"color\":\"white\"}},\"type\":\"table\"}],\"barpolar\":[{\"marker\":{\"line\":{\"color\":\"#E5ECF6\",\"width\":0.5},\"pattern\":{\"fillmode\":\"overlay\",\"size\":10,\"solidity\":0.2}},\"type\":\"barpolar\"}],\"pie\":[{\"automargin\":true,\"type\":\"pie\"}]},\"layout\":{\"autotypenumbers\":\"strict\",\"colorway\":[\"#636efa\",\"#EF553B\",\"#00cc96\",\"#ab63fa\",\"#FFA15A\",\"#19d3f3\",\"#FF6692\",\"#B6E880\",\"#FF97FF\",\"#FECB52\"],\"font\":{\"color\":\"#2a3f5f\"},\"hovermode\":\"closest\",\"hoverlabel\":{\"align\":\"left\"},\"paper_bgcolor\":\"white\",\"plot_bgcolor\":\"#E5ECF6\",\"polar\":{\"bgcolor\":\"#E5ECF6\",\"angularaxis\":{\"gridcolor\":\"white\",\"linecolor\":\"white\",\"ticks\":\"\"},\"radialaxis\":{\"gridcolor\":\"white\",\"linecolor\":\"white\",\"ticks\":\"\"}},\"ternary\":{\"bgcolor\":\"#E5ECF6\",\"aaxis\":{\"gridcolor\":\"white\",\"linecolor\":\"white\",\"ticks\":\"\"},\"baxis\":{\"gridcolor\":\"white\",\"linecolor\":\"white\",\"ticks\":\"\"},\"caxis\":{\"gridcolor\":\"white\",\"linecolor\":\"white\",\"ticks\":\"\"}},\"coloraxis\":{\"colorbar\":{\"outlinewidth\":0,\"ticks\":\"\"}},\"colorscale\":{\"sequential\":[[0.0,\"#0d0887\"],[0.1111111111111111,\"#46039f\"],[0.2222222222222222,\"#7201a8\"],[0.3333333333333333,\"#9c179e\"],[0.4444444444444444,\"#bd3786\"],[0.5555555555555556,\"#d8576b\"],[0.6666666666666666,\"#ed7953\"],[0.7777777777777778,\"#fb9f3a\"],[0.8888888888888888,\"#fdca26\"],[1.0,\"#f0f921\"]],\"sequentialminus\":[[0.0,\"#0d0887\"],[0.1111111111111111,\"#46039f\"],[0.2222222222222222,\"#7201a8\"],[0.3333333333333333,\"#9c179e\"],[0.4444444444444444,\"#bd3786\"],[0.5555555555555556,\"#d8576b\"],[0.6666666666666666,\"#ed7953\"],[0.7777777777777778,\"#fb9f3a\"],[0.8888888888888888,\"#fdca26\"],[1.0,\"#f0f921\"]],\"diverging\":[[0,\"#8e0152\"],[0.1,\"#c51b7d\"],[0.2,\"#de77ae\"],[0.3,\"#f1b6da\"],[0.4,\"#fde0ef\"],[0.5,\"#f7f7f7\"],[0.6,\"#e6f5d0\"],[0.7,\"#b8e186\"],[0.8,\"#7fbc41\"],[0.9,\"#4d9221\"],[1,\"#276419\"]]},\"xaxis\":{\"gridcolor\":\"white\",\"linecolor\":\"white\",\"ticks\":\"\",\"title\":{\"standoff\":15},\"zerolinecolor\":\"white\",\"automargin\":true,\"zerolinewidth\":2},\"yaxis\":{\"gridcolor\":\"white\",\"linecolor\":\"white\",\"ticks\":\"\",\"title\":{\"standoff\":15},\"zerolinecolor\":\"white\",\"automargin\":true,\"zerolinewidth\":2},\"scene\":{\"xaxis\":{\"backgroundcolor\":\"#E5ECF6\",\"gridcolor\":\"white\",\"linecolor\":\"white\",\"showbackground\":true,\"ticks\":\"\",\"zerolinecolor\":\"white\",\"gridwidth\":2},\"yaxis\":{\"backgroundcolor\":\"#E5ECF6\",\"gridcolor\":\"white\",\"linecolor\":\"white\",\"showbackground\":true,\"ticks\":\"\",\"zerolinecolor\":\"white\",\"gridwidth\":2},\"zaxis\":{\"backgroundcolor\":\"#E5ECF6\",\"gridcolor\":\"white\",\"linecolor\":\"white\",\"showbackground\":true,\"ticks\":\"\",\"zerolinecolor\":\"white\",\"gridwidth\":2}},\"shapedefaults\":{\"line\":{\"color\":\"#2a3f5f\"}},\"annotationdefaults\":{\"arrowcolor\":\"#2a3f5f\",\"arrowhead\":0,\"arrowwidth\":1},\"geo\":{\"bgcolor\":\"white\",\"landcolor\":\"#E5ECF6\",\"subunitcolor\":\"white\",\"showland\":true,\"showlakes\":true,\"lakecolor\":\"white\"},\"title\":{\"x\":0.05},\"mapbox\":{\"style\":\"light\"}}},\"xaxis\":{\"anchor\":\"y\",\"domain\":[0.0,1.0],\"title\":{\"text\":\"x\"}},\"yaxis\":{\"anchor\":\"x\",\"domain\":[0.0,1.0],\"title\":{\"text\":\"y\"}},\"legend\":{\"tracegroupgap\":0},\"margin\":{\"t\":60}},                        {\"responsive\": true}                    ).then(function(){\n",
       "                            \n",
       "var gd = document.getElementById('42203695-e07d-43f6-af6f-6026b495bc3f');\n",
       "var x = new MutationObserver(function (mutations, observer) {{\n",
       "        var display = window.getComputedStyle(gd).display;\n",
       "        if (!display || display === 'none') {{\n",
       "            console.log([gd, 'removed!']);\n",
       "            Plotly.purge(gd);\n",
       "            observer.disconnect();\n",
       "        }}\n",
       "}});\n",
       "\n",
       "// Listen for the removal of the full notebook cells\n",
       "var notebookContainer = gd.closest('#notebook-container');\n",
       "if (notebookContainer) {{\n",
       "    x.observe(notebookContainer, {childList: true});\n",
       "}}\n",
       "\n",
       "// Listen for the clearing of the current output cell\n",
       "var outputEl = gd.closest('.output');\n",
       "if (outputEl) {{\n",
       "    x.observe(outputEl, {childList: true});\n",
       "}}\n",
       "\n",
       "                        })                };                });            </script>        </div>"
      ]
     },
     "metadata": {},
     "output_type": "display_data"
    }
   ],
   "source": [
    "#Encoding the toss winner and winner column for correlation analysis\n",
    "\n",
    "from sklearn.preprocessing import LabelEncoder\n",
    "Le = LabelEncoder()\n",
    "encoded_toss_winner = Le.fit_transform(df_1['toss_winner'])\n",
    "encoded_winner = Le.fit_transform(df_1['winner'])\n",
    "\n",
    "px.scatter(x = encoded_winner, y = encoded_toss_winner)"
   ]
  },
  {
   "cell_type": "code",
   "execution_count": 36,
   "id": "4638bf79",
   "metadata": {
    "execution": {
     "iopub.execute_input": "2023-04-18T21:15:28.100366Z",
     "iopub.status.busy": "2023-04-18T21:15:28.099622Z",
     "iopub.status.idle": "2023-04-18T21:15:28.387318Z",
     "shell.execute_reply": "2023-04-18T21:15:28.385980Z"
    },
    "papermill": {
     "duration": 0.319996,
     "end_time": "2023-04-18T21:15:28.389759",
     "exception": false,
     "start_time": "2023-04-18T21:15:28.069763",
     "status": "completed"
    },
    "tags": []
   },
   "outputs": [
    {
     "data": {
      "text/plain": [
       "<AxesSubplot:>"
      ]
     },
     "execution_count": 36,
     "metadata": {},
     "output_type": "execute_result"
    },
    {
     "data": {
      "image/png": "[encoded data removed]",
      "text/plain": [
       "<Figure size 800x500 with 2 Axes>"
      ]
     },
     "metadata": {},
     "output_type": "display_data"
    }
   ],
   "source": [
    "sns.heatmap(np.corrcoef(encoded_toss_winner,encoded_winner), annot = True, cmap = \"icefire\")"
   ]
  },
  {
   "cell_type": "markdown",
   "id": "4d0eed4c",
   "metadata": {
    "papermill": {
     "duration": 0.028165,
     "end_time": "2023-04-18T21:15:28.447141",
     "exception": false,
     "start_time": "2023-04-18T21:15:28.418976",
     "status": "completed"
    },
    "tags": []
   },
   "source": [
    "By observing correlation between winning toss and winning match , we can say that ***winning a match in IPL doesn't highly depends on just winng toss. There are also many other factors.***"
   ]
  },
  {
   "cell_type": "markdown",
   "id": "ad6b6064",
   "metadata": {
    "papermill": {
     "duration": 0.028155,
     "end_time": "2023-04-18T21:15:28.504044",
     "exception": false,
     "start_time": "2023-04-18T21:15:28.475889",
     "status": "completed"
    },
    "tags": []
   },
   "source": [
    "# **TOP 10 MOST PLAYER OF THE MATCHES**"
   ]
  },
  {
   "cell_type": "code",
   "execution_count": 37,
   "id": "e0d410b5",
   "metadata": {
    "execution": {
     "iopub.execute_input": "2023-04-18T21:15:28.564881Z",
     "iopub.status.busy": "2023-04-18T21:15:28.564084Z",
     "iopub.status.idle": "2023-04-18T21:15:28.634389Z",
     "shell.execute_reply": "2023-04-18T21:15:28.633250Z"
    },
    "papermill": {
     "duration": 0.104524,
     "end_time": "2023-04-18T21:15:28.637039",
     "exception": false,
     "start_time": "2023-04-18T21:15:28.532515",
     "status": "completed"
    },
    "tags": []
   },
   "outputs": [
    {
     "data": {
      "text/html": [
       "<div>                            <div id=\"55a938a4-5b3f-462f-af13-ac51ebeb90e1\" class=\"plotly-graph-div\" style=\"height:525px; width:100%;\"></div>            <script type=\"text/javascript\">                require([\"plotly\"], function(Plotly) {                    window.PLOTLYENV=window.PLOTLYENV || {};                                    if (document.getElementById(\"55a938a4-5b3f-462f-af13-ac51ebeb90e1\")) {                    Plotly.newPlot(                        \"55a938a4-5b3f-462f-af13-ac51ebeb90e1\",                        [{\"labels\":[\"AB de Villiers\",\"CH Gayle\",\"RG Sharma\",\"DA Warner\",\"MS Dhoni\",\"SR Watson\",\"YK Pathan\",\"SK Raina\",\"V Kohli\",\"G Gambhir\"],\"values\":[23,22,18,17,17,16,16,14,13,13],\"type\":\"pie\",\"textfont\":{\"size\":10},\"marker\":{\"line\":{\"color\":\"#000000\",\"width\":2},\"colors\":[\"gold\",\"mediumturquoise\",\"darkorange\",\"lightgreen\"]},\"hoverinfo\":\"percent+label\",\"textinfo\":\"value+label\"}],                        {\"template\":{\"data\":{\"histogram2dcontour\":[{\"type\":\"histogram2dcontour\",\"colorbar\":{\"outlinewidth\":0,\"ticks\":\"\"},\"colorscale\":[[0.0,\"#0d0887\"],[0.1111111111111111,\"#46039f\"],[0.2222222222222222,\"#7201a8\"],[0.3333333333333333,\"#9c179e\"],[0.4444444444444444,\"#bd3786\"],[0.5555555555555556,\"#d8576b\"],[0.6666666666666666,\"#ed7953\"],[0.7777777777777778,\"#fb9f3a\"],[0.8888888888888888,\"#fdca26\"],[1.0,\"#f0f921\"]]}],\"choropleth\":[{\"type\":\"choropleth\",\"colorbar\":{\"outlinewidth\":0,\"ticks\":\"\"}}],\"histogram2d\":[{\"type\":\"histogram2d\",\"colorbar\":{\"outlinewidth\":0,\"ticks\":\"\"},\"colorscale\":[[0.0,\"#0d0887\"],[0.1111111111111111,\"#46039f\"],[0.2222222222222222,\"#7201a8\"],[0.3333333333333333,\"#9c179e\"],[0.4444444444444444,\"#bd3786\"],[0.5555555555555556,\"#d8576b\"],[0.6666666666666666,\"#ed7953\"],[0.7777777777777778,\"#fb9f3a\"],[0.8888888888888888,\"#fdca26\"],[1.0,\"#f0f921\"]]}],\"heatmap\":[{\"type\":\"heatmap\",\"colorbar\":{\"outlinewidth\":0,\"ticks\":\"\"},\"colorscale\":[[0.0,\"#0d0887\"],[0.1111111111111111,\"#46039f\"],[0.2222222222222222,\"#7201a8\"],[0.3333333333333333,\"#9c179e\"],[0.4444444444444444,\"#bd3786\"],[0.5555555555555556,\"#d8576b\"],[0.6666666666666666,\"#ed7953\"],[0.7777777777777778,\"#fb9f3a\"],[0.8888888888888888,\"#fdca26\"],[1.0,\"#f0f921\"]]}],\"heatmapgl\":[{\"type\":\"heatmapgl\",\"colorbar\":{\"outlinewidth\":0,\"ticks\":\"\"},\"colorscale\":[[0.0,\"#0d0887\"],[0.1111111111111111,\"#46039f\"],[0.2222222222222222,\"#7201a8\"],[0.3333333333333333,\"#9c179e\"],[0.4444444444444444,\"#bd3786\"],[0.5555555555555556,\"#d8576b\"],[0.6666666666666666,\"#ed7953\"],[0.7777777777777778,\"#fb9f3a\"],[0.8888888888888888,\"#fdca26\"],[1.0,\"#f0f921\"]]}],\"contourcarpet\":[{\"type\":\"contourcarpet\",\"colorbar\":{\"outlinewidth\":0,\"ticks\":\"\"}}],\"contour\":[{\"type\":\"contour\",\"colorbar\":{\"outlinewidth\":0,\"ticks\":\"\"},\"colorscale\":[[0.0,\"#0d0887\"],[0.1111111111111111,\"#46039f\"],[0.2222222222222222,\"#7201a8\"],[0.3333333333333333,\"#9c179e\"],[0.4444444444444444,\"#bd3786\"],[0.5555555555555556,\"#d8576b\"],[0.6666666666666666,\"#ed7953\"],[0.7777777777777778,\"#fb9f3a\"],[0.8888888888888888,\"#fdca26\"],[1.0,\"#f0f921\"]]}],\"surface\":[{\"type\":\"surface\",\"colorbar\":{\"outlinewidth\":0,\"ticks\":\"\"},\"colorscale\":[[0.0,\"#0d0887\"],[0.1111111111111111,\"#46039f\"],[0.2222222222222222,\"#7201a8\"],[0.3333333333333333,\"#9c179e\"],[0.4444444444444444,\"#bd3786\"],[0.5555555555555556,\"#d8576b\"],[0.6666666666666666,\"#ed7953\"],[0.7777777777777778,\"#fb9f3a\"],[0.8888888888888888,\"#fdca26\"],[1.0,\"#f0f921\"]]}],\"mesh3d\":[{\"type\":\"mesh3d\",\"colorbar\":{\"outlinewidth\":0,\"ticks\":\"\"}}],\"scatter\":[{\"fillpattern\":{\"fillmode\":\"overlay\",\"size\":10,\"solidity\":0.2},\"type\":\"scatter\"}],\"parcoords\":[{\"type\":\"parcoords\",\"line\":{\"colorbar\":{\"outlinewidth\":0,\"ticks\":\"\"}}}],\"scatterpolargl\":[{\"type\":\"scatterpolargl\",\"marker\":{\"colorbar\":{\"outlinewidth\":0,\"ticks\":\"\"}}}],\"bar\":[{\"error_x\":{\"color\":\"#2a3f5f\"},\"error_y\":{\"color\":\"#2a3f5f\"},\"marker\":{\"line\":{\"color\":\"#E5ECF6\",\"width\":0.5},\"pattern\":{\"fillmode\":\"overlay\",\"size\":10,\"solidity\":0.2}},\"type\":\"bar\"}],\"scattergeo\":[{\"type\":\"scattergeo\",\"marker\":{\"colorbar\":{\"outlinewidth\":0,\"ticks\":\"\"}}}],\"scatterpolar\":[{\"type\":\"scatterpolar\",\"marker\":{\"colorbar\":{\"outlinewidth\":0,\"ticks\":\"\"}}}],\"histogram\":[{\"marker\":{\"pattern\":{\"fillmode\":\"overlay\",\"size\":10,\"solidity\":0.2}},\"type\":\"histogram\"}],\"scattergl\":[{\"type\":\"scattergl\",\"marker\":{\"colorbar\":{\"outlinewidth\":0,\"ticks\":\"\"}}}],\"scatter3d\":[{\"type\":\"scatter3d\",\"line\":{\"colorbar\":{\"outlinewidth\":0,\"ticks\":\"\"}},\"marker\":{\"colorbar\":{\"outlinewidth\":0,\"ticks\":\"\"}}}],\"scattermapbox\":[{\"type\":\"scattermapbox\",\"marker\":{\"colorbar\":{\"outlinewidth\":0,\"ticks\":\"\"}}}],\"scatterternary\":[{\"type\":\"scatterternary\",\"marker\":{\"colorbar\":{\"outlinewidth\":0,\"ticks\":\"\"}}}],\"scattercarpet\":[{\"type\":\"scattercarpet\",\"marker\":{\"colorbar\":{\"outlinewidth\":0,\"ticks\":\"\"}}}],\"carpet\":[{\"aaxis\":{\"endlinecolor\":\"#2a3f5f\",\"gridcolor\":\"white\",\"linecolor\":\"white\",\"minorgridcolor\":\"white\",\"startlinecolor\":\"#2a3f5f\"},\"baxis\":{\"endlinecolor\":\"#2a3f5f\",\"gridcolor\":\"white\",\"linecolor\":\"white\",\"minorgridcolor\":\"white\",\"startlinecolor\":\"#2a3f5f\"},\"type\":\"carpet\"}],\"table\":[{\"cells\":{\"fill\":{\"color\":\"#EBF0F8\"},\"line\":{\"color\":\"white\"}},\"header\":{\"fill\":{\"color\":\"#C8D4E3\"},\"line\":{\"color\":\"white\"}},\"type\":\"table\"}],\"barpolar\":[{\"marker\":{\"line\":{\"color\":\"#E5ECF6\",\"width\":0.5},\"pattern\":{\"fillmode\":\"overlay\",\"size\":10,\"solidity\":0.2}},\"type\":\"barpolar\"}],\"pie\":[{\"automargin\":true,\"type\":\"pie\"}]},\"layout\":{\"autotypenumbers\":\"strict\",\"colorway\":[\"#636efa\",\"#EF553B\",\"#00cc96\",\"#ab63fa\",\"#FFA15A\",\"#19d3f3\",\"#FF6692\",\"#B6E880\",\"#FF97FF\",\"#FECB52\"],\"font\":{\"color\":\"#2a3f5f\"},\"hovermode\":\"closest\",\"hoverlabel\":{\"align\":\"left\"},\"paper_bgcolor\":\"white\",\"plot_bgcolor\":\"#E5ECF6\",\"polar\":{\"bgcolor\":\"#E5ECF6\",\"angularaxis\":{\"gridcolor\":\"white\",\"linecolor\":\"white\",\"ticks\":\"\"},\"radialaxis\":{\"gridcolor\":\"white\",\"linecolor\":\"white\",\"ticks\":\"\"}},\"ternary\":{\"bgcolor\":\"#E5ECF6\",\"aaxis\":{\"gridcolor\":\"white\",\"linecolor\":\"white\",\"ticks\":\"\"},\"baxis\":{\"gridcolor\":\"white\",\"linecolor\":\"white\",\"ticks\":\"\"},\"caxis\":{\"gridcolor\":\"white\",\"linecolor\":\"white\",\"ticks\":\"\"}},\"coloraxis\":{\"colorbar\":{\"outlinewidth\":0,\"ticks\":\"\"}},\"colorscale\":{\"sequential\":[[0.0,\"#0d0887\"],[0.1111111111111111,\"#46039f\"],[0.2222222222222222,\"#7201a8\"],[0.3333333333333333,\"#9c179e\"],[0.4444444444444444,\"#bd3786\"],[0.5555555555555556,\"#d8576b\"],[0.6666666666666666,\"#ed7953\"],[0.7777777777777778,\"#fb9f3a\"],[0.8888888888888888,\"#fdca26\"],[1.0,\"#f0f921\"]],\"sequentialminus\":[[0.0,\"#0d0887\"],[0.1111111111111111,\"#46039f\"],[0.2222222222222222,\"#7201a8\"],[0.3333333333333333,\"#9c179e\"],[0.4444444444444444,\"#bd3786\"],[0.5555555555555556,\"#d8576b\"],[0.6666666666666666,\"#ed7953\"],[0.7777777777777778,\"#fb9f3a\"],[0.8888888888888888,\"#fdca26\"],[1.0,\"#f0f921\"]],\"diverging\":[[0,\"#8e0152\"],[0.1,\"#c51b7d\"],[0.2,\"#de77ae\"],[0.3,\"#f1b6da\"],[0.4,\"#fde0ef\"],[0.5,\"#f7f7f7\"],[0.6,\"#e6f5d0\"],[0.7,\"#b8e186\"],[0.8,\"#7fbc41\"],[0.9,\"#4d9221\"],[1,\"#276419\"]]},\"xaxis\":{\"gridcolor\":\"white\",\"linecolor\":\"white\",\"ticks\":\"\",\"title\":{\"standoff\":15},\"zerolinecolor\":\"white\",\"automargin\":true,\"zerolinewidth\":2},\"yaxis\":{\"gridcolor\":\"white\",\"linecolor\":\"white\",\"ticks\":\"\",\"title\":{\"standoff\":15},\"zerolinecolor\":\"white\",\"automargin\":true,\"zerolinewidth\":2},\"scene\":{\"xaxis\":{\"backgroundcolor\":\"#E5ECF6\",\"gridcolor\":\"white\",\"linecolor\":\"white\",\"showbackground\":true,\"ticks\":\"\",\"zerolinecolor\":\"white\",\"gridwidth\":2},\"yaxis\":{\"backgroundcolor\":\"#E5ECF6\",\"gridcolor\":\"white\",\"linecolor\":\"white\",\"showbackground\":true,\"ticks\":\"\",\"zerolinecolor\":\"white\",\"gridwidth\":2},\"zaxis\":{\"backgroundcolor\":\"#E5ECF6\",\"gridcolor\":\"white\",\"linecolor\":\"white\",\"showbackground\":true,\"ticks\":\"\",\"zerolinecolor\":\"white\",\"gridwidth\":2}},\"shapedefaults\":{\"line\":{\"color\":\"#2a3f5f\"}},\"annotationdefaults\":{\"arrowcolor\":\"#2a3f5f\",\"arrowhead\":0,\"arrowwidth\":1},\"geo\":{\"bgcolor\":\"white\",\"landcolor\":\"#E5ECF6\",\"subunitcolor\":\"white\",\"showland\":true,\"showlakes\":true,\"lakecolor\":\"white\"},\"title\":{\"x\":0.05},\"mapbox\":{\"style\":\"light\"}}},\"font\":{\"size\":13},\"title\":{\"text\":\"TOP 10 MOST PLAYER OF THE MATCHES\"},\"legend\":{\"title\":{\"text\":\"Players\"}}},                        {\"responsive\": true}                    ).then(function(){\n",
       "                            \n",
       "var gd = document.getElementById('55a938a4-5b3f-462f-af13-ac51ebeb90e1');\n",
       "var x = new MutationObserver(function (mutations, observer) {{\n",
       "        var display = window.getComputedStyle(gd).display;\n",
       "        if (!display || display === 'none') {{\n",
       "            console.log([gd, 'removed!']);\n",
       "            Plotly.purge(gd);\n",
       "            observer.disconnect();\n",
       "        }}\n",
       "}});\n",
       "\n",
       "// Listen for the removal of the full notebook cells\n",
       "var notebookContainer = gd.closest('#notebook-container');\n",
       "if (notebookContainer) {{\n",
       "    x.observe(notebookContainer, {childList: true});\n",
       "}}\n",
       "\n",
       "// Listen for the clearing of the current output cell\n",
       "var outputEl = gd.closest('.output');\n",
       "if (outputEl) {{\n",
       "    x.observe(outputEl, {childList: true});\n",
       "}}\n",
       "\n",
       "                        })                };                });            </script>        </div>"
      ]
     },
     "metadata": {},
     "output_type": "display_data"
    }
   ],
   "source": [
    "import plotly.graph_objects as go\n",
    "\n",
    "top_player_of_matches = df_1.player_of_match.value_counts().head(10)\n",
    "fig = go.Figure(data = go.Pie(labels = top_player_of_matches.index,values= top_player_of_matches.values))\n",
    "fig.update_traces(hoverinfo='percent+label', textinfo='value+label', textfont_size=10,\n",
    "                  marker=dict(colors =  ['gold', 'mediumturquoise', 'darkorange', 'lightgreen']\n",
    "                , line=dict(color='#000000', width=2)))\n",
    "fig.update_layout(\n",
    "    title=\"TOP 10 MOST PLAYER OF THE MATCHES\",\n",
    "    legend_title=\"Players\",\n",
    "    font=dict(\n",
    "    size = 13)\n",
    "  )"
   ]
  },
  {
   "cell_type": "markdown",
   "id": "246898ee",
   "metadata": {
    "papermill": {
     "duration": 0.029118,
     "end_time": "2023-04-18T21:15:28.698080",
     "exception": false,
     "start_time": "2023-04-18T21:15:28.668962",
     "status": "completed"
    },
    "tags": []
   },
   "source": [
    "# **TOSS DECISIONS**"
   ]
  },
  {
   "cell_type": "code",
   "execution_count": 38,
   "id": "ca6ebc36",
   "metadata": {
    "execution": {
     "iopub.execute_input": "2023-04-18T21:15:28.761651Z",
     "iopub.status.busy": "2023-04-18T21:15:28.760886Z",
     "iopub.status.idle": "2023-04-18T21:15:29.207311Z",
     "shell.execute_reply": "2023-04-18T21:15:29.205916Z"
    },
    "papermill": {
     "duration": 0.482125,
     "end_time": "2023-04-18T21:15:29.210355",
     "exception": false,
     "start_time": "2023-04-18T21:15:28.728230",
     "status": "completed"
    },
    "tags": []
   },
   "outputs": [
    {
     "data": {
      "text/plain": [
       "<AxesSubplot:xlabel='season', ylabel='count'>"
      ]
     },
     "execution_count": 38,
     "metadata": {},
     "output_type": "execute_result"
    },
    {
     "data": {
      "image/png": "[encoded data removed]",
      "text/plain": [
       "<Figure size 800x500 with 1 Axes>"
      ]
     },
     "metadata": {},
     "output_type": "display_data"
    }
   ],
   "source": [
    "ax = plt.axes()\n",
    "ax.set(facecolor = 'black')\n",
    "sns.countplot(x = 'season',data = df_1, hue = 'toss_decision',\n",
    "              palette='magma', orient=0, saturation=2)"
   ]
  },
  {
   "cell_type": "markdown",
   "id": "5d99f422",
   "metadata": {
    "papermill": {
     "duration": 0.031662,
     "end_time": "2023-04-18T21:15:29.274055",
     "exception": false,
     "start_time": "2023-04-18T21:15:29.242393",
     "status": "completed"
    },
    "tags": []
   },
   "source": [
    "# **WINNING METHODS THROUGH THE YEARS**"
   ]
  },
  {
   "cell_type": "code",
   "execution_count": 39,
   "id": "f47ba2f7",
   "metadata": {
    "execution": {
     "iopub.execute_input": "2023-04-18T21:15:29.340713Z",
     "iopub.status.busy": "2023-04-18T21:15:29.339806Z",
     "iopub.status.idle": "2023-04-18T21:15:29.859405Z",
     "shell.execute_reply": "2023-04-18T21:15:29.858362Z"
    },
    "papermill": {
     "duration": 0.55636,
     "end_time": "2023-04-18T21:15:29.861857",
     "exception": false,
     "start_time": "2023-04-18T21:15:29.305497",
     "status": "completed"
    },
    "tags": []
   },
   "outputs": [
    {
     "data": {
      "text/plain": [
       "<AxesSubplot:xlabel='season', ylabel='count'>"
      ]
     },
     "execution_count": 39,
     "metadata": {},
     "output_type": "execute_result"
    },
    {
     "data": {
      "image/png": "[encoded data removed]",
      "text/plain": [
       "<Figure size 800x500 with 1 Axes>"
      ]
     },
     "metadata": {},
     "output_type": "display_data"
    }
   ],
   "source": [
    "ax = plt.axes()\n",
    "ax.set(facecolor = 'black')\n",
    "sns.set(rc= {\"figure.figsize\":(10,8)}, style = 'whitegrid')\n",
    "sns.countplot(x = 'season',data = df_1, hue = 'result',\n",
    "              palette='magma', orient=0, saturation=2)"
   ]
  },
  {
   "cell_type": "markdown",
   "id": "a5190102",
   "metadata": {
    "papermill": {
     "duration": 0.031328,
     "end_time": "2023-04-18T21:15:29.924669",
     "exception": false,
     "start_time": "2023-04-18T21:15:29.893341",
     "status": "completed"
    },
    "tags": []
   },
   "source": [
    "Now it's making sense that why there are field decisions because in many years more results are winning by wickets i-e choosing field and then win chasing the target by some wickets remaining"
   ]
  },
  {
   "cell_type": "markdown",
   "id": "ce0e0648",
   "metadata": {
    "papermill": {
     "duration": 0.031402,
     "end_time": "2023-04-18T21:15:29.987612",
     "exception": false,
     "start_time": "2023-04-18T21:15:29.956210",
     "status": "completed"
    },
    "tags": []
   },
   "source": [
    "# **STADIUM BEST FOR WINNING BY WICKETS**"
   ]
  },
  {
   "cell_type": "code",
   "execution_count": 40,
   "id": "8e3982a3",
   "metadata": {
    "execution": {
     "iopub.execute_input": "2023-04-18T21:15:30.053687Z",
     "iopub.status.busy": "2023-04-18T21:15:30.053208Z",
     "iopub.status.idle": "2023-04-18T21:15:30.064630Z",
     "shell.execute_reply": "2023-04-18T21:15:30.063531Z"
    },
    "papermill": {
     "duration": 0.04729,
     "end_time": "2023-04-18T21:15:30.067004",
     "exception": false,
     "start_time": "2023-04-18T21:15:30.019714",
     "status": "completed"
    },
    "tags": []
   },
   "outputs": [
    {
     "data": {
      "text/plain": [
       "Eden Gardens                                 45\n",
       "Feroz Shah Kotla                             37\n",
       "Wankhede Stadium                             37\n",
       "M Chinnaswamy Stadium                        36\n",
       "Rajiv Gandhi International Stadium, Uppal    35\n",
       "Name: venue, dtype: int64"
      ]
     },
     "execution_count": 40,
     "metadata": {},
     "output_type": "execute_result"
    }
   ],
   "source": [
    "df_1.venue[df_1.result == 'wickets'].value_counts().head(5)"
   ]
  },
  {
   "cell_type": "markdown",
   "id": "b22049bf",
   "metadata": {
    "papermill": {
     "duration": 0.031858,
     "end_time": "2023-04-18T21:15:30.131681",
     "exception": false,
     "start_time": "2023-04-18T21:15:30.099823",
     "status": "completed"
    },
    "tags": []
   },
   "source": [
    "# **STADIUM BEST FOR WINNING BY RUNS**"
   ]
  },
  {
   "cell_type": "code",
   "execution_count": 41,
   "id": "b1fb3e28",
   "metadata": {
    "execution": {
     "iopub.execute_input": "2023-04-18T21:15:30.198837Z",
     "iopub.status.busy": "2023-04-18T21:15:30.198346Z",
     "iopub.status.idle": "2023-04-18T21:15:30.208748Z",
     "shell.execute_reply": "2023-04-18T21:15:30.207732Z"
    },
    "papermill": {
     "duration": 0.047194,
     "end_time": "2023-04-18T21:15:30.210972",
     "exception": false,
     "start_time": "2023-04-18T21:15:30.163778",
     "status": "completed"
    },
    "tags": []
   },
   "outputs": [
    {
     "data": {
      "text/plain": [
       "Feroz Shah Kotla                             35\n",
       "Wankhede Stadium                             35\n",
       "MA Chidambaram Stadium, Chepauk              34\n",
       "Eden Gardens                                 32\n",
       "Rajiv Gandhi International Stadium, Uppal    28\n",
       "Name: venue, dtype: int64"
      ]
     },
     "execution_count": 41,
     "metadata": {},
     "output_type": "execute_result"
    }
   ],
   "source": [
    "df_1.venue[df_1.result == 'runs'].value_counts().head(5)"
   ]
  },
  {
   "cell_type": "markdown",
   "id": "f0d29ae5",
   "metadata": {
    "papermill": {
     "duration": 0.031821,
     "end_time": "2023-04-18T21:15:30.274830",
     "exception": false,
     "start_time": "2023-04-18T21:15:30.243009",
     "status": "completed"
    },
    "tags": []
   },
   "source": [
    "# **DOES HOMETOWN MAKE ANY DIFFERENCE?**"
   ]
  },
  {
   "cell_type": "code",
   "execution_count": 42,
   "id": "adfbb1ef",
   "metadata": {
    "execution": {
     "iopub.execute_input": "2023-04-18T21:15:30.341619Z",
     "iopub.status.busy": "2023-04-18T21:15:30.340782Z",
     "iopub.status.idle": "2023-04-18T21:15:30.368033Z",
     "shell.execute_reply": "2023-04-18T21:15:30.366315Z"
    },
    "papermill": {
     "duration": 0.063772,
     "end_time": "2023-04-18T21:15:30.370541",
     "exception": false,
     "start_time": "2023-04-18T21:15:30.306769",
     "status": "completed"
    },
    "tags": []
   },
   "outputs": [
    {
     "name": "stdout",
     "output_type": "stream",
     "text": [
      "Royal Challengers Bangalore - 0    M Chinnaswamy Stadium\n",
      "dtype: object\n",
      "Kings XI Punjab - 0    Punjab Cricket Association Stadium, Mohali\n",
      "dtype: object\n",
      "Delhi Daredevils - 0    Feroz Shah Kotla\n",
      "dtype: object\n",
      "Mumbai Indians - 0    Wankhede Stadium\n",
      "dtype: object\n",
      "Kolkata Knight Riders - 0    Eden Gardens\n",
      "dtype: object\n",
      "Rajasthan Royals - 0    Sawai Mansingh Stadium\n",
      "dtype: object\n",
      "Deccan Chargers - 0                   Barabati Stadium\n",
      "1         Dr DY Patil Sports Academy\n",
      "2                   Feroz Shah Kotla\n",
      "3                          Kingsmead\n",
      "4    MA Chidambaram Stadium, Chepauk\n",
      "5                    SuperSport Park\n",
      "dtype: object\n",
      "Chennai Super Kings - 0    MA Chidambaram Stadium, Chepauk\n",
      "dtype: object\n",
      "Kochi Tuskers Kerala - 0          Feroz Shah Kotla\n",
      "1    Holkar Cricket Stadium\n",
      "2             Nehru Stadium\n",
      "3          Wankhede Stadium\n",
      "dtype: object\n",
      "Pune Warriors - 0    Subrata Roy Sahara Stadium\n",
      "dtype: object\n",
      "Sunrisers Hyderabad - 0    Rajiv Gandhi International Stadium, Uppal\n",
      "dtype: object\n",
      "Gujarat Lions - 0                                         Eden Gardens\n",
      "1                                           Green Park\n",
      "2    Punjab Cricket Association IS Bindra Stadium, ...\n",
      "dtype: object\n",
      "Rising Pune Supergiant - 0    Maharashtra Cricket Association Stadium\n",
      "dtype: object\n",
      "Delhi Capitals - 0    Feroz Shah Kotla\n",
      "dtype: object\n"
     ]
    }
   ],
   "source": [
    "# winning at home town\n",
    "list1 = []\n",
    "for team in df_1.team1.unique():\n",
    "    list1.append(f'{team} - {df_1.venue[(df_1.toss_winner == team) & (df_1.winner == team)].mode()}')\n",
    "for a in list1:\n",
    "    print(a)"
   ]
  },
  {
   "cell_type": "markdown",
   "id": "f43bf231",
   "metadata": {
    "papermill": {
     "duration": 0.03419,
     "end_time": "2023-04-18T21:15:30.438108",
     "exception": false,
     "start_time": "2023-04-18T21:15:30.403918",
     "status": "completed"
    },
    "tags": []
   },
   "source": [
    "***YES, Hometown make the differnce as RCB KKR K XI PUNJAB and rest winning most matches in hometown***"
   ]
  },
  {
   "cell_type": "code",
   "execution_count": 43,
   "id": "e3c8d485",
   "metadata": {
    "execution": {
     "iopub.execute_input": "2023-04-18T21:15:30.506290Z",
     "iopub.status.busy": "2023-04-18T21:15:30.505454Z",
     "iopub.status.idle": "2023-04-18T21:15:30.514974Z",
     "shell.execute_reply": "2023-04-18T21:15:30.513803Z"
    },
    "papermill": {
     "duration": 0.046885,
     "end_time": "2023-04-18T21:15:30.517362",
     "exception": false,
     "start_time": "2023-04-18T21:15:30.470477",
     "status": "completed"
    },
    "tags": []
   },
   "outputs": [
    {
     "data": {
      "text/plain": [
       "0    Kolkata Knight Riders\n",
       "1           Mumbai Indians\n",
       "dtype: object"
      ]
     },
     "execution_count": 43,
     "metadata": {},
     "output_type": "execute_result"
    }
   ],
   "source": [
    "# best chasing team\n",
    "df_1.winner[df_1.result != 'runs'].mode()"
   ]
  },
  {
   "cell_type": "code",
   "execution_count": 44,
   "id": "0757a53f",
   "metadata": {
    "execution": {
     "iopub.execute_input": "2023-04-18T21:15:30.583873Z",
     "iopub.status.busy": "2023-04-18T21:15:30.583409Z",
     "iopub.status.idle": "2023-04-18T21:15:30.593152Z",
     "shell.execute_reply": "2023-04-18T21:15:30.592235Z"
    },
    "papermill": {
     "duration": 0.046081,
     "end_time": "2023-04-18T21:15:30.595333",
     "exception": false,
     "start_time": "2023-04-18T21:15:30.549252",
     "status": "completed"
    },
    "tags": []
   },
   "outputs": [
    {
     "data": {
      "text/plain": [
       "0    Mumbai Indians\n",
       "dtype: object"
      ]
     },
     "execution_count": 44,
     "metadata": {},
     "output_type": "execute_result"
    }
   ],
   "source": [
    "# best defending team\n",
    "df_1.winner[df_1.result != 'wickets'].mode()"
   ]
  },
  {
   "cell_type": "markdown",
   "id": "832c26a3",
   "metadata": {
    "papermill": {
     "duration": 0.035754,
     "end_time": "2023-04-18T21:15:30.663371",
     "exception": false,
     "start_time": "2023-04-18T21:15:30.627617",
     "status": "completed"
    },
    "tags": []
   },
   "source": [
    "# **COMPARISON OF TWO  PLAYERS**"
   ]
  },
  {
   "cell_type": "code",
   "execution_count": 45,
   "id": "d243020e",
   "metadata": {
    "execution": {
     "iopub.execute_input": "2023-04-18T21:15:30.731263Z",
     "iopub.status.busy": "2023-04-18T21:15:30.730764Z",
     "iopub.status.idle": "2023-04-18T21:15:30.736197Z",
     "shell.execute_reply": "2023-04-18T21:15:30.735281Z"
    },
    "papermill": {
     "duration": 0.042325,
     "end_time": "2023-04-18T21:15:30.738432",
     "exception": false,
     "start_time": "2023-04-18T21:15:30.696107",
     "status": "completed"
    },
    "tags": []
   },
   "outputs": [],
   "source": [
    "def runs_classification(df,batsman):\n",
    "    temp_df=  df[(df.batsman == batsman)  & (df.batsman_runs != 0)].batsman_runs.value_counts().sort_index()\n",
    "    return temp_df\n"
   ]
  },
  {
   "cell_type": "code",
   "execution_count": 46,
   "id": "971c54d4",
   "metadata": {
    "execution": {
     "iopub.execute_input": "2023-04-18T21:15:30.806530Z",
     "iopub.status.busy": "2023-04-18T21:15:30.804966Z",
     "iopub.status.idle": "2023-04-18T21:15:30.812568Z",
     "shell.execute_reply": "2023-04-18T21:15:30.811535Z"
    },
    "papermill": {
     "duration": 0.04422,
     "end_time": "2023-04-18T21:15:30.814978",
     "exception": false,
     "start_time": "2023-04-18T21:15:30.770758",
     "status": "completed"
    },
    "tags": []
   },
   "outputs": [],
   "source": [
    "def str_rate_through_over(df,player):\n",
    "    temp_df = df[df.batsman == player].groupby([\"over\", \"over_category\"])['batsman_runs'].sum().reset_index()\n",
    "    balls = df[(df.batsman == player) & (df.extras_type != 'wides')].groupby('over').ball.count()\n",
    "    temp_df['balls'] = balls\n",
    "    temp_df['average_str'] = round((temp_df['batsman_runs'] / temp_df['balls']) * 100,1) \n",
    "    return temp_df\n"
   ]
  },
  {
   "cell_type": "code",
   "execution_count": 47,
   "id": "4c418b2f",
   "metadata": {
    "execution": {
     "iopub.execute_input": "2023-04-18T21:15:30.883525Z",
     "iopub.status.busy": "2023-04-18T21:15:30.882648Z",
     "iopub.status.idle": "2023-04-18T21:15:31.722125Z",
     "shell.execute_reply": "2023-04-18T21:15:31.720884Z"
    },
    "papermill": {
     "duration": 0.877131,
     "end_time": "2023-04-18T21:15:31.724926",
     "exception": false,
     "start_time": "2023-04-18T21:15:30.847795",
     "status": "completed"
    },
    "tags": []
   },
   "outputs": [
    {
     "name": "stdout",
     "output_type": "stream",
     "text": [
      "                                                                   V Kohli vs AB de Villiers  \n",
      "                                      ----------------------------------------------------------------------------                                                            \n",
      "RUNS IN IPL: \n",
      "\n",
      "V Kohli:  5878🔺         AB de Villiers:  4849🔻\n",
      "\n",
      "MATCHES PLAYED: \n",
      "\n",
      "V Kohli:  184🔺          AB de Villiers:  156🔻\n",
      "\n",
      "STRIKE RATE: \n",
      "\n",
      "V Kohli:  130.74🔻       AB de Villiers: 151.91🔺\n",
      "\n",
      "AVERAGE RUNS IN AN INNINGS: \n",
      "\n",
      "V Kohli: 36.06🔻         AB de Villiers:  42.54🔺\n",
      "\n"
     ]
    },
    {
     "data": {
      "text/html": [
       "<div>                            <div id=\"91f521e4-877d-48e0-b34e-3eaa48afa7b6\" class=\"plotly-graph-div\" style=\"height:500px; width:1200px;\"></div>            <script type=\"text/javascript\">                require([\"plotly\"], function(Plotly) {                    window.PLOTLYENV=window.PLOTLYENV || {};                                    if (document.getElementById(\"91f521e4-877d-48e0-b34e-3eaa48afa7b6\")) {                    Plotly.newPlot(                        \"91f521e4-877d-48e0-b34e-3eaa48afa7b6\",                        [{\"labels\":[1,2,3,4,6],\"values\":[1919,346,13,504,202],\"type\":\"pie\",\"domain\":{\"x\":[0.0,0.45],\"y\":[0.0,1.0]},\"textfont\":{\"size\":10},\"marker\":{\"line\":{\"color\":\"#000000\",\"width\":2},\"colors\":[\"gold\",\"mediumturquoise\",\"darkorange\",\"lightgreen\"]},\"hoverinfo\":\"percent+label\",\"textinfo\":\"value\"},{\"labels\":[1,2,3,4,6],\"values\":[1333,249,16,390,235],\"type\":\"pie\",\"domain\":{\"x\":[0.55,1.0],\"y\":[0.0,1.0]},\"textfont\":{\"size\":10},\"marker\":{\"line\":{\"color\":\"#000000\",\"width\":2},\"colors\":[\"gold\",\"mediumturquoise\",\"darkorange\",\"lightgreen\"]},\"hoverinfo\":\"percent+label\",\"textinfo\":\"value\"}],                        {\"template\":{\"data\":{\"histogram2dcontour\":[{\"type\":\"histogram2dcontour\",\"colorbar\":{\"outlinewidth\":0,\"ticks\":\"\"},\"colorscale\":[[0.0,\"#0d0887\"],[0.1111111111111111,\"#46039f\"],[0.2222222222222222,\"#7201a8\"],[0.3333333333333333,\"#9c179e\"],[0.4444444444444444,\"#bd3786\"],[0.5555555555555556,\"#d8576b\"],[0.6666666666666666,\"#ed7953\"],[0.7777777777777778,\"#fb9f3a\"],[0.8888888888888888,\"#fdca26\"],[1.0,\"#f0f921\"]]}],\"choropleth\":[{\"type\":\"choropleth\",\"colorbar\":{\"outlinewidth\":0,\"ticks\":\"\"}}],\"histogram2d\":[{\"type\":\"histogram2d\",\"colorbar\":{\"outlinewidth\":0,\"ticks\":\"\"},\"colorscale\":[[0.0,\"#0d0887\"],[0.1111111111111111,\"#46039f\"],[0.2222222222222222,\"#7201a8\"],[0.3333333333333333,\"#9c179e\"],[0.4444444444444444,\"#bd3786\"],[0.5555555555555556,\"#d8576b\"],[0.6666666666666666,\"#ed7953\"],[0.7777777777777778,\"#fb9f3a\"],[0.8888888888888888,\"#fdca26\"],[1.0,\"#f0f921\"]]}],\"heatmap\":[{\"type\":\"heatmap\",\"colorbar\":{\"outlinewidth\":0,\"ticks\":\"\"},\"colorscale\":[[0.0,\"#0d0887\"],[0.1111111111111111,\"#46039f\"],[0.2222222222222222,\"#7201a8\"],[0.3333333333333333,\"#9c179e\"],[0.4444444444444444,\"#bd3786\"],[0.5555555555555556,\"#d8576b\"],[0.6666666666666666,\"#ed7953\"],[0.7777777777777778,\"#fb9f3a\"],[0.8888888888888888,\"#fdca26\"],[1.0,\"#f0f921\"]]}],\"heatmapgl\":[{\"type\":\"heatmapgl\",\"colorbar\":{\"outlinewidth\":0,\"ticks\":\"\"},\"colorscale\":[[0.0,\"#0d0887\"],[0.1111111111111111,\"#46039f\"],[0.2222222222222222,\"#7201a8\"],[0.3333333333333333,\"#9c179e\"],[0.4444444444444444,\"#bd3786\"],[0.5555555555555556,\"#d8576b\"],[0.6666666666666666,\"#ed7953\"],[0.7777777777777778,\"#fb9f3a\"],[0.8888888888888888,\"#fdca26\"],[1.0,\"#f0f921\"]]}],\"contourcarpet\":[{\"type\":\"contourcarpet\",\"colorbar\":{\"outlinewidth\":0,\"ticks\":\"\"}}],\"contour\":[{\"type\":\"contour\",\"colorbar\":{\"outlinewidth\":0,\"ticks\":\"\"},\"colorscale\":[[0.0,\"#0d0887\"],[0.1111111111111111,\"#46039f\"],[0.2222222222222222,\"#7201a8\"],[0.3333333333333333,\"#9c179e\"],[0.4444444444444444,\"#bd3786\"],[0.5555555555555556,\"#d8576b\"],[0.6666666666666666,\"#ed7953\"],[0.7777777777777778,\"#fb9f3a\"],[0.8888888888888888,\"#fdca26\"],[1.0,\"#f0f921\"]]}],\"surface\":[{\"type\":\"surface\",\"colorbar\":{\"outlinewidth\":0,\"ticks\":\"\"},\"colorscale\":[[0.0,\"#0d0887\"],[0.1111111111111111,\"#46039f\"],[0.2222222222222222,\"#7201a8\"],[0.3333333333333333,\"#9c179e\"],[0.4444444444444444,\"#bd3786\"],[0.5555555555555556,\"#d8576b\"],[0.6666666666666666,\"#ed7953\"],[0.7777777777777778,\"#fb9f3a\"],[0.8888888888888888,\"#fdca26\"],[1.0,\"#f0f921\"]]}],\"mesh3d\":[{\"type\":\"mesh3d\",\"colorbar\":{\"outlinewidth\":0,\"ticks\":\"\"}}],\"scatter\":[{\"fillpattern\":{\"fillmode\":\"overlay\",\"size\":10,\"solidity\":0.2},\"type\":\"scatter\"}],\"parcoords\":[{\"type\":\"parcoords\",\"line\":{\"colorbar\":{\"outlinewidth\":0,\"ticks\":\"\"}}}],\"scatterpolargl\":[{\"type\":\"scatterpolargl\",\"marker\":{\"colorbar\":{\"outlinewidth\":0,\"ticks\":\"\"}}}],\"bar\":[{\"error_x\":{\"color\":\"#2a3f5f\"},\"error_y\":{\"color\":\"#2a3f5f\"},\"marker\":{\"line\":{\"color\":\"#E5ECF6\",\"width\":0.5},\"pattern\":{\"fillmode\":\"overlay\",\"size\":10,\"solidity\":0.2}},\"type\":\"bar\"}],\"scattergeo\":[{\"type\":\"scattergeo\",\"marker\":{\"colorbar\":{\"outlinewidth\":0,\"ticks\":\"\"}}}],\"scatterpolar\":[{\"type\":\"scatterpolar\",\"marker\":{\"colorbar\":{\"outlinewidth\":0,\"ticks\":\"\"}}}],\"histogram\":[{\"marker\":{\"pattern\":{\"fillmode\":\"overlay\",\"size\":10,\"solidity\":0.2}},\"type\":\"histogram\"}],\"scattergl\":[{\"type\":\"scattergl\",\"marker\":{\"colorbar\":{\"outlinewidth\":0,\"ticks\":\"\"}}}],\"scatter3d\":[{\"type\":\"scatter3d\",\"line\":{\"colorbar\":{\"outlinewidth\":0,\"ticks\":\"\"}},\"marker\":{\"colorbar\":{\"outlinewidth\":0,\"ticks\":\"\"}}}],\"scattermapbox\":[{\"type\":\"scattermapbox\",\"marker\":{\"colorbar\":{\"outlinewidth\":0,\"ticks\":\"\"}}}],\"scatterternary\":[{\"type\":\"scatterternary\",\"marker\":{\"colorbar\":{\"outlinewidth\":0,\"ticks\":\"\"}}}],\"scattercarpet\":[{\"type\":\"scattercarpet\",\"marker\":{\"colorbar\":{\"outlinewidth\":0,\"ticks\":\"\"}}}],\"carpet\":[{\"aaxis\":{\"endlinecolor\":\"#2a3f5f\",\"gridcolor\":\"white\",\"linecolor\":\"white\",\"minorgridcolor\":\"white\",\"startlinecolor\":\"#2a3f5f\"},\"baxis\":{\"endlinecolor\":\"#2a3f5f\",\"gridcolor\":\"white\",\"linecolor\":\"white\",\"minorgridcolor\":\"white\",\"startlinecolor\":\"#2a3f5f\"},\"type\":\"carpet\"}],\"table\":[{\"cells\":{\"fill\":{\"color\":\"#EBF0F8\"},\"line\":{\"color\":\"white\"}},\"header\":{\"fill\":{\"color\":\"#C8D4E3\"},\"line\":{\"color\":\"white\"}},\"type\":\"table\"}],\"barpolar\":[{\"marker\":{\"line\":{\"color\":\"#E5ECF6\",\"width\":0.5},\"pattern\":{\"fillmode\":\"overlay\",\"size\":10,\"solidity\":0.2}},\"type\":\"barpolar\"}],\"pie\":[{\"automargin\":true,\"type\":\"pie\"}]},\"layout\":{\"autotypenumbers\":\"strict\",\"colorway\":[\"#636efa\",\"#EF553B\",\"#00cc96\",\"#ab63fa\",\"#FFA15A\",\"#19d3f3\",\"#FF6692\",\"#B6E880\",\"#FF97FF\",\"#FECB52\"],\"font\":{\"color\":\"#2a3f5f\"},\"hovermode\":\"closest\",\"hoverlabel\":{\"align\":\"left\"},\"paper_bgcolor\":\"white\",\"plot_bgcolor\":\"#E5ECF6\",\"polar\":{\"bgcolor\":\"#E5ECF6\",\"angularaxis\":{\"gridcolor\":\"white\",\"linecolor\":\"white\",\"ticks\":\"\"},\"radialaxis\":{\"gridcolor\":\"white\",\"linecolor\":\"white\",\"ticks\":\"\"}},\"ternary\":{\"bgcolor\":\"#E5ECF6\",\"aaxis\":{\"gridcolor\":\"white\",\"linecolor\":\"white\",\"ticks\":\"\"},\"baxis\":{\"gridcolor\":\"white\",\"linecolor\":\"white\",\"ticks\":\"\"},\"caxis\":{\"gridcolor\":\"white\",\"linecolor\":\"white\",\"ticks\":\"\"}},\"coloraxis\":{\"colorbar\":{\"outlinewidth\":0,\"ticks\":\"\"}},\"colorscale\":{\"sequential\":[[0.0,\"#0d0887\"],[0.1111111111111111,\"#46039f\"],[0.2222222222222222,\"#7201a8\"],[0.3333333333333333,\"#9c179e\"],[0.4444444444444444,\"#bd3786\"],[0.5555555555555556,\"#d8576b\"],[0.6666666666666666,\"#ed7953\"],[0.7777777777777778,\"#fb9f3a\"],[0.8888888888888888,\"#fdca26\"],[1.0,\"#f0f921\"]],\"sequentialminus\":[[0.0,\"#0d0887\"],[0.1111111111111111,\"#46039f\"],[0.2222222222222222,\"#7201a8\"],[0.3333333333333333,\"#9c179e\"],[0.4444444444444444,\"#bd3786\"],[0.5555555555555556,\"#d8576b\"],[0.6666666666666666,\"#ed7953\"],[0.7777777777777778,\"#fb9f3a\"],[0.8888888888888888,\"#fdca26\"],[1.0,\"#f0f921\"]],\"diverging\":[[0,\"#8e0152\"],[0.1,\"#c51b7d\"],[0.2,\"#de77ae\"],[0.3,\"#f1b6da\"],[0.4,\"#fde0ef\"],[0.5,\"#f7f7f7\"],[0.6,\"#e6f5d0\"],[0.7,\"#b8e186\"],[0.8,\"#7fbc41\"],[0.9,\"#4d9221\"],[1,\"#276419\"]]},\"xaxis\":{\"gridcolor\":\"white\",\"linecolor\":\"white\",\"ticks\":\"\",\"title\":{\"standoff\":15},\"zerolinecolor\":\"white\",\"automargin\":true,\"zerolinewidth\":2},\"yaxis\":{\"gridcolor\":\"white\",\"linecolor\":\"white\",\"ticks\":\"\",\"title\":{\"standoff\":15},\"zerolinecolor\":\"white\",\"automargin\":true,\"zerolinewidth\":2},\"scene\":{\"xaxis\":{\"backgroundcolor\":\"#E5ECF6\",\"gridcolor\":\"white\",\"linecolor\":\"white\",\"showbackground\":true,\"ticks\":\"\",\"zerolinecolor\":\"white\",\"gridwidth\":2},\"yaxis\":{\"backgroundcolor\":\"#E5ECF6\",\"gridcolor\":\"white\",\"linecolor\":\"white\",\"showbackground\":true,\"ticks\":\"\",\"zerolinecolor\":\"white\",\"gridwidth\":2},\"zaxis\":{\"backgroundcolor\":\"#E5ECF6\",\"gridcolor\":\"white\",\"linecolor\":\"white\",\"showbackground\":true,\"ticks\":\"\",\"zerolinecolor\":\"white\",\"gridwidth\":2}},\"shapedefaults\":{\"line\":{\"color\":\"#2a3f5f\"}},\"annotationdefaults\":{\"arrowcolor\":\"#2a3f5f\",\"arrowhead\":0,\"arrowwidth\":1},\"geo\":{\"bgcolor\":\"white\",\"landcolor\":\"#E5ECF6\",\"subunitcolor\":\"white\",\"showland\":true,\"showlakes\":true,\"lakecolor\":\"white\"},\"title\":{\"x\":0.05},\"mapbox\":{\"style\":\"light\"}}},\"annotations\":[{\"font\":{\"size\":16},\"showarrow\":false,\"text\":\"V Kohli\",\"x\":0.225,\"xanchor\":\"center\",\"xref\":\"paper\",\"y\":1.0,\"yanchor\":\"bottom\",\"yref\":\"paper\"},{\"font\":{\"size\":16},\"showarrow\":false,\"text\":\"AB de Villiers\",\"x\":0.775,\"xanchor\":\"center\",\"xref\":\"paper\",\"y\":1.0,\"yanchor\":\"bottom\",\"yref\":\"paper\"}],\"font\":{\"size\":13},\"title\":{\"text\":\"Runs Classification\"},\"legend\":{\"title\":{\"text\":\"RUNS\"}},\"width\":1200,\"height\":500},                        {\"responsive\": true}                    ).then(function(){\n",
       "                            \n",
       "var gd = document.getElementById('91f521e4-877d-48e0-b34e-3eaa48afa7b6');\n",
       "var x = new MutationObserver(function (mutations, observer) {{\n",
       "        var display = window.getComputedStyle(gd).display;\n",
       "        if (!display || display === 'none') {{\n",
       "            console.log([gd, 'removed!']);\n",
       "            Plotly.purge(gd);\n",
       "            observer.disconnect();\n",
       "        }}\n",
       "}});\n",
       "\n",
       "// Listen for the removal of the full notebook cells\n",
       "var notebookContainer = gd.closest('#notebook-container');\n",
       "if (notebookContainer) {{\n",
       "    x.observe(notebookContainer, {childList: true});\n",
       "}}\n",
       "\n",
       "// Listen for the clearing of the current output cell\n",
       "var outputEl = gd.closest('.output');\n",
       "if (outputEl) {{\n",
       "    x.observe(outputEl, {childList: true});\n",
       "}}\n",
       "\n",
       "                        })                };                });            </script>        </div>"
      ]
     },
     "metadata": {},
     "output_type": "display_data"
    },
    {
     "data": {
      "text/html": [
       "<div>                            <div id=\"10364bd0-bb3e-4314-9349-30c5c96518af\" class=\"plotly-graph-div\" style=\"height:400px; width:1200px;\"></div>            <script type=\"text/javascript\">                require([\"plotly\"], function(Plotly) {                    window.PLOTLYENV=window.PLOTLYENV || {};                                    if (document.getElementById(\"10364bd0-bb3e-4314-9349-30c5c96518af\")) {                    Plotly.newPlot(                        \"10364bd0-bb3e-4314-9349-30c5c96518af\",                        [{\"legendgroup\":\"1\",\"name\":\"Powerplay\",\"x\":[0,1,2,3,4],\"y\":[107.3,109.7,119.3,124.6,110.7],\"type\":\"bar\",\"xaxis\":\"x\",\"yaxis\":\"y\"},{\"legendgroup\":\"1\",\"name\":\"Mid Overs\",\"x\":[5,6,7,8,9,10,11,12,13,14],\"y\":[113.5,96.7,114.8,125.9,119.6,121.5,130.7,130.3,136.2,151.2],\"type\":\"bar\",\"xaxis\":\"x\",\"yaxis\":\"y\"},{\"legendgroup\":\"1\",\"name\":\"Death Overs\",\"x\":[15,16,17,18,19],\"y\":[155.5,180.8,201.5,230.5,237.5],\"type\":\"bar\",\"xaxis\":\"x\",\"yaxis\":\"y\"},{\"legendgroup\":\"2\",\"name\":\"Powerplay\",\"x\":[0,1,2,3,4],\"y\":[129.4,102.6,80.8,113.4,135.5],\"type\":\"bar\",\"xaxis\":\"x2\",\"yaxis\":\"y2\"},{\"legendgroup\":\"2\",\"name\":\"Mid Overs\",\"x\":[5,6,7,8,9,10,11,12,13,14],\"y\":[131.2,110.8,111.1,120.5,133.2,133.0,135.2,141.3,150.8,163.3],\"type\":\"bar\",\"xaxis\":\"x2\",\"yaxis\":\"y2\"},{\"legendgroup\":\"2\",\"name\":\"Death Overs\",\"x\":[15,16,17,18,19],\"y\":[197.1,193.3,239.1,270.3,248.6],\"type\":\"bar\",\"xaxis\":\"x2\",\"yaxis\":\"y2\"}],                        {\"template\":{\"data\":{\"histogram2dcontour\":[{\"type\":\"histogram2dcontour\",\"colorbar\":{\"outlinewidth\":0,\"ticks\":\"\"},\"colorscale\":[[0.0,\"#0d0887\"],[0.1111111111111111,\"#46039f\"],[0.2222222222222222,\"#7201a8\"],[0.3333333333333333,\"#9c179e\"],[0.4444444444444444,\"#bd3786\"],[0.5555555555555556,\"#d8576b\"],[0.6666666666666666,\"#ed7953\"],[0.7777777777777778,\"#fb9f3a\"],[0.8888888888888888,\"#fdca26\"],[1.0,\"#f0f921\"]]}],\"choropleth\":[{\"type\":\"choropleth\",\"colorbar\":{\"outlinewidth\":0,\"ticks\":\"\"}}],\"histogram2d\":[{\"type\":\"histogram2d\",\"colorbar\":{\"outlinewidth\":0,\"ticks\":\"\"},\"colorscale\":[[0.0,\"#0d0887\"],[0.1111111111111111,\"#46039f\"],[0.2222222222222222,\"#7201a8\"],[0.3333333333333333,\"#9c179e\"],[0.4444444444444444,\"#bd3786\"],[0.5555555555555556,\"#d8576b\"],[0.6666666666666666,\"#ed7953\"],[0.7777777777777778,\"#fb9f3a\"],[0.8888888888888888,\"#fdca26\"],[1.0,\"#f0f921\"]]}],\"heatmap\":[{\"type\":\"heatmap\",\"colorbar\":{\"outlinewidth\":0,\"ticks\":\"\"},\"colorscale\":[[0.0,\"#0d0887\"],[0.1111111111111111,\"#46039f\"],[0.2222222222222222,\"#7201a8\"],[0.3333333333333333,\"#9c179e\"],[0.4444444444444444,\"#bd3786\"],[0.5555555555555556,\"#d8576b\"],[0.6666666666666666,\"#ed7953\"],[0.7777777777777778,\"#fb9f3a\"],[0.8888888888888888,\"#fdca26\"],[1.0,\"#f0f921\"]]}],\"heatmapgl\":[{\"type\":\"heatmapgl\",\"colorbar\":{\"outlinewidth\":0,\"ticks\":\"\"},\"colorscale\":[[0.0,\"#0d0887\"],[0.1111111111111111,\"#46039f\"],[0.2222222222222222,\"#7201a8\"],[0.3333333333333333,\"#9c179e\"],[0.4444444444444444,\"#bd3786\"],[0.5555555555555556,\"#d8576b\"],[0.6666666666666666,\"#ed7953\"],[0.7777777777777778,\"#fb9f3a\"],[0.8888888888888888,\"#fdca26\"],[1.0,\"#f0f921\"]]}],\"contourcarpet\":[{\"type\":\"contourcarpet\",\"colorbar\":{\"outlinewidth\":0,\"ticks\":\"\"}}],\"contour\":[{\"type\":\"contour\",\"colorbar\":{\"outlinewidth\":0,\"ticks\":\"\"},\"colorscale\":[[0.0,\"#0d0887\"],[0.1111111111111111,\"#46039f\"],[0.2222222222222222,\"#7201a8\"],[0.3333333333333333,\"#9c179e\"],[0.4444444444444444,\"#bd3786\"],[0.5555555555555556,\"#d8576b\"],[0.6666666666666666,\"#ed7953\"],[0.7777777777777778,\"#fb9f3a\"],[0.8888888888888888,\"#fdca26\"],[1.0,\"#f0f921\"]]}],\"surface\":[{\"type\":\"surface\",\"colorbar\":{\"outlinewidth\":0,\"ticks\":\"\"},\"colorscale\":[[0.0,\"#0d0887\"],[0.1111111111111111,\"#46039f\"],[0.2222222222222222,\"#7201a8\"],[0.3333333333333333,\"#9c179e\"],[0.4444444444444444,\"#bd3786\"],[0.5555555555555556,\"#d8576b\"],[0.6666666666666666,\"#ed7953\"],[0.7777777777777778,\"#fb9f3a\"],[0.8888888888888888,\"#fdca26\"],[1.0,\"#f0f921\"]]}],\"mesh3d\":[{\"type\":\"mesh3d\",\"colorbar\":{\"outlinewidth\":0,\"ticks\":\"\"}}],\"scatter\":[{\"fillpattern\":{\"fillmode\":\"overlay\",\"size\":10,\"solidity\":0.2},\"type\":\"scatter\"}],\"parcoords\":[{\"type\":\"parcoords\",\"line\":{\"colorbar\":{\"outlinewidth\":0,\"ticks\":\"\"}}}],\"scatterpolargl\":[{\"type\":\"scatterpolargl\",\"marker\":{\"colorbar\":{\"outlinewidth\":0,\"ticks\":\"\"}}}],\"bar\":[{\"error_x\":{\"color\":\"#2a3f5f\"},\"error_y\":{\"color\":\"#2a3f5f\"},\"marker\":{\"line\":{\"color\":\"#E5ECF6\",\"width\":0.5},\"pattern\":{\"fillmode\":\"overlay\",\"size\":10,\"solidity\":0.2}},\"type\":\"bar\"}],\"scattergeo\":[{\"type\":\"scattergeo\",\"marker\":{\"colorbar\":{\"outlinewidth\":0,\"ticks\":\"\"}}}],\"scatterpolar\":[{\"type\":\"scatterpolar\",\"marker\":{\"colorbar\":{\"outlinewidth\":0,\"ticks\":\"\"}}}],\"histogram\":[{\"marker\":{\"pattern\":{\"fillmode\":\"overlay\",\"size\":10,\"solidity\":0.2}},\"type\":\"histogram\"}],\"scattergl\":[{\"type\":\"scattergl\",\"marker\":{\"colorbar\":{\"outlinewidth\":0,\"ticks\":\"\"}}}],\"scatter3d\":[{\"type\":\"scatter3d\",\"line\":{\"colorbar\":{\"outlinewidth\":0,\"ticks\":\"\"}},\"marker\":{\"colorbar\":{\"outlinewidth\":0,\"ticks\":\"\"}}}],\"scattermapbox\":[{\"type\":\"scattermapbox\",\"marker\":{\"colorbar\":{\"outlinewidth\":0,\"ticks\":\"\"}}}],\"scatterternary\":[{\"type\":\"scatterternary\",\"marker\":{\"colorbar\":{\"outlinewidth\":0,\"ticks\":\"\"}}}],\"scattercarpet\":[{\"type\":\"scattercarpet\",\"marker\":{\"colorbar\":{\"outlinewidth\":0,\"ticks\":\"\"}}}],\"carpet\":[{\"aaxis\":{\"endlinecolor\":\"#2a3f5f\",\"gridcolor\":\"white\",\"linecolor\":\"white\",\"minorgridcolor\":\"white\",\"startlinecolor\":\"#2a3f5f\"},\"baxis\":{\"endlinecolor\":\"#2a3f5f\",\"gridcolor\":\"white\",\"linecolor\":\"white\",\"minorgridcolor\":\"white\",\"startlinecolor\":\"#2a3f5f\"},\"type\":\"carpet\"}],\"table\":[{\"cells\":{\"fill\":{\"color\":\"#EBF0F8\"},\"line\":{\"color\":\"white\"}},\"header\":{\"fill\":{\"color\":\"#C8D4E3\"},\"line\":{\"color\":\"white\"}},\"type\":\"table\"}],\"barpolar\":[{\"marker\":{\"line\":{\"color\":\"#E5ECF6\",\"width\":0.5},\"pattern\":{\"fillmode\":\"overlay\",\"size\":10,\"solidity\":0.2}},\"type\":\"barpolar\"}],\"pie\":[{\"automargin\":true,\"type\":\"pie\"}]},\"layout\":{\"autotypenumbers\":\"strict\",\"colorway\":[\"#636efa\",\"#EF553B\",\"#00cc96\",\"#ab63fa\",\"#FFA15A\",\"#19d3f3\",\"#FF6692\",\"#B6E880\",\"#FF97FF\",\"#FECB52\"],\"font\":{\"color\":\"#2a3f5f\"},\"hovermode\":\"closest\",\"hoverlabel\":{\"align\":\"left\"},\"paper_bgcolor\":\"white\",\"plot_bgcolor\":\"#E5ECF6\",\"polar\":{\"bgcolor\":\"#E5ECF6\",\"angularaxis\":{\"gridcolor\":\"white\",\"linecolor\":\"white\",\"ticks\":\"\"},\"radialaxis\":{\"gridcolor\":\"white\",\"linecolor\":\"white\",\"ticks\":\"\"}},\"ternary\":{\"bgcolor\":\"#E5ECF6\",\"aaxis\":{\"gridcolor\":\"white\",\"linecolor\":\"white\",\"ticks\":\"\"},\"baxis\":{\"gridcolor\":\"white\",\"linecolor\":\"white\",\"ticks\":\"\"},\"caxis\":{\"gridcolor\":\"white\",\"linecolor\":\"white\",\"ticks\":\"\"}},\"coloraxis\":{\"colorbar\":{\"outlinewidth\":0,\"ticks\":\"\"}},\"colorscale\":{\"sequential\":[[0.0,\"#0d0887\"],[0.1111111111111111,\"#46039f\"],[0.2222222222222222,\"#7201a8\"],[0.3333333333333333,\"#9c179e\"],[0.4444444444444444,\"#bd3786\"],[0.5555555555555556,\"#d8576b\"],[0.6666666666666666,\"#ed7953\"],[0.7777777777777778,\"#fb9f3a\"],[0.8888888888888888,\"#fdca26\"],[1.0,\"#f0f921\"]],\"sequentialminus\":[[0.0,\"#0d0887\"],[0.1111111111111111,\"#46039f\"],[0.2222222222222222,\"#7201a8\"],[0.3333333333333333,\"#9c179e\"],[0.4444444444444444,\"#bd3786\"],[0.5555555555555556,\"#d8576b\"],[0.6666666666666666,\"#ed7953\"],[0.7777777777777778,\"#fb9f3a\"],[0.8888888888888888,\"#fdca26\"],[1.0,\"#f0f921\"]],\"diverging\":[[0,\"#8e0152\"],[0.1,\"#c51b7d\"],[0.2,\"#de77ae\"],[0.3,\"#f1b6da\"],[0.4,\"#fde0ef\"],[0.5,\"#f7f7f7\"],[0.6,\"#e6f5d0\"],[0.7,\"#b8e186\"],[0.8,\"#7fbc41\"],[0.9,\"#4d9221\"],[1,\"#276419\"]]},\"xaxis\":{\"gridcolor\":\"white\",\"linecolor\":\"white\",\"ticks\":\"\",\"title\":{\"standoff\":15},\"zerolinecolor\":\"white\",\"automargin\":true,\"zerolinewidth\":2},\"yaxis\":{\"gridcolor\":\"white\",\"linecolor\":\"white\",\"ticks\":\"\",\"title\":{\"standoff\":15},\"zerolinecolor\":\"white\",\"automargin\":true,\"zerolinewidth\":2},\"scene\":{\"xaxis\":{\"backgroundcolor\":\"#E5ECF6\",\"gridcolor\":\"white\",\"linecolor\":\"white\",\"showbackground\":true,\"ticks\":\"\",\"zerolinecolor\":\"white\",\"gridwidth\":2},\"yaxis\":{\"backgroundcolor\":\"#E5ECF6\",\"gridcolor\":\"white\",\"linecolor\":\"white\",\"showbackground\":true,\"ticks\":\"\",\"zerolinecolor\":\"white\",\"gridwidth\":2},\"zaxis\":{\"backgroundcolor\":\"#E5ECF6\",\"gridcolor\":\"white\",\"linecolor\":\"white\",\"showbackground\":true,\"ticks\":\"\",\"zerolinecolor\":\"white\",\"gridwidth\":2}},\"shapedefaults\":{\"line\":{\"color\":\"#2a3f5f\"}},\"annotationdefaults\":{\"arrowcolor\":\"#2a3f5f\",\"arrowhead\":0,\"arrowwidth\":1},\"geo\":{\"bgcolor\":\"white\",\"landcolor\":\"#E5ECF6\",\"subunitcolor\":\"white\",\"showland\":true,\"showlakes\":true,\"lakecolor\":\"white\"},\"title\":{\"x\":0.05},\"mapbox\":{\"style\":\"light\"}}},\"xaxis\":{\"anchor\":\"y\",\"domain\":[0.0,0.45],\"title\":{\"text\":\"OVERS\"}},\"yaxis\":{\"anchor\":\"x\",\"domain\":[0.0,1.0],\"title\":{\"text\":\"STRIKE RATE\"},\"range\":[0,300]},\"xaxis2\":{\"anchor\":\"y2\",\"domain\":[0.55,1.0],\"title\":{\"text\":\"OVERS\"}},\"yaxis2\":{\"anchor\":\"x2\",\"domain\":[0.0,1.0],\"title\":{\"text\":\"STRIKE RATE\"},\"range\":[0,300]},\"annotations\":[{\"font\":{\"size\":16},\"showarrow\":false,\"text\":\"V Kohli\",\"x\":0.225,\"xanchor\":\"center\",\"xref\":\"paper\",\"y\":1.0,\"yanchor\":\"bottom\",\"yref\":\"paper\"},{\"font\":{\"size\":16},\"showarrow\":false,\"text\":\"AB de Villiers\",\"x\":0.775,\"xanchor\":\"center\",\"xref\":\"paper\",\"y\":1.0,\"yanchor\":\"bottom\",\"yref\":\"paper\"}],\"font\":{\"size\":13},\"title\":{\"text\":\"AVERAGE STRIKE RATE THROUGHT THE OVERS\"},\"legend\":{\"title\":{\"text\":\"OVER CATEGORY\"}},\"width\":1200,\"height\":400},                        {\"responsive\": true}                    ).then(function(){\n",
       "                            \n",
       "var gd = document.getElementById('10364bd0-bb3e-4314-9349-30c5c96518af');\n",
       "var x = new MutationObserver(function (mutations, observer) {{\n",
       "        var display = window.getComputedStyle(gd).display;\n",
       "        if (!display || display === 'none') {{\n",
       "            console.log([gd, 'removed!']);\n",
       "            Plotly.purge(gd);\n",
       "            observer.disconnect();\n",
       "        }}\n",
       "}});\n",
       "\n",
       "// Listen for the removal of the full notebook cells\n",
       "var notebookContainer = gd.closest('#notebook-container');\n",
       "if (notebookContainer) {{\n",
       "    x.observe(notebookContainer, {childList: true});\n",
       "}}\n",
       "\n",
       "// Listen for the clearing of the current output cell\n",
       "var outputEl = gd.closest('.output');\n",
       "if (outputEl) {{\n",
       "    x.observe(outputEl, {childList: true});\n",
       "}}\n",
       "\n",
       "                        })                };                });            </script>        </div>"
      ]
     },
     "metadata": {},
     "output_type": "display_data"
    }
   ],
   "source": [
    "def subplots(df,batsman1, batsman2):\n",
    "    \n",
    "    from plotly.subplots import make_subplots\n",
    "    fig1 = make_subplots(rows=1, cols=2, specs=[[{\"type\": \"pie\"}, {\"type\": \"pie\"}]], subplot_titles=(f\"{batsman1}\", f\"{batsman2}\"))\n",
    "    fig2 = make_subplots(rows=1, cols=2, subplot_titles=(f\"{batsman1}\", f\"{batsman2}\"))\n",
    "    \n",
    "    print(f\"                                                                   {batsman1} vs {batsman2}  \")\n",
    "    print(\"                                      ----------------------------------------------------------------------------                                                            \")\n",
    "     \n",
    "     #runs\n",
    "    \n",
    "    print(\"RUNS IN IPL: \\n\")\n",
    "    print(f\"{batsman1}:  {df[df.batsman == batsman1].batsman_runs.sum()}🔺         {batsman2}:  {df[df.batsman == batsman2].batsman_runs.sum()}🔻\\n\")\n",
    "     \n",
    "      #Matches of players\n",
    "    print(\"MATCHES PLAYED: \\n\")\n",
    "    print(f\"{batsman1}:  {df[df.batsman == batsman1].id.nunique()}🔺          {batsman2}:  {df[df.batsman == batsman2].id.nunique()}🔻\\n\")\n",
    "    \n",
    "      #strike rate\n",
    "    print(\"STRIKE RATE: \\n\")\n",
    "    print(f\"{batsman1}:  {round((df[(df.batsman == batsman1)].batsman_runs.sum() / df[(df.batsman == batsman1) & (df.extras_type != 'wides')].ball.count()) * 100, 2)}🔻       {batsman2}: {round((df[(df.batsman == batsman2)].batsman_runs.sum() / df[(df.batsman == batsman2) & (df.extras_type != 'wides')].ball.count())* 100 ,2)}🔺\\n\")\n",
    "    \n",
    "      #average   \n",
    "    print(\"AVERAGE RUNS IN AN INNINGS: \\n\")\n",
    "    dismissal1 = df[(df.batsman == batsman1) & (df.player_dismissed.isnull() == False)].player_dismissed.count()\n",
    "    score1 = df[df.batsman == batsman1].batsman_runs.sum()\n",
    "    dismissal2 = df[(df.batsman == batsman2) & (df.player_dismissed.isnull() == False)].player_dismissed.count()\n",
    "    score2 = df[df.batsman == batsman2].batsman_runs.sum()\n",
    "    \n",
    "    print(f\"{batsman1}: {round(score1 / dismissal1, 2)}🔻         {batsman2}:  {round(score2 / dismissal2, 2)}🔺\\n\")\n",
    "    \n",
    "\n",
    "\n",
    "    \n",
    "      # runs classififcation\n",
    "    batsman_one = runs_classification(df, batsman1)\n",
    "    batsman_two = runs_classification(df, batsman2)\n",
    "    fig1.add_trace(go.Pie(labels = batsman_one.index, values = batsman_one.values), row = 1, col= 1)\n",
    "    fig1.add_trace(go.Pie(labels = batsman_two.index, values = batsman_two.values), row = 1, col= 2)\n",
    "    \n",
    "    fig1.update_traces(hoverinfo='percent+label', textinfo='value', textfont_size=10,\n",
    "                  marker=dict(colors =  ['gold', 'mediumturquoise', 'darkorange', 'lightgreen']\n",
    "                , line=dict(color='#000000', width=2)))\n",
    "    \n",
    "    fig1.update_layout(\n",
    "    title=\"Runs Classification\",\n",
    "    legend_title=\"RUNS\",\n",
    "    font=dict(\n",
    "    size = 13),width = 1200, height = 500)\n",
    "    fig1.show()\n",
    "    \n",
    "    \n",
    "      # strike over the overs\n",
    "    batsman_one = str_rate_through_over(df, batsman1)\n",
    "    batsman_two = str_rate_through_over(df, batsman2)\n",
    "    fig2.append_trace(go.Bar(name = \"Powerplay\",x = batsman_one.query(\"over < 5\").over, y = batsman_one.query(\"over < 5\").average_str, legendgroup = '1'),row = 1, col= 1)\n",
    "    fig2.append_trace(go.Bar(name = \"Mid Overs\",x = batsman_one.query(\"over >= 5 and over <15\").over, y = batsman_one.query(\"over >= 5 and over <15\").average_str, legendgroup = '1'),row = 1, col= 1)\n",
    "    fig2.append_trace(go.Bar(name = \"Death Overs\",x = batsman_one.query(\"over >= 15\").over, y = batsman_one.query(\"over >= 15\").average_str, legendgroup = '1'),row = 1, col= 1)\n",
    "    fig2.update_yaxes(range = [0,300], title_text = \"STRIKE RATE\")\n",
    "    fig2.update_xaxes(title_text = \"OVERS\")\n",
    "    \n",
    "    fig2.append_trace(go.Bar(name = \"Powerplay\",x = batsman_two.query(\"over < 5\").over, y = batsman_two.query(\"over < 5\").average_str, legendgroup = '2'),row = 1, col= 2)\n",
    "    fig2.append_trace(go.Bar(name = \"Mid Overs\",x = batsman_two.query(\"over >= 5 and over <15\").over, y = batsman_two.query(\"over >= 5 and over <15\").average_str, legendgroup = '2'),row = 1, col= 2)\n",
    "    fig2.append_trace(go.Bar(name = \"Death Overs\",x = batsman_two.query(\"over >= 15\").over, y = batsman_two.query(\"over >= 15\").average_str, legendgroup = '2'),row = 1, col= 2)\n",
    "    \n",
    "    \n",
    "    fig2.update_layout(\n",
    "    title=\"AVERAGE STRIKE RATE THROUGHT THE OVERS\",\n",
    "    legend_title=\"OVER CATEGORY\",\n",
    "    font=dict(\n",
    "    size = 13),width = 1200, height = 400)\n",
    "    fig2.update_layout(\n",
    "    )\n",
    "    \n",
    "    fig2.show()\n",
    "\n",
    "subplots(df_2, \"V Kohli\", \"AB de Villiers\")    "
   ]
  },
  {
   "cell_type": "code",
   "execution_count": null,
   "id": "8fbd7105",
   "metadata": {
    "papermill": {
     "duration": 0.036632,
     "end_time": "2023-04-18T21:15:31.796688",
     "exception": false,
     "start_time": "2023-04-18T21:15:31.760056",
     "status": "completed"
    },
    "tags": []
   },
   "outputs": [],
   "source": []
  },
  {
   "cell_type": "code",
   "execution_count": null,
   "id": "89976164",
   "metadata": {
    "papermill": {
     "duration": 0.032874,
     "end_time": "2023-04-18T21:15:31.862617",
     "exception": false,
     "start_time": "2023-04-18T21:15:31.829743",
     "status": "completed"
    },
    "tags": []
   },
   "outputs": [],
   "source": []
  }
 ],
 "metadata": {
  "kernelspec": {
   "display_name": "Python 3",
   "language": "python",
   "name": "python3"
  },
  "language_info": {
   "codemirror_mode": {
    "name": "ipython",
    "version": 3
   },
   "file_extension": ".py",
   "mimetype": "text/x-python",
   "name": "python",
   "nbconvert_exporter": "python",
   "pygments_lexer": "ipython3",
   "version": "3.7.12"
  },
  "papermill": {
   "default_parameters": {},
   "duration": 29.621709,
   "end_time": "2023-04-18T21:15:33.121328",
   "environment_variables": {},
   "exception": null,
   "input_path": "__notebook__.ipynb",
   "output_path": "__notebook__.ipynb",
   "parameters": {},
   "start_time": "2023-04-18T21:15:03.499619",
   "version": "2.4.0"
  }
 },
 "nbformat": 4,
 "nbformat_minor": 5
}
